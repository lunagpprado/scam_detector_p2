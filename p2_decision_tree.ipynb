{
 "cells": [
  {
   "cell_type": "markdown",
   "id": "a1c0a0e4-2849-4a79-9b32-ee42c82b5232",
   "metadata": {},
   "source": [
    "# Scam Detector: Decision Tree"
   ]
  },
  {
   "cell_type": "markdown",
   "id": "0904a70d-a2f8-40e9-a4f5-ad7e7edb9011",
   "metadata": {},
   "source": [
    "    This Jupyter Notebook will be used to run a Decision Tree Algorithm to predict if a given email is a scam or a ham(a normal email)."
   ]
  },
  {
   "cell_type": "markdown",
   "id": "7158aa78-4c8c-45f5-af34-15071349526a",
   "metadata": {
    "tags": []
   },
   "source": [
    "## Import Packages"
   ]
  },
  {
   "cell_type": "code",
   "execution_count": 60,
   "id": "3bf4d050-2499-4995-820a-c0d13d2f1a6c",
   "metadata": {
    "tags": []
   },
   "outputs": [],
   "source": [
    "#import the packages we need\n",
    "import numpy as np\n",
    "import pandas as pd\n",
    "import matplotlib.pyplot as plt\n",
    "from sklearn.feature_extraction.text import TfidfVectorizer"
   ]
  },
  {
   "cell_type": "markdown",
   "id": "bc74f965-4e22-40d8-a5e8-8dbefe0a056e",
   "metadata": {},
   "source": [
    "## Retrieve Data"
   ]
  },
  {
   "cell_type": "code",
   "execution_count": 61,
   "id": "86056790-d9a7-4865-8a6b-d8441a8ff176",
   "metadata": {
    "tags": []
   },
   "outputs": [
    {
     "data": {
      "text/html": [
       "<div>\n",
       "<style scoped>\n",
       "    .dataframe tbody tr th:only-of-type {\n",
       "        vertical-align: middle;\n",
       "    }\n",
       "\n",
       "    .dataframe tbody tr th {\n",
       "        vertical-align: top;\n",
       "    }\n",
       "\n",
       "    .dataframe thead th {\n",
       "        text-align: right;\n",
       "    }\n",
       "</style>\n",
       "<table border=\"1\" class=\"dataframe\">\n",
       "  <thead>\n",
       "    <tr style=\"text-align: right;\">\n",
       "      <th></th>\n",
       "      <th>sender</th>\n",
       "      <th>receiver</th>\n",
       "      <th>subject</th>\n",
       "      <th>body</th>\n",
       "      <th>urls</th>\n",
       "      <th>label</th>\n",
       "    </tr>\n",
       "  </thead>\n",
       "  <tbody>\n",
       "    <tr>\n",
       "      <th>0</th>\n",
       "      <td>Young Esposito &lt;Young@iworld.de&gt;</td>\n",
       "      <td>user4@gvc.ceas-challenge.cc</td>\n",
       "      <td>Never agree to be a loser</td>\n",
       "      <td>Buck up, your troubles caused by small dimensi...</td>\n",
       "      <td>1</td>\n",
       "      <td>1</td>\n",
       "    </tr>\n",
       "    <tr>\n",
       "      <th>1</th>\n",
       "      <td>Mok &lt;ipline's1983@icable.ph&gt;</td>\n",
       "      <td>user2.2@gvc.ceas-challenge.cc</td>\n",
       "      <td>Befriend Jenna Jameson</td>\n",
       "      <td>\\nUpgrade your sex and pleasures with these te...</td>\n",
       "      <td>1</td>\n",
       "      <td>1</td>\n",
       "    </tr>\n",
       "    <tr>\n",
       "      <th>2</th>\n",
       "      <td>Daily Top 10 &lt;Karmandeep-opengevl@universalnet...</td>\n",
       "      <td>user2.9@gvc.ceas-challenge.cc</td>\n",
       "      <td>CNN.com Daily Top 10</td>\n",
       "      <td>&gt;+=+=+=+=+=+=+=+=+=+=+=+=+=+=+=+=+=+=+=+=+=+=+...</td>\n",
       "      <td>1</td>\n",
       "      <td>1</td>\n",
       "    </tr>\n",
       "    <tr>\n",
       "      <th>3</th>\n",
       "      <td>Michael Parker &lt;ivqrnai@pobox.com&gt;</td>\n",
       "      <td>SpamAssassin Dev &lt;xrh@spamassassin.apache.org&gt;</td>\n",
       "      <td>Re: svn commit: r619753 - in /spamassassin/tru...</td>\n",
       "      <td>Would anyone object to removing .so from this ...</td>\n",
       "      <td>1</td>\n",
       "      <td>0</td>\n",
       "    </tr>\n",
       "    <tr>\n",
       "      <th>4</th>\n",
       "      <td>Gretchen Suggs &lt;externalsep1@loanofficertool.com&gt;</td>\n",
       "      <td>user2.2@gvc.ceas-challenge.cc</td>\n",
       "      <td>SpecialPricesPharmMoreinfo</td>\n",
       "      <td>\\nWelcomeFastShippingCustomerSupport\\nhttp://7...</td>\n",
       "      <td>1</td>\n",
       "      <td>1</td>\n",
       "    </tr>\n",
       "    <tr>\n",
       "      <th>5</th>\n",
       "      <td>Caroline Aragon &lt;dwthaidomainnamesm@thaidomain...</td>\n",
       "      <td>user7-ext5@gvc.ceas-challenge.cc</td>\n",
       "      <td>From Caroline Aragon</td>\n",
       "      <td>\\n\\n\\n\\n\\nYo wu urS mo ou go rc ebo eForM rgi ...</td>\n",
       "      <td>0</td>\n",
       "      <td>1</td>\n",
       "    </tr>\n",
       "    <tr>\n",
       "      <th>6</th>\n",
       "      <td>Replica Watches &lt;jhorton@thebakercompanies.com&gt;</td>\n",
       "      <td>user2.10@gvc.ceas-challenge.cc</td>\n",
       "      <td>Replica Watches</td>\n",
       "      <td>We have fake Swiss Men's and Ladie's Replica \\...</td>\n",
       "      <td>0</td>\n",
       "      <td>1</td>\n",
       "    </tr>\n",
       "    <tr>\n",
       "      <th>7</th>\n",
       "      <td>Daily Top 10 &lt;acidirev_1972@tcwpg.com&gt;</td>\n",
       "      <td>user2.3@gvc.ceas-challenge.cc</td>\n",
       "      <td>CNN.com Daily Top 10</td>\n",
       "      <td>&gt;+=+=+=+=+=+=+=+=+=+=+=+=+=+=+=+=+=+=+=+=+=+=+...</td>\n",
       "      <td>1</td>\n",
       "      <td>1</td>\n",
       "    </tr>\n",
       "    <tr>\n",
       "      <th>8</th>\n",
       "      <td>qydlqcws-iacfym@issues.apache.org</td>\n",
       "      <td>xrh@spamassassin.apache.org</td>\n",
       "      <td>[Bug 5780] URI processing turns uuencoded stri...</td>\n",
       "      <td>http://issues.apache.org/SpamAssassin/show_bug...</td>\n",
       "      <td>1</td>\n",
       "      <td>0</td>\n",
       "    </tr>\n",
       "    <tr>\n",
       "      <th>9</th>\n",
       "      <td>Daily Top 10 &lt;orn|dent_1973@musicaedischi.it&gt;</td>\n",
       "      <td>user7@gvc.ceas-challenge.cc</td>\n",
       "      <td>CNN.com Daily Top 10</td>\n",
       "      <td>&gt;+=+=+=+=+=+=+=+=+=+=+=+=+=+=+=+=+=+=+=+=+=+=+...</td>\n",
       "      <td>1</td>\n",
       "      <td>1</td>\n",
       "    </tr>\n",
       "  </tbody>\n",
       "</table>\n",
       "</div>"
      ],
      "text/plain": [
       "                                              sender  \\\n",
       "0                   Young Esposito <Young@iworld.de>   \n",
       "1                       Mok <ipline's1983@icable.ph>   \n",
       "2  Daily Top 10 <Karmandeep-opengevl@universalnet...   \n",
       "3                 Michael Parker <ivqrnai@pobox.com>   \n",
       "4  Gretchen Suggs <externalsep1@loanofficertool.com>   \n",
       "5  Caroline Aragon <dwthaidomainnamesm@thaidomain...   \n",
       "6    Replica Watches <jhorton@thebakercompanies.com>   \n",
       "7             Daily Top 10 <acidirev_1972@tcwpg.com>   \n",
       "8                  qydlqcws-iacfym@issues.apache.org   \n",
       "9      Daily Top 10 <orn|dent_1973@musicaedischi.it>   \n",
       "\n",
       "                                         receiver  \\\n",
       "0                     user4@gvc.ceas-challenge.cc   \n",
       "1                   user2.2@gvc.ceas-challenge.cc   \n",
       "2                   user2.9@gvc.ceas-challenge.cc   \n",
       "3  SpamAssassin Dev <xrh@spamassassin.apache.org>   \n",
       "4                   user2.2@gvc.ceas-challenge.cc   \n",
       "5                user7-ext5@gvc.ceas-challenge.cc   \n",
       "6                  user2.10@gvc.ceas-challenge.cc   \n",
       "7                   user2.3@gvc.ceas-challenge.cc   \n",
       "8                     xrh@spamassassin.apache.org   \n",
       "9                     user7@gvc.ceas-challenge.cc   \n",
       "\n",
       "                                             subject  \\\n",
       "0                          Never agree to be a loser   \n",
       "1                             Befriend Jenna Jameson   \n",
       "2                               CNN.com Daily Top 10   \n",
       "3  Re: svn commit: r619753 - in /spamassassin/tru...   \n",
       "4                         SpecialPricesPharmMoreinfo   \n",
       "5                               From Caroline Aragon   \n",
       "6                                    Replica Watches   \n",
       "7                               CNN.com Daily Top 10   \n",
       "8  [Bug 5780] URI processing turns uuencoded stri...   \n",
       "9                               CNN.com Daily Top 10   \n",
       "\n",
       "                                                body  urls  label  \n",
       "0  Buck up, your troubles caused by small dimensi...     1      1  \n",
       "1  \\nUpgrade your sex and pleasures with these te...     1      1  \n",
       "2  >+=+=+=+=+=+=+=+=+=+=+=+=+=+=+=+=+=+=+=+=+=+=+...     1      1  \n",
       "3  Would anyone object to removing .so from this ...     1      0  \n",
       "4  \\nWelcomeFastShippingCustomerSupport\\nhttp://7...     1      1  \n",
       "5  \\n\\n\\n\\n\\nYo wu urS mo ou go rc ebo eForM rgi ...     0      1  \n",
       "6  We have fake Swiss Men's and Ladie's Replica \\...     0      1  \n",
       "7  >+=+=+=+=+=+=+=+=+=+=+=+=+=+=+=+=+=+=+=+=+=+=+...     1      1  \n",
       "8  http://issues.apache.org/SpamAssassin/show_bug...     1      0  \n",
       "9  >+=+=+=+=+=+=+=+=+=+=+=+=+=+=+=+=+=+=+=+=+=+=+...     1      1  "
      ]
     },
     "execution_count": 61,
     "metadata": {},
     "output_type": "execute_result"
    }
   ],
   "source": [
    "col_names = ['sender', 'receiver', 'subject', 'body', 'label', 'urls']\n",
    "path = \"./data/CEAS_08.csv\"\n",
    "data1 = pd.read_csv(path)\n",
    "data1 = data1.drop('date', axis=1)\n",
    "col_names[-1], col_names[-2] = col_names[-2], col_names[-1]\n",
    "data1 = data1[col_names]\n",
    "data1.head(10)"
   ]
  },
  {
   "cell_type": "code",
   "execution_count": 62,
   "id": "ae477727-2e60-4184-88b6-88ac980f5c0f",
   "metadata": {
    "tags": []
   },
   "outputs": [
    {
     "name": "stdout",
     "output_type": "stream",
     "text": [
      "(1565, 6)\n"
     ]
    },
    {
     "data": {
      "text/html": [
       "<div>\n",
       "<style scoped>\n",
       "    .dataframe tbody tr th:only-of-type {\n",
       "        vertical-align: middle;\n",
       "    }\n",
       "\n",
       "    .dataframe tbody tr th {\n",
       "        vertical-align: top;\n",
       "    }\n",
       "\n",
       "    .dataframe thead th {\n",
       "        text-align: right;\n",
       "    }\n",
       "</style>\n",
       "<table border=\"1\" class=\"dataframe\">\n",
       "  <thead>\n",
       "    <tr style=\"text-align: right;\">\n",
       "      <th></th>\n",
       "      <th>sender</th>\n",
       "      <th>receiver</th>\n",
       "      <th>subject</th>\n",
       "      <th>body</th>\n",
       "      <th>urls</th>\n",
       "      <th>label</th>\n",
       "    </tr>\n",
       "  </thead>\n",
       "  <tbody>\n",
       "    <tr>\n",
       "      <th>0</th>\n",
       "      <td>Mail System Internal Data &lt;MAILER-DAEMON@monke...</td>\n",
       "      <td>NaN</td>\n",
       "      <td>DON'T DELETE THIS MESSAGE -- FOLDER INTERNAL DATA</td>\n",
       "      <td>This text is part of the internal format of yo...</td>\n",
       "      <td>1</td>\n",
       "      <td>1</td>\n",
       "    </tr>\n",
       "    <tr>\n",
       "      <th>1</th>\n",
       "      <td>cPanel &lt;service@cpanel.com&gt;</td>\n",
       "      <td>jose@monkey.org</td>\n",
       "      <td>Verify Your Account</td>\n",
       "      <td>Business with  \\t\\t\\t\\t\\t\\t\\t\\tcPanel &amp; WHM \\t...</td>\n",
       "      <td>1</td>\n",
       "      <td>1</td>\n",
       "    </tr>\n",
       "    <tr>\n",
       "      <th>2</th>\n",
       "      <td>Microsoft Outlook &lt;recepcao@unimedceara.com.br&gt;</td>\n",
       "      <td>NaN</td>\n",
       "      <td>Helpdesk Mailbox Alert!!!</td>\n",
       "      <td>Your two incoming mails were placed on pending...</td>\n",
       "      <td>1</td>\n",
       "      <td>1</td>\n",
       "    </tr>\n",
       "    <tr>\n",
       "      <th>3</th>\n",
       "      <td>Ann Garcia &lt;AnGarcia@mcoe.org&gt;</td>\n",
       "      <td>\"info@maaaaa.org\" &lt;info@maaaaa.org&gt;</td>\n",
       "      <td>IT-Service Help Desk</td>\n",
       "      <td>Password will expire in 3 days. Click Here To ...</td>\n",
       "      <td>0</td>\n",
       "      <td>1</td>\n",
       "    </tr>\n",
       "    <tr>\n",
       "      <th>4</th>\n",
       "      <td>\"USAA\" &lt;usaaacctupdate@sccu4u.com&gt;</td>\n",
       "      <td>Recipients &lt;usaaacctupdate@sccu4u.com&gt;</td>\n",
       "      <td>Final USAA Reminder - Update Your Account Now</td>\n",
       "      <td>To ensure delivery to your inbox, please add U...</td>\n",
       "      <td>1</td>\n",
       "      <td>1</td>\n",
       "    </tr>\n",
       "    <tr>\n",
       "      <th>5</th>\n",
       "      <td>=?utf-8?Q?P=2eSupport?= &lt;infos@2015p.com&gt;</td>\n",
       "      <td>jose@monkey.org</td>\n",
       "      <td>=?utf-8?Q?Dear=20Client=20=3a=20Update=20Your=...</td>\n",
       "      <td>PayPal Secure   Dear Client,                  ...</td>\n",
       "      <td>1</td>\n",
       "      <td>1</td>\n",
       "    </tr>\n",
       "    <tr>\n",
       "      <th>6</th>\n",
       "      <td>Update</td>\n",
       "      <td>Recipients</td>\n",
       "      <td>Update</td>\n",
       "      <td>08/10/2011 06:14:36 am +0800 - en_US.UTF-8 - O...</td>\n",
       "      <td>1</td>\n",
       "      <td>1</td>\n",
       "    </tr>\n",
       "    <tr>\n",
       "      <th>7</th>\n",
       "      <td>\"USAA\" &lt;usaa-offers@banking2.org&gt;</td>\n",
       "      <td>Recipients &lt;usaa-offers@banking2.org&gt;</td>\n",
       "      <td>IMPORTANT NEW MESSAGE FROM USAA</td>\n",
       "      <td>E-mail Address Update\\t    View Accounts | Pri...</td>\n",
       "      <td>1</td>\n",
       "      <td>1</td>\n",
       "    </tr>\n",
       "    <tr>\n",
       "      <th>8</th>\n",
       "      <td>\"Tourne, Michele\" &lt;MTourne@co.humboldt.ca.us&gt;</td>\n",
       "      <td>Undisclosed recipients:;</td>\n",
       "      <td>Mailbox Warning!!!</td>\n",
       "      <td>Dear Valued User,         We are having a majo...</td>\n",
       "      <td>1</td>\n",
       "      <td>1</td>\n",
       "    </tr>\n",
       "    <tr>\n",
       "      <th>9</th>\n",
       "      <td>\"English, Saundra (FDNY)\" &lt;Saundra.English@fdn...</td>\n",
       "      <td>\"info@eeee.org\" &lt;info@eeee.org&gt;</td>\n",
       "      <td>Help Desk Password Update</td>\n",
       "      <td>Password will expire in 3 days. Click Here To ...</td>\n",
       "      <td>1</td>\n",
       "      <td>1</td>\n",
       "    </tr>\n",
       "  </tbody>\n",
       "</table>\n",
       "</div>"
      ],
      "text/plain": [
       "                                              sender  \\\n",
       "0  Mail System Internal Data <MAILER-DAEMON@monke...   \n",
       "1                        cPanel <service@cpanel.com>   \n",
       "2    Microsoft Outlook <recepcao@unimedceara.com.br>   \n",
       "3                     Ann Garcia <AnGarcia@mcoe.org>   \n",
       "4                 \"USAA\" <usaaacctupdate@sccu4u.com>   \n",
       "5          =?utf-8?Q?P=2eSupport?= <infos@2015p.com>   \n",
       "6                                             Update   \n",
       "7                  \"USAA\" <usaa-offers@banking2.org>   \n",
       "8      \"Tourne, Michele\" <MTourne@co.humboldt.ca.us>   \n",
       "9  \"English, Saundra (FDNY)\" <Saundra.English@fdn...   \n",
       "\n",
       "                                 receiver  \\\n",
       "0                                     NaN   \n",
       "1                         jose@monkey.org   \n",
       "2                                     NaN   \n",
       "3     \"info@maaaaa.org\" <info@maaaaa.org>   \n",
       "4  Recipients <usaaacctupdate@sccu4u.com>   \n",
       "5                         jose@monkey.org   \n",
       "6                              Recipients   \n",
       "7   Recipients <usaa-offers@banking2.org>   \n",
       "8                Undisclosed recipients:;   \n",
       "9         \"info@eeee.org\" <info@eeee.org>   \n",
       "\n",
       "                                             subject  \\\n",
       "0  DON'T DELETE THIS MESSAGE -- FOLDER INTERNAL DATA   \n",
       "1                                Verify Your Account   \n",
       "2                          Helpdesk Mailbox Alert!!!   \n",
       "3                               IT-Service Help Desk   \n",
       "4      Final USAA Reminder - Update Your Account Now   \n",
       "5  =?utf-8?Q?Dear=20Client=20=3a=20Update=20Your=...   \n",
       "6                                             Update   \n",
       "7                    IMPORTANT NEW MESSAGE FROM USAA   \n",
       "8                                 Mailbox Warning!!!   \n",
       "9                          Help Desk Password Update   \n",
       "\n",
       "                                                body  urls  label  \n",
       "0  This text is part of the internal format of yo...     1      1  \n",
       "1  Business with  \\t\\t\\t\\t\\t\\t\\t\\tcPanel & WHM \\t...     1      1  \n",
       "2  Your two incoming mails were placed on pending...     1      1  \n",
       "3  Password will expire in 3 days. Click Here To ...     0      1  \n",
       "4  To ensure delivery to your inbox, please add U...     1      1  \n",
       "5  PayPal Secure   Dear Client,                  ...     1      1  \n",
       "6  08/10/2011 06:14:36 am +0800 - en_US.UTF-8 - O...     1      1  \n",
       "7  E-mail Address Update\\t    View Accounts | Pri...     1      1  \n",
       "8  Dear Valued User,         We are having a majo...     1      1  \n",
       "9  Password will expire in 3 days. Click Here To ...     1      1  "
      ]
     },
     "execution_count": 62,
     "metadata": {},
     "output_type": "execute_result"
    }
   ],
   "source": [
    "col_names = ['sender', 'receiver', 'subject', 'body', 'label', 'urls']\n",
    "path = \"./data/Nazario.csv\"\n",
    "data2 = pd.read_csv(path)\n",
    "data2 = data2.drop('date', axis=1)\n",
    "col_names[-1], col_names[-2] = col_names[-2], col_names[-1]\n",
    "data2 = data2[col_names]\n",
    "print(data2.shape)\n",
    "data2.head(10)"
   ]
  },
  {
   "cell_type": "code",
   "execution_count": 63,
   "id": "f195c898-e9e9-4629-878c-ac11f3352a7e",
   "metadata": {
    "tags": []
   },
   "outputs": [
    {
     "name": "stdout",
     "output_type": "stream",
     "text": [
      "(3332, 6)\n"
     ]
    },
    {
     "data": {
      "text/html": [
       "<div>\n",
       "<style scoped>\n",
       "    .dataframe tbody tr th:only-of-type {\n",
       "        vertical-align: middle;\n",
       "    }\n",
       "\n",
       "    .dataframe tbody tr th {\n",
       "        vertical-align: top;\n",
       "    }\n",
       "\n",
       "    .dataframe thead th {\n",
       "        text-align: right;\n",
       "    }\n",
       "</style>\n",
       "<table border=\"1\" class=\"dataframe\">\n",
       "  <thead>\n",
       "    <tr style=\"text-align: right;\">\n",
       "      <th></th>\n",
       "      <th>sender</th>\n",
       "      <th>receiver</th>\n",
       "      <th>subject</th>\n",
       "      <th>body</th>\n",
       "      <th>urls</th>\n",
       "      <th>label</th>\n",
       "    </tr>\n",
       "  </thead>\n",
       "  <tbody>\n",
       "    <tr>\n",
       "      <th>0</th>\n",
       "      <td>MR. JAMES NGOLA. &lt;james_ngola2002@maktoob.com&gt;</td>\n",
       "      <td>webmaster@aclweb.org</td>\n",
       "      <td>URGENT BUSINESS ASSISTANCE AND PARTNERSHIP</td>\n",
       "      <td>FROM:MR. JAMES NGOLA.\\nCONFIDENTIAL TEL: 233-2...</td>\n",
       "      <td>0</td>\n",
       "      <td>1</td>\n",
       "    </tr>\n",
       "    <tr>\n",
       "      <th>1</th>\n",
       "      <td>Mr. Ben Suleman &lt;bensul2004nng@spinfinder.com&gt;</td>\n",
       "      <td>R@M</td>\n",
       "      <td>URGENT ASSISTANCE /RELATIONSHIP (P)</td>\n",
       "      <td>Dear Friend,\\n\\nI am Mr. Ben Suleman a custom ...</td>\n",
       "      <td>0</td>\n",
       "      <td>1</td>\n",
       "    </tr>\n",
       "    <tr>\n",
       "      <th>2</th>\n",
       "      <td>PRINCE OBONG ELEME &lt;obong_715@epatra.com&gt;</td>\n",
       "      <td>webmaster@aclweb.org</td>\n",
       "      <td>GOOD DAY TO YOU</td>\n",
       "      <td>FROM HIS ROYAL MAJESTY (HRM) CROWN RULER OF EL...</td>\n",
       "      <td>0</td>\n",
       "      <td>1</td>\n",
       "    </tr>\n",
       "    <tr>\n",
       "      <th>3</th>\n",
       "      <td>PRINCE OBONG ELEME &lt;obong_715@epatra.com&gt;</td>\n",
       "      <td>webmaster@aclweb.org</td>\n",
       "      <td>GOOD DAY TO YOU</td>\n",
       "      <td>FROM HIS ROYAL MAJESTY (HRM) CROWN RULER OF EL...</td>\n",
       "      <td>0</td>\n",
       "      <td>1</td>\n",
       "    </tr>\n",
       "    <tr>\n",
       "      <th>4</th>\n",
       "      <td>Maryam Abacha &lt;m_abacha03@www.com&gt;</td>\n",
       "      <td>R@M</td>\n",
       "      <td>I Need Your Assistance.</td>\n",
       "      <td>Dear sir, \\n \\nIt is with a heart full of hope...</td>\n",
       "      <td>0</td>\n",
       "      <td>1</td>\n",
       "    </tr>\n",
       "    <tr>\n",
       "      <th>5</th>\n",
       "      <td>Kuta David &lt;davidkuta@postmark.net&gt;</td>\n",
       "      <td>davidkuta@yahoo.com</td>\n",
       "      <td>Partnership</td>\n",
       "      <td>ATTENTION:                                    ...</td>\n",
       "      <td>0</td>\n",
       "      <td>1</td>\n",
       "    </tr>\n",
       "    <tr>\n",
       "      <th>6</th>\n",
       "      <td>Barrister tunde dosumu &lt;tunde_dosumu@lycos.com&gt;</td>\n",
       "      <td>NaN</td>\n",
       "      <td>Urgent Attention</td>\n",
       "      <td>Dear Sir,\\n\\nI am Barrister Tunde Dosumu (SAN)...</td>\n",
       "      <td>1</td>\n",
       "      <td>1</td>\n",
       "    </tr>\n",
       "    <tr>\n",
       "      <th>7</th>\n",
       "      <td>William Drallo &lt;william2244drallo@maktoob.com&gt;</td>\n",
       "      <td>webmaster@aclweb.org</td>\n",
       "      <td>URGENT BUSINESS PRPOSAL</td>\n",
       "      <td>FROM: WILLIAM DRALLO.\\nCONFIDENTIAL TEL: 233-2...</td>\n",
       "      <td>0</td>\n",
       "      <td>1</td>\n",
       "    </tr>\n",
       "    <tr>\n",
       "      <th>8</th>\n",
       "      <td>MR USMAN ABDUL &lt;abdul_817@rediffmail.com&gt;</td>\n",
       "      <td>R@M</td>\n",
       "      <td>THANK YOU</td>\n",
       "      <td>CHALLENGE SECURITIES LTD.\\nLAGOS, NIGERIA\\n\\n\\...</td>\n",
       "      <td>0</td>\n",
       "      <td>1</td>\n",
       "    </tr>\n",
       "    <tr>\n",
       "      <th>9</th>\n",
       "      <td>Tunde Dosumu &lt;barrister_td@lycos.com&gt;</td>\n",
       "      <td>NaN</td>\n",
       "      <td>Urgent Assistance</td>\n",
       "      <td>Dear Sir,\\n\\nI am Barrister Tunde Dosumu (SAN)...</td>\n",
       "      <td>1</td>\n",
       "      <td>1</td>\n",
       "    </tr>\n",
       "  </tbody>\n",
       "</table>\n",
       "</div>"
      ],
      "text/plain": [
       "                                            sender              receiver  \\\n",
       "0   MR. JAMES NGOLA. <james_ngola2002@maktoob.com>  webmaster@aclweb.org   \n",
       "1   Mr. Ben Suleman <bensul2004nng@spinfinder.com>                   R@M   \n",
       "2        PRINCE OBONG ELEME <obong_715@epatra.com>  webmaster@aclweb.org   \n",
       "3        PRINCE OBONG ELEME <obong_715@epatra.com>  webmaster@aclweb.org   \n",
       "4               Maryam Abacha <m_abacha03@www.com>                   R@M   \n",
       "5              Kuta David <davidkuta@postmark.net>   davidkuta@yahoo.com   \n",
       "6  Barrister tunde dosumu <tunde_dosumu@lycos.com>                   NaN   \n",
       "7   William Drallo <william2244drallo@maktoob.com>  webmaster@aclweb.org   \n",
       "8        MR USMAN ABDUL <abdul_817@rediffmail.com>                   R@M   \n",
       "9            Tunde Dosumu <barrister_td@lycos.com>                   NaN   \n",
       "\n",
       "                                      subject  \\\n",
       "0  URGENT BUSINESS ASSISTANCE AND PARTNERSHIP   \n",
       "1         URGENT ASSISTANCE /RELATIONSHIP (P)   \n",
       "2                             GOOD DAY TO YOU   \n",
       "3                             GOOD DAY TO YOU   \n",
       "4                     I Need Your Assistance.   \n",
       "5                                 Partnership   \n",
       "6                            Urgent Attention   \n",
       "7                     URGENT BUSINESS PRPOSAL   \n",
       "8                                   THANK YOU   \n",
       "9                           Urgent Assistance   \n",
       "\n",
       "                                                body  urls  label  \n",
       "0  FROM:MR. JAMES NGOLA.\\nCONFIDENTIAL TEL: 233-2...     0      1  \n",
       "1  Dear Friend,\\n\\nI am Mr. Ben Suleman a custom ...     0      1  \n",
       "2  FROM HIS ROYAL MAJESTY (HRM) CROWN RULER OF EL...     0      1  \n",
       "3  FROM HIS ROYAL MAJESTY (HRM) CROWN RULER OF EL...     0      1  \n",
       "4  Dear sir, \\n \\nIt is with a heart full of hope...     0      1  \n",
       "5  ATTENTION:                                    ...     0      1  \n",
       "6  Dear Sir,\\n\\nI am Barrister Tunde Dosumu (SAN)...     1      1  \n",
       "7  FROM: WILLIAM DRALLO.\\nCONFIDENTIAL TEL: 233-2...     0      1  \n",
       "8  CHALLENGE SECURITIES LTD.\\nLAGOS, NIGERIA\\n\\n\\...     0      1  \n",
       "9  Dear Sir,\\n\\nI am Barrister Tunde Dosumu (SAN)...     1      1  "
      ]
     },
     "execution_count": 63,
     "metadata": {},
     "output_type": "execute_result"
    }
   ],
   "source": [
    "col_names = ['sender', 'receiver', 'subject', 'body', 'label', 'urls']\n",
    "path = \"./data/Nigerian_Fraud.csv\"\n",
    "data3 = pd.read_csv(path)\n",
    "data3 = data3.drop('date', axis=1)\n",
    "col_names[-1], col_names[-2] = col_names[-2], col_names[-1]\n",
    "data3 = data3[col_names]\n",
    "print(data3.shape)\n",
    "data3.head(10)"
   ]
  },
  {
   "cell_type": "code",
   "execution_count": 64,
   "id": "a9bca478-55f5-4aa5-8694-039d4d776a11",
   "metadata": {
    "tags": []
   },
   "outputs": [
    {
     "name": "stdout",
     "output_type": "stream",
     "text": [
      "(5809, 6)\n"
     ]
    },
    {
     "data": {
      "text/html": [
       "<div>\n",
       "<style scoped>\n",
       "    .dataframe tbody tr th:only-of-type {\n",
       "        vertical-align: middle;\n",
       "    }\n",
       "\n",
       "    .dataframe tbody tr th {\n",
       "        vertical-align: top;\n",
       "    }\n",
       "\n",
       "    .dataframe thead th {\n",
       "        text-align: right;\n",
       "    }\n",
       "</style>\n",
       "<table border=\"1\" class=\"dataframe\">\n",
       "  <thead>\n",
       "    <tr style=\"text-align: right;\">\n",
       "      <th></th>\n",
       "      <th>sender</th>\n",
       "      <th>receiver</th>\n",
       "      <th>subject</th>\n",
       "      <th>body</th>\n",
       "      <th>urls</th>\n",
       "      <th>label</th>\n",
       "    </tr>\n",
       "  </thead>\n",
       "  <tbody>\n",
       "    <tr>\n",
       "      <th>0</th>\n",
       "      <td>Robert Elz &lt;kre@munnari.OZ.AU&gt;</td>\n",
       "      <td>Chris Garrigues &lt;cwg-dated-1030377287.06fa6d@D...</td>\n",
       "      <td>Re: New Sequences Window</td>\n",
       "      <td>Date:        Wed, 21 Aug 2002 10:54:46 -0500  ...</td>\n",
       "      <td>1</td>\n",
       "      <td>0</td>\n",
       "    </tr>\n",
       "    <tr>\n",
       "      <th>1</th>\n",
       "      <td>Steve Burt &lt;Steve_Burt@cursor-system.com&gt;</td>\n",
       "      <td>\"'zzzzteana@yahoogroups.com'\" &lt;zzzzteana@yahoo...</td>\n",
       "      <td>[zzzzteana] RE: Alexander</td>\n",
       "      <td>Martin A posted:\\nTassos Papadopoulos, the Gre...</td>\n",
       "      <td>1</td>\n",
       "      <td>0</td>\n",
       "    </tr>\n",
       "    <tr>\n",
       "      <th>2</th>\n",
       "      <td>\"Tim Chapman\" &lt;timc@2ubh.com&gt;</td>\n",
       "      <td>zzzzteana &lt;zzzzteana@yahoogroups.com&gt;</td>\n",
       "      <td>[zzzzteana] Moscow bomber</td>\n",
       "      <td>Man Threatens Explosion In Moscow \\n\\nThursday...</td>\n",
       "      <td>1</td>\n",
       "      <td>0</td>\n",
       "    </tr>\n",
       "    <tr>\n",
       "      <th>3</th>\n",
       "      <td>Monty Solomon &lt;monty@roscom.com&gt;</td>\n",
       "      <td>undisclosed-recipient: ;</td>\n",
       "      <td>[IRR] Klez: The Virus That  Won't Die</td>\n",
       "      <td>Klez: The Virus That Won't Die\\n \\nAlready the...</td>\n",
       "      <td>1</td>\n",
       "      <td>0</td>\n",
       "    </tr>\n",
       "    <tr>\n",
       "      <th>4</th>\n",
       "      <td>Stewart Smith &lt;Stewart.Smith@ee.ed.ac.uk&gt;</td>\n",
       "      <td>zzzzteana@yahoogroups.com</td>\n",
       "      <td>Re: [zzzzteana] Nothing like mama used to make</td>\n",
       "      <td>&gt;  in adding cream to spaghetti carbonara, whi...</td>\n",
       "      <td>1</td>\n",
       "      <td>0</td>\n",
       "    </tr>\n",
       "    <tr>\n",
       "      <th>5</th>\n",
       "      <td>\"Martin Adamson\" &lt;martin@srv0.ems.ed.ac.uk&gt;</td>\n",
       "      <td>zzzzteana@yahoogroups.com</td>\n",
       "      <td>Re: [zzzzteana] Nothing like mama used to make</td>\n",
       "      <td>&gt; I just had to jump in here as Carbonara is o...</td>\n",
       "      <td>1</td>\n",
       "      <td>0</td>\n",
       "    </tr>\n",
       "    <tr>\n",
       "      <th>6</th>\n",
       "      <td>\"Martin Adamson\" &lt;martin@srv0.ems.ed.ac.uk&gt;</td>\n",
       "      <td>zzzzteana@yahoogroups.com</td>\n",
       "      <td>[zzzzteana] Playboy wants to go out with a bang</td>\n",
       "      <td>The Scotsman - 22 August 2002\\n\\n Playboy want...</td>\n",
       "      <td>1</td>\n",
       "      <td>0</td>\n",
       "    </tr>\n",
       "    <tr>\n",
       "      <th>7</th>\n",
       "      <td>Stewart Smith &lt;Stewart.Smith@ee.ed.ac.uk&gt;</td>\n",
       "      <td>zzzzteana@yahoogroups.com</td>\n",
       "      <td>Re: [zzzzteana] Nothing like mama used to make</td>\n",
       "      <td>Martin Adamson wrote: &gt;  &gt; Isn't it just basic...</td>\n",
       "      <td>1</td>\n",
       "      <td>0</td>\n",
       "    </tr>\n",
       "    <tr>\n",
       "      <th>8</th>\n",
       "      <td>\"Martin Adamson\" &lt;martin@srv0.ems.ed.ac.uk&gt;</td>\n",
       "      <td>zzzzteana@yahoogroups.com</td>\n",
       "      <td>[zzzzteana] Meaningful sentences</td>\n",
       "      <td>The Scotsman\\n\\n Thu 22 Aug 2002 \\n\\n Meaningf...</td>\n",
       "      <td>1</td>\n",
       "      <td>0</td>\n",
       "    </tr>\n",
       "    <tr>\n",
       "      <th>9</th>\n",
       "      <td>\"NOI Administrator\" &lt;admin@networksonline.com&gt;</td>\n",
       "      <td>&lt;spamassassin-talk@example.sourceforge.net&gt;</td>\n",
       "      <td>[SAtalk] SA CGI Configurator Scripts</td>\n",
       "      <td>I have been trying to research via SA mirrors ...</td>\n",
       "      <td>1</td>\n",
       "      <td>0</td>\n",
       "    </tr>\n",
       "  </tbody>\n",
       "</table>\n",
       "</div>"
      ],
      "text/plain": [
       "                                           sender  \\\n",
       "0                  Robert Elz <kre@munnari.OZ.AU>   \n",
       "1       Steve Burt <Steve_Burt@cursor-system.com>   \n",
       "2                   \"Tim Chapman\" <timc@2ubh.com>   \n",
       "3                Monty Solomon <monty@roscom.com>   \n",
       "4       Stewart Smith <Stewart.Smith@ee.ed.ac.uk>   \n",
       "5     \"Martin Adamson\" <martin@srv0.ems.ed.ac.uk>   \n",
       "6     \"Martin Adamson\" <martin@srv0.ems.ed.ac.uk>   \n",
       "7       Stewart Smith <Stewart.Smith@ee.ed.ac.uk>   \n",
       "8     \"Martin Adamson\" <martin@srv0.ems.ed.ac.uk>   \n",
       "9  \"NOI Administrator\" <admin@networksonline.com>   \n",
       "\n",
       "                                            receiver  \\\n",
       "0  Chris Garrigues <cwg-dated-1030377287.06fa6d@D...   \n",
       "1  \"'zzzzteana@yahoogroups.com'\" <zzzzteana@yahoo...   \n",
       "2              zzzzteana <zzzzteana@yahoogroups.com>   \n",
       "3                           undisclosed-recipient: ;   \n",
       "4                          zzzzteana@yahoogroups.com   \n",
       "5                          zzzzteana@yahoogroups.com   \n",
       "6                          zzzzteana@yahoogroups.com   \n",
       "7                          zzzzteana@yahoogroups.com   \n",
       "8                          zzzzteana@yahoogroups.com   \n",
       "9        <spamassassin-talk@example.sourceforge.net>   \n",
       "\n",
       "                                           subject  \\\n",
       "0                         Re: New Sequences Window   \n",
       "1                        [zzzzteana] RE: Alexander   \n",
       "2                        [zzzzteana] Moscow bomber   \n",
       "3            [IRR] Klez: The Virus That  Won't Die   \n",
       "4   Re: [zzzzteana] Nothing like mama used to make   \n",
       "5   Re: [zzzzteana] Nothing like mama used to make   \n",
       "6  [zzzzteana] Playboy wants to go out with a bang   \n",
       "7   Re: [zzzzteana] Nothing like mama used to make   \n",
       "8                 [zzzzteana] Meaningful sentences   \n",
       "9             [SAtalk] SA CGI Configurator Scripts   \n",
       "\n",
       "                                                body  urls  label  \n",
       "0  Date:        Wed, 21 Aug 2002 10:54:46 -0500  ...     1      0  \n",
       "1  Martin A posted:\\nTassos Papadopoulos, the Gre...     1      0  \n",
       "2  Man Threatens Explosion In Moscow \\n\\nThursday...     1      0  \n",
       "3  Klez: The Virus That Won't Die\\n \\nAlready the...     1      0  \n",
       "4  >  in adding cream to spaghetti carbonara, whi...     1      0  \n",
       "5  > I just had to jump in here as Carbonara is o...     1      0  \n",
       "6  The Scotsman - 22 August 2002\\n\\n Playboy want...     1      0  \n",
       "7  Martin Adamson wrote: >  > Isn't it just basic...     1      0  \n",
       "8  The Scotsman\\n\\n Thu 22 Aug 2002 \\n\\n Meaningf...     1      0  \n",
       "9  I have been trying to research via SA mirrors ...     1      0  "
      ]
     },
     "execution_count": 64,
     "metadata": {},
     "output_type": "execute_result"
    }
   ],
   "source": [
    "col_names = ['sender', 'receiver', 'subject', 'body', 'label', 'urls']\n",
    "path = \"./data/SpamAssasin.csv\"\n",
    "data4 = pd.read_csv(path)\n",
    "data4 = data4.drop('date', axis=1)\n",
    "col_names[-1], col_names[-2] = col_names[-2], col_names[-1]\n",
    "data4 = data4[col_names]\n",
    "print(data4.shape)\n",
    "data4.head(10)"
   ]
  },
  {
   "cell_type": "code",
   "execution_count": 65,
   "id": "5e7680ee-c303-4f85-b6f1-7b1011b2c074",
   "metadata": {
    "tags": []
   },
   "outputs": [
    {
     "data": {
      "text/plain": [
       "(49860, 6)"
      ]
     },
     "execution_count": 65,
     "metadata": {},
     "output_type": "execute_result"
    }
   ],
   "source": [
    "data = pd.concat([data1, data2, data3, data4])\n",
    "data.shape"
   ]
  },
  {
   "cell_type": "code",
   "execution_count": 66,
   "id": "3744f921-3dd6-4470-b6f0-297abe8eead9",
   "metadata": {
    "tags": []
   },
   "outputs": [
    {
     "data": {
      "text/plain": [
       "False"
      ]
     },
     "execution_count": 66,
     "metadata": {},
     "output_type": "execute_result"
    }
   ],
   "source": [
    "send_mode = data['sender'].mode()[0]\n",
    "data['sender'].fillna(send_mode, inplace=True)\n",
    "sub_mode = data['subject'].mode()[0]\n",
    "data['subject'].fillna(sub_mode, inplace=True)\n",
    "body_mode = data['body'].mode()[0]\n",
    "data['body'].fillna(body_mode, inplace=True)\n",
    "\n",
    "data = data.drop('receiver', axis=1)\n",
    "data['sender'].isnull().any()"
   ]
  },
  {
   "cell_type": "markdown",
   "id": "b518ff4f-2487-44fa-9720-31842708c019",
   "metadata": {},
   "source": [
    "## TF-IDF"
   ]
  },
  {
   "cell_type": "code",
   "execution_count": 69,
   "id": "8da1b45b-247f-4ab1-b816-0862b4d2ddbe",
   "metadata": {
    "tags": []
   },
   "outputs": [
    {
     "name": "stdout",
     "output_type": "stream",
     "text": [
      "(60164,)\n",
      "(49860, 60164)\n"
     ]
    }
   ],
   "source": [
    "corpus_sender = data['sender'][0:]\n",
    "send_lengths = np.array([len(text.split()) for text in corpus_sender])\n",
    "vectorizer_send = TfidfVectorizer()\n",
    "send = vectorizer_send.fit_transform(corpus_sender)\n",
    "print(vectorizer_send.get_feature_names_out().shape)\n",
    "print(send.shape)"
   ]
  },
  {
   "cell_type": "code",
   "execution_count": 70,
   "id": "8855a81d-74f7-4445-8bc6-86157e44c17e",
   "metadata": {
    "tags": []
   },
   "outputs": [
    {
     "data": {
      "text/plain": [
       "(49860,)"
      ]
     },
     "execution_count": 70,
     "metadata": {},
     "output_type": "execute_result"
    }
   ],
   "source": [
    "send_sum = np.array(send.sum(axis=1)).flatten()\n",
    "send_normalized = send_sum / (send_lengths + 1e-6)\n",
    "send_normalized.shape"
   ]
  },
  {
   "cell_type": "code",
   "execution_count": 71,
   "id": "783dc694-e119-4bdb-9946-1f21df74299c",
   "metadata": {
    "tags": []
   },
   "outputs": [
    {
     "data": {
      "text/plain": [
       "\"\\ncorpus_rec = data['receiver'][0:]\\nrec_lengths = np.array([len(text.split()) for text in corpus_rec])\\nvectorizer_rec = TfidfVectorizer()\\nrec = vectorizer_rec.fit_transform(corpus_rec)\\nprint(vectorizer_rec.get_feature_names_out().shape)\\nprint(rec.shape)\\n\""
      ]
     },
     "execution_count": 71,
     "metadata": {},
     "output_type": "execute_result"
    }
   ],
   "source": [
    "\"\"\"\n",
    "corpus_rec = data['receiver'][0:]\n",
    "rec_lengths = np.array([len(text.split()) for text in corpus_rec])\n",
    "vectorizer_rec = TfidfVectorizer()\n",
    "rec = vectorizer_rec.fit_transform(corpus_rec)\n",
    "print(vectorizer_rec.get_feature_names_out().shape)\n",
    "print(rec.shape)\n",
    "\"\"\""
   ]
  },
  {
   "cell_type": "code",
   "execution_count": 72,
   "id": "3b654f08-bf5f-4269-b475-ab79d50d4480",
   "metadata": {
    "tags": []
   },
   "outputs": [
    {
     "data": {
      "text/plain": [
       "'\\nrec_sum = np.array(rec.sum(axis=1)).flatten()\\nrec_normalized = rec_sum / (rec_lengths + 1e-6)\\nrec_normalized.shape\\n'"
      ]
     },
     "execution_count": 72,
     "metadata": {},
     "output_type": "execute_result"
    }
   ],
   "source": [
    "\"\"\"\n",
    "rec_sum = np.array(rec.sum(axis=1)).flatten()\n",
    "rec_normalized = rec_sum / (rec_lengths + 1e-6)\n",
    "rec_normalized.shape\n",
    "\"\"\""
   ]
  },
  {
   "cell_type": "code",
   "execution_count": 73,
   "id": "df9dbbe9-4b65-4400-a97b-88bbcc773bf1",
   "metadata": {
    "tags": []
   },
   "outputs": [
    {
     "name": "stdout",
     "output_type": "stream",
     "text": [
      "(20339,)\n",
      "(49860, 20339)\n"
     ]
    }
   ],
   "source": [
    "corpus_sub = data['subject'][0:]\n",
    "sub_lengths = np.array([len(text.split()) for text in corpus_sub])\n",
    "vectorizer_sub = TfidfVectorizer()\n",
    "sub = vectorizer_sub.fit_transform(corpus_sub)\n",
    "print(vectorizer_sub.get_feature_names_out().shape)\n",
    "print(sub.shape)"
   ]
  },
  {
   "cell_type": "code",
   "execution_count": 74,
   "id": "d0a27fe5-68eb-48fb-b362-2901b3b74568",
   "metadata": {
    "tags": []
   },
   "outputs": [
    {
     "data": {
      "text/plain": [
       "(49860,)"
      ]
     },
     "execution_count": 74,
     "metadata": {},
     "output_type": "execute_result"
    }
   ],
   "source": [
    "sub_sum = np.array(sub.sum(axis=1)).flatten()\n",
    "sub_normalized = sub_sum / (sub_lengths + 1e-6)\n",
    "sub_normalized.shape"
   ]
  },
  {
   "cell_type": "code",
   "execution_count": 75,
   "id": "84ca49bb-0533-448b-8166-f6c44f80e8de",
   "metadata": {
    "tags": []
   },
   "outputs": [
    {
     "name": "stdout",
     "output_type": "stream",
     "text": [
      "(430730,)\n",
      "(49860, 430730)\n"
     ]
    }
   ],
   "source": [
    "corpus_body = data['body'][0:]\n",
    "body_lengths = np.array([len(text.split()) for text in corpus_body])\n",
    "vectorizer_body = TfidfVectorizer()\n",
    "body = vectorizer_body.fit_transform(corpus_body)\n",
    "print(vectorizer_body.get_feature_names_out().shape)\n",
    "print(body.shape)"
   ]
  },
  {
   "cell_type": "code",
   "execution_count": 76,
   "id": "29f02a8b-594a-4eff-bcd2-f0b5f71e3417",
   "metadata": {
    "tags": []
   },
   "outputs": [
    {
     "data": {
      "text/plain": [
       "(49860,)"
      ]
     },
     "execution_count": 76,
     "metadata": {},
     "output_type": "execute_result"
    }
   ],
   "source": [
    "body_sum = np.array(body.sum(axis=1)).flatten()\n",
    "body_normalized = body_sum / (body_lengths + 1e-6)\n",
    "body_normalized.shape"
   ]
  },
  {
   "cell_type": "code",
   "execution_count": 77,
   "id": "c9f345dc-1738-44ab-bb9a-630602cd9c2c",
   "metadata": {
    "tags": []
   },
   "outputs": [],
   "source": [
    "data['body']= body_normalized\n",
    "data['subject']= sub_normalized\n",
    "#data['receiver']= rec_normalized\n",
    "data['sender']= send_normalized"
   ]
  },
  {
   "cell_type": "code",
   "execution_count": 78,
   "id": "d03f89fd-7b81-4b8c-8621-c54fdac8079b",
   "metadata": {
    "tags": []
   },
   "outputs": [
    {
     "data": {
      "text/html": [
       "<div>\n",
       "<style scoped>\n",
       "    .dataframe tbody tr th:only-of-type {\n",
       "        vertical-align: middle;\n",
       "    }\n",
       "\n",
       "    .dataframe tbody tr th {\n",
       "        vertical-align: top;\n",
       "    }\n",
       "\n",
       "    .dataframe thead th {\n",
       "        text-align: right;\n",
       "    }\n",
       "</style>\n",
       "<table border=\"1\" class=\"dataframe\">\n",
       "  <thead>\n",
       "    <tr style=\"text-align: right;\">\n",
       "      <th></th>\n",
       "      <th>sender</th>\n",
       "      <th>subject</th>\n",
       "      <th>body</th>\n",
       "      <th>urls</th>\n",
       "      <th>label</th>\n",
       "    </tr>\n",
       "  </thead>\n",
       "  <tbody>\n",
       "    <tr>\n",
       "      <th>0</th>\n",
       "      <td>0.607310</td>\n",
       "      <td>0.353270</td>\n",
       "      <td>0.124521</td>\n",
       "      <td>1</td>\n",
       "      <td>1</td>\n",
       "    </tr>\n",
       "    <tr>\n",
       "      <th>1</th>\n",
       "      <td>1.111647</td>\n",
       "      <td>0.576933</td>\n",
       "      <td>0.316441</td>\n",
       "      <td>1</td>\n",
       "      <td>1</td>\n",
       "    </tr>\n",
       "    <tr>\n",
       "      <th>2</th>\n",
       "      <td>0.646334</td>\n",
       "      <td>0.558736</td>\n",
       "      <td>0.026796</td>\n",
       "      <td>1</td>\n",
       "      <td>1</td>\n",
       "    </tr>\n",
       "    <tr>\n",
       "      <th>3</th>\n",
       "      <td>0.677584</td>\n",
       "      <td>0.343630</td>\n",
       "      <td>0.001701</td>\n",
       "      <td>1</td>\n",
       "      <td>0</td>\n",
       "    </tr>\n",
       "    <tr>\n",
       "      <th>4</th>\n",
       "      <td>0.690363</td>\n",
       "      <td>0.999999</td>\n",
       "      <td>1.438519</td>\n",
       "      <td>1</td>\n",
       "      <td>1</td>\n",
       "    </tr>\n",
       "    <tr>\n",
       "      <th>5</th>\n",
       "      <td>0.689102</td>\n",
       "      <td>0.539430</td>\n",
       "      <td>0.169125</td>\n",
       "      <td>0</td>\n",
       "      <td>1</td>\n",
       "    </tr>\n",
       "    <tr>\n",
       "      <th>6</th>\n",
       "      <td>0.687392</td>\n",
       "      <td>0.706895</td>\n",
       "      <td>0.199024</td>\n",
       "      <td>0</td>\n",
       "      <td>1</td>\n",
       "    </tr>\n",
       "    <tr>\n",
       "      <th>7</th>\n",
       "      <td>0.515883</td>\n",
       "      <td>0.558736</td>\n",
       "      <td>0.026827</td>\n",
       "      <td>1</td>\n",
       "      <td>1</td>\n",
       "    </tr>\n",
       "    <tr>\n",
       "      <th>8</th>\n",
       "      <td>2.200211</td>\n",
       "      <td>0.245090</td>\n",
       "      <td>0.156281</td>\n",
       "      <td>1</td>\n",
       "      <td>0</td>\n",
       "    </tr>\n",
       "    <tr>\n",
       "      <th>9</th>\n",
       "      <td>0.595439</td>\n",
       "      <td>0.558736</td>\n",
       "      <td>0.026819</td>\n",
       "      <td>1</td>\n",
       "      <td>1</td>\n",
       "    </tr>\n",
       "  </tbody>\n",
       "</table>\n",
       "</div>"
      ],
      "text/plain": [
       "     sender   subject      body  urls  label\n",
       "0  0.607310  0.353270  0.124521     1      1\n",
       "1  1.111647  0.576933  0.316441     1      1\n",
       "2  0.646334  0.558736  0.026796     1      1\n",
       "3  0.677584  0.343630  0.001701     1      0\n",
       "4  0.690363  0.999999  1.438519     1      1\n",
       "5  0.689102  0.539430  0.169125     0      1\n",
       "6  0.687392  0.706895  0.199024     0      1\n",
       "7  0.515883  0.558736  0.026827     1      1\n",
       "8  2.200211  0.245090  0.156281     1      0\n",
       "9  0.595439  0.558736  0.026819     1      1"
      ]
     },
     "execution_count": 78,
     "metadata": {},
     "output_type": "execute_result"
    }
   ],
   "source": [
    "data.head(10)"
   ]
  },
  {
   "cell_type": "markdown",
   "id": "cbb3dd24-2d2c-44b9-ac8b-a19d2a9274ae",
   "metadata": {},
   "source": [
    "## Decision Class"
   ]
  },
  {
   "cell_type": "code",
   "execution_count": 79,
   "id": "51a30e7b-9f5b-499f-a970-a6a90897f6d6",
   "metadata": {},
   "outputs": [],
   "source": [
    "class Decision:\n",
    "    \"\"\" A decision is used to ask the question at a decision node to split the data.\n",
    "    This class records column number and values and matches the stored feature value to a give feature value\n",
    "    \"\"\"\n",
    "    \n",
    "    def __init__(self, feature_index, threshold):\n",
    "        self.feature_index = feature_index\n",
    "        self.threshold = threshold\n",
    "        \n",
    "    def ask(self, input):\n",
    "        # Compares input feature value to stored value\n",
    "        feature_val = input[self.feature_index]\n",
    "        if isinstance(feature_val, (int, float, np.number)):\n",
    "            return feature_val >= self.threshold\n",
    "        else:\n",
    "            return feature_val == self.threshold\n",
    "        "
   ]
  },
  {
   "cell_type": "markdown",
   "id": "cd5f4395-283e-4086-8403-750c64cec056",
   "metadata": {},
   "source": [
    "## Helper Functions for Splitting"
   ]
  },
  {
   "cell_type": "code",
   "execution_count": 80,
   "id": "9260ee4a-d7cb-4af6-b999-0c8d978b1d32",
   "metadata": {
    "tags": []
   },
   "outputs": [],
   "source": [
    "def divide_df(rows, decision):\n",
    "    # Partitions a data frame\n",
    "    # Check if each row matches decision, divide into true and false\n",
    "    col = rows[:, decision.feature_index]\n",
    "    if np.issubdtype(col.dtype, np.number):\n",
    "        mask = col >= decision.threshold\n",
    "    else:\n",
    "        mask = col == decision.threshold\n",
    "    left, right = rows[mask],rows[~mask]\n",
    "    return left, right"
   ]
  },
  {
   "cell_type": "code",
   "execution_count": 81,
   "id": "b3e2dac2-d911-476c-9829-a32d714e81ac",
   "metadata": {
    "tags": []
   },
   "outputs": [],
   "source": [
    "def label_count(rows):\n",
    "    # Counts the number of each classification in data frame\n",
    "    y = rows[:, -1]\n",
    "    unique, label_counts = np.unique(y, return_counts=True)\n",
    "    return dict(zip(unique,label_counts))"
   ]
  },
  {
   "cell_type": "code",
   "execution_count": 82,
   "id": "fac30633-31c2-4bbb-ac1c-3fb62889c962",
   "metadata": {
    "tags": []
   },
   "outputs": [],
   "source": [
    "def gini_impurity(rows):\n",
    "    #Calculates Gini Impurity for a data frame of rows.\n",
    "    y = rows[:, -1]\n",
    "    _, label_counts = np.unique(y, return_counts=True)\n",
    "    probs = label_counts/label_counts.sum()\n",
    "    return 1.0 - np.sum(probs**2)"
   ]
  },
  {
   "cell_type": "code",
   "execution_count": 83,
   "id": "2c7863f0-afc2-447b-8931-5a1da1aa6cfb",
   "metadata": {
    "tags": []
   },
   "outputs": [],
   "source": [
    "def info_gain(left, right, curr_gini):\n",
    "    #Information gain: Gini of the root node subtracted by the impurty of the two children nodes.\n",
    "    if len(left) + len(right) == 0:\n",
    "        return 0\n",
    "    prob = float(len(left) / (len(left) + len(right)))\n",
    "    return curr_gini - prob * gini_impurity(left) - (1 - prob) * gini_impurity(right)\n",
    "                 "
   ]
  },
  {
   "cell_type": "code",
   "execution_count": 84,
   "id": "e31f6718-279d-41aa-8c51-a3fac04e2db7",
   "metadata": {
    "tags": []
   },
   "outputs": [],
   "source": [
    "def threshold_candidates(col, max_thresh=5):\n",
    "    #Choose candidate threshold split\n",
    "    unique = np.unique(col)\n",
    "    if len(unique) > max_thresh:\n",
    "        quantile = np.linspace(0, 100, max_thresh + 2)[1:-1]\n",
    "        unique = np.percentile(unique, quantile)\n",
    "    if len(unique) > 1:\n",
    "        return (unique[:-1] + unique[1:])/2\n",
    "    else:\n",
    "        return unique"
   ]
  },
  {
   "cell_type": "code",
   "execution_count": 85,
   "id": "a0f701e0-7ce2-49eb-b193-147a2d75344e",
   "metadata": {
    "tags": []
   },
   "outputs": [],
   "source": [
    "def info_gain_split(rows):\n",
    "    #Find best decision to make based on informaiton gain\n",
    "    X = rows[:, :-1]\n",
    "    y = rows[:, -1]\n",
    "    curr_gini = gini_impurity(rows)\n",
    "    feature_count = X.shape[1]\n",
    "    \n",
    "    highest_gain = 0\n",
    "    optimal_decision = None\n",
    "    \n",
    "    for feature_index in range(feature_count):\n",
    "        col = X[:, feature_index]\n",
    "        \n",
    "        #Candidate Thresholds\n",
    "        thresholds = threshold_candidates(col) if np.issubdtype(col.dtype, np.number) else np.unique(col)\n",
    "        \n",
    "        for candidate in thresholds:\n",
    "            if np.issubdtype(col.dtype, np.number):\n",
    "                mask = col >= candidate\n",
    "            else:\n",
    "                mask = col == candidate\n",
    "            \n",
    "            if mask.sum() == 0 or mask.sum() == len(mask):\n",
    "                continue\n",
    "        \n",
    "            left, right = rows[mask], rows[~mask]\n",
    "            gain = info_gain(left, right, curr_gini)\n",
    "            \n",
    "            if gain > highest_gain:\n",
    "                highest_gain, optimal_decision = gain, Decision(feature_index, candidate)\n",
    "                \n",
    "    return highest_gain, optimal_decision"
   ]
  },
  {
   "cell_type": "markdown",
   "id": "31e97671-bb4e-4938-acb7-26e7ef9fa6cc",
   "metadata": {},
   "source": [
    "## Build Tree and Node Classes"
   ]
  },
  {
   "cell_type": "code",
   "execution_count": 86,
   "id": "27e43030-1837-4a29-9654-ddf88ceed02c",
   "metadata": {
    "tags": []
   },
   "outputs": [],
   "source": [
    "class LeafNode:\n",
    "    # A leaf Node holdes classified data.\n",
    "    # Holds a dictionary with class counts in the leaf.\n",
    "    \n",
    "    def __init__(self,rows):\n",
    "        self.pred = label_count(rows)"
   ]
  },
  {
   "cell_type": "code",
   "execution_count": 87,
   "id": "87efda5b-d2c1-41fa-86bc-94824b7d985f",
   "metadata": {
    "tags": []
   },
   "outputs": [],
   "source": [
    "class DecisionNode:\n",
    "    # A Decision Node asks a Decision to be made.\n",
    "    # Holds reference to a Decision, and two child nodes.\n",
    "    \n",
    "    def __init__(self, decision, left, right):\n",
    "        self.decision = decision\n",
    "        self.left = left\n",
    "        self.right = right"
   ]
  },
  {
   "cell_type": "code",
   "execution_count": 128,
   "id": "ec9b89fa-2962-4318-8737-3da67ef0c922",
   "metadata": {
    "tags": []
   },
   "outputs": [],
   "source": [
    "def build_tree(rows, depth=0, max_depth=10, min_sample_split=2):\n",
    "    # Recursively Builds tree.\n",
    "    if len(rows) < min_sample_split or depth >= max_depth:\n",
    "        return LeafNode(rows)\n",
    "    \n",
    "    highest_gain, optimal_decision = info_gain_split(rows)\n",
    "    \n",
    "    #Base case no further gain\n",
    "    if highest_gain == 0 or optimal_decision is None:\n",
    "        return LeafNode(rows)\n",
    "    \n",
    "    #Found Partition\n",
    "    left, right = divide_df(rows, optimal_decision)\n",
    "    \n",
    "    #Recurse Left Subtree\n",
    "    left_subtree = build_tree(left, depth+1, max_depth, min_sample_split)\n",
    "    \n",
    "    #Recurse Right Subtree\n",
    "    right_subtree = build_tree(right, depth+1, max_depth, min_sample_split)\n",
    "    \n",
    "    #Return Decision Node\n",
    "    return DecisionNode(optimal_decision, left_subtree, right_subtree)"
   ]
  },
  {
   "cell_type": "code",
   "execution_count": 114,
   "id": "e38de2a7-05ac-409c-9afa-309ce7c643b2",
   "metadata": {
    "tags": []
   },
   "outputs": [],
   "source": [
    "#print(data.shape)\n",
    "#x = data.iloc[:, :-1]\n",
    "#x\n",
    "my_tree = build_tree(data.to_numpy()[0:40000])"
   ]
  },
  {
   "cell_type": "code",
   "execution_count": 115,
   "id": "2f988394-3178-469b-bc9c-853ea393676b",
   "metadata": {
    "tags": []
   },
   "outputs": [],
   "source": [
    "def predict(row, curr_node):\n",
    "    #Base Case: Curr node is a leaf\n",
    "    if isinstance(curr_node, LeafNode):\n",
    "        total = sum(curr_node.pred.values())\n",
    "        return max(curr_node.pred, key=curr_node.pred.get), {k: v/total for k,v in curr_node.pred.items()}\n",
    "    \n",
    "    #Recurse the left or right subtree\n",
    "    if curr_node.decision.ask(row):\n",
    "        return predict(row, curr_node.left)\n",
    "    else:\n",
    "        return predict(row, curr_node.right)"
   ]
  },
  {
   "cell_type": "markdown",
   "id": "9fb33fcc-45ab-45f8-b3ce-6f4964a92d98",
   "metadata": {},
   "source": [
    "## Prediction and Testing"
   ]
  },
  {
   "cell_type": "code",
   "execution_count": 150,
   "id": "3718c03d-1743-4799-825b-a36ea307841f",
   "metadata": {
    "tags": []
   },
   "outputs": [],
   "source": [
    "test_data = {'sender': ['luna_prado@gmail.com'], 'subject': ['Advisor Help'], 'body':['Hello Dr. Athienitis, can you help me with choosing classes for the upcoming semester. Look forward to staying in contact.'], 'urls':[0]}\n",
    "test_df = pd.DataFrame(test_data)"
   ]
  },
  {
   "cell_type": "code",
   "execution_count": 151,
   "id": "60b3f676-cf4c-4c3b-a1c9-dd7c78bcde53",
   "metadata": {
    "tags": []
   },
   "outputs": [],
   "source": [
    "#test_data = {'sender': ['asjfnakjsnfkanf@gmail.com'], 'subject': ['SCAM ALERT'], 'body':['Make money quick, urgent new opportunity. Please buy now for your future. Passive Income, Easy life.'], 'urls':[1]}\n",
    "#test_df = pd.DataFrame(test_data)"
   ]
  },
  {
   "cell_type": "code",
   "execution_count": 152,
   "id": "d5f9c84f-0fe3-4e7a-b68f-821dc7b6043e",
   "metadata": {
    "tags": []
   },
   "outputs": [
    {
     "data": {
      "text/plain": [
       "(1, 430730)"
      ]
     },
     "execution_count": 152,
     "metadata": {},
     "output_type": "execute_result"
    }
   ],
   "source": [
    "new_body = vectorizer_body.transform(test_df['body'])\n",
    "new_body.shape"
   ]
  },
  {
   "cell_type": "code",
   "execution_count": 153,
   "id": "f318626b-df78-46ef-8fb7-2baa7f903769",
   "metadata": {},
   "outputs": [
    {
     "data": {
      "text/html": [
       "<div>\n",
       "<style scoped>\n",
       "    .dataframe tbody tr th:only-of-type {\n",
       "        vertical-align: middle;\n",
       "    }\n",
       "\n",
       "    .dataframe tbody tr th {\n",
       "        vertical-align: top;\n",
       "    }\n",
       "\n",
       "    .dataframe thead th {\n",
       "        text-align: right;\n",
       "    }\n",
       "</style>\n",
       "<table border=\"1\" class=\"dataframe\">\n",
       "  <thead>\n",
       "    <tr style=\"text-align: right;\">\n",
       "      <th></th>\n",
       "      <th>sender</th>\n",
       "      <th>subject</th>\n",
       "      <th>body</th>\n",
       "      <th>urls</th>\n",
       "    </tr>\n",
       "  </thead>\n",
       "  <tbody>\n",
       "    <tr>\n",
       "      <th>0</th>\n",
       "      <td>0.656144</td>\n",
       "      <td>1.0</td>\n",
       "      <td>0.198892</td>\n",
       "      <td>0</td>\n",
       "    </tr>\n",
       "  </tbody>\n",
       "</table>\n",
       "</div>"
      ],
      "text/plain": [
       "     sender  subject      body  urls\n",
       "0  0.656144      1.0  0.198892     0"
      ]
     },
     "execution_count": 153,
     "metadata": {},
     "output_type": "execute_result"
    }
   ],
   "source": [
    "new_body = vectorizer_body.transform(test_df['body'])\n",
    "new_body_sum = new_body.sum(axis=1).flatten()\n",
    "nonzero_body = (new_body > 0).sum(axis=1).flatten()\n",
    "\n",
    "new_body_normalized = (new_body_sum/nonzero_body if nonzero_body > 0 else 0)\n",
    "\n",
    "new_send = vectorizer_send.transform(test_df['sender'])\n",
    "new_send_sum = new_send.sum(axis=1).flatten()\n",
    "nonzero_send = (new_send > 0).sum(axis=1).flatten()\n",
    "\n",
    "new_send_normalized = (new_send_sum/nonzero_send if nonzero_send > 0 else 0)\n",
    "\n",
    "\"\"\"\n",
    "new_rec = vectorizer_rec.transform(test_df['receiver'])\n",
    "new_rec_sum = new_rec.sum(axis=1).flatten()\n",
    "nonzero_rec = (new_rec > 0).sum(axis=1).flatten()\n",
    "\n",
    "new_rec_normalized = (new_rec_sum/nonzero_rec if nonzero_rec > 0 else 0)\n",
    "\"\"\"\n",
    "\n",
    "new_sub = vectorizer_sub.transform(test_df['subject'])\n",
    "new_sub_sum = new_sub.sum(axis=1).flatten()\n",
    "nonzero_sub = (new_sub > 0).sum(axis=1).flatten()\n",
    "\n",
    "new_sub_normalized = (new_sub_sum/nonzero_sub if nonzero_sub > 0 else 0)\n",
    "\n",
    "test_df['body'] = new_body_normalized\n",
    "test_df['sender'] = new_send_normalized\n",
    "#test_df['receiver'] = new_rec_normalized\n",
    "test_df['subject'] = new_sub_normalized\n",
    "test_df"
   ]
  },
  {
   "cell_type": "code",
   "execution_count": 154,
   "id": "cf17f33a-c6f4-438e-aac5-da5c26e33657",
   "metadata": {
    "tags": []
   },
   "outputs": [
    {
     "data": {
      "text/plain": [
       "(1.0, {1.0: 1.0})"
      ]
     },
     "execution_count": 154,
     "metadata": {},
     "output_type": "execute_result"
    }
   ],
   "source": [
    "predict(test_df.to_numpy()[0], my_tree)"
   ]
  },
  {
   "cell_type": "code",
   "execution_count": 113,
   "id": "8da98dac-44de-4cfd-b8f1-f048600d5e99",
   "metadata": {
    "tags": []
   },
   "outputs": [],
   "source": [
    "#test_df.to_numpy()[0]"
   ]
  },
  {
   "cell_type": "code",
   "execution_count": 123,
   "id": "d8fc9f02-3d5d-4ba0-b4d0-ba16be0292b4",
   "metadata": {},
   "outputs": [
    {
     "name": "stdout",
     "output_type": "stream",
     "text": [
      "[0.79483138 0.42632895 0.02673031 1.         1.        ]\n"
     ]
    },
    {
     "data": {
      "text/plain": [
       "(0.0, {0.0: 1.0})"
      ]
     },
     "execution_count": 123,
     "metadata": {},
     "output_type": "execute_result"
    }
   ],
   "source": [
    "print(data.to_numpy()[40002])\n",
    "predict(data.to_numpy()[40002], my_tree)"
   ]
  },
  {
   "cell_type": "markdown",
   "id": "35ca4e1a-a2b8-488c-a79a-cb47f62bcff4",
   "metadata": {},
   "source": [
    "## Random Forest Draft:"
   ]
  },
  {
   "cell_type": "code",
   "execution_count": 148,
   "id": "03f31358-ba36-4e72-ab13-88cae74d9c7e",
   "metadata": {
    "tags": []
   },
   "outputs": [],
   "source": [
    "class RandomForest:\n",
    "    def __init__(self, tree_count=10, max_depth=10, min_sample_split=2, feature_count=None):\n",
    "        self.tree_count = tree_count\n",
    "        self.max_depth = max_depth\n",
    "        self.min_sample_split = min_sample_split\n",
    "        self.feature_count = feature_count\n",
    "        self.trees = []\n",
    "        \n",
    "    def fit(self, X, y):\n",
    "        self.trees = []\n",
    "        \n",
    "        for _ in range(self.tree_count):\n",
    "            X_partial, y_partial = self.bootstrap(X, y)\n",
    "            rows = np.concatenate((X_partial, y_partial), axis=1)\n",
    "            \n",
    "            tree = build_tree(rows, max_depth=self.max_depth, min_sample_split=self.min_sample_split)\n",
    "            self.trees.append(tree)\n",
    "        \n",
    "        \n",
    "    def bootstrap(self, X, y):\n",
    "        sample_count = X.shape[0]\n",
    "        row_index = np.random.choice(sample_count, sample_count, replace=True)\n",
    "        return X[row_index], y[row_index]\n",
    "        \n",
    "        \n",
    "    def random_predict(self, X):\n",
    "        preds = np.array([predict(X, tree) for tree in self.trees])\n",
    "        final_preds = np.swapaxes(preds, 0, 1)\n",
    "        #Need to implement mode getter\n",
    "        return final_preds"
   ]
  },
  {
   "cell_type": "code",
   "execution_count": 130,
   "id": "fce165b8-116b-4718-9dca-307400ae6e18",
   "metadata": {
    "tags": []
   },
   "outputs": [
    {
     "name": "stdout",
     "output_type": "stream",
     "text": [
      "[[0 2 3 4]\n",
      " [1 3 5 6]]\n",
      "[[0]\n",
      " [1]]\n",
      "[[0 2 3 4 0]\n",
      " [1 3 5 6 1]]\n"
     ]
    }
   ],
   "source": [
    "rows1 = np.array([[0, 2, 3, 4], [1, 3, 5, 6]])\n",
    "ys = np.array([[0],[1]])\n",
    "print(rows1)\n",
    "print(ys)\n",
    "print(np.concatenate((rows1, ys), axis=1))"
   ]
  },
  {
   "cell_type": "code",
   "execution_count": 149,
   "id": "0feed11d-3ed0-4eb8-b2a6-16a9e9ceaf8c",
   "metadata": {
    "tags": []
   },
   "outputs": [],
   "source": [
    "X = data.to_numpy()[:,:-1]\n",
    "y = data.to_numpy()[:, -1].reshape(-1,1)\n",
    "my_forest = RandomForest()\n",
    "my_forest.fit(X,y)"
   ]
  },
  {
   "cell_type": "code",
   "execution_count": 161,
   "id": "bbec5fe0-d3b9-4f02-98c1-62c70fe4daa7",
   "metadata": {
    "tags": []
   },
   "outputs": [
    {
     "data": {
      "text/plain": [
       "array([1.0, 1.0, 0.0, 0.0, 1.0, 1.0, 1.0, 0.0, 1.0, 1.0], dtype=object)"
      ]
     },
     "execution_count": 161,
     "metadata": {},
     "output_type": "execute_result"
    }
   ],
   "source": [
    "my_forest.random_predict(test_df.to_numpy()[0])[0]"
   ]
  },
  {
   "cell_type": "code",
   "execution_count": null,
   "id": "d99dbcf0-ef4c-4179-8bf4-e7dbd20b2d85",
   "metadata": {},
   "outputs": [],
   "source": []
  }
 ],
 "metadata": {
  "kernelspec": {
   "display_name": "Python 3 (ipykernel)",
   "language": "python",
   "name": "python3"
  },
  "language_info": {
   "codemirror_mode": {
    "name": "ipython",
    "version": 3
   },
   "file_extension": ".py",
   "mimetype": "text/x-python",
   "name": "python",
   "nbconvert_exporter": "python",
   "pygments_lexer": "ipython3",
   "version": "3.11.5"
  }
 },
 "nbformat": 4,
 "nbformat_minor": 5
}
