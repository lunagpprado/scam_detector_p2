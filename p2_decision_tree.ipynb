{
 "cells": [
  {
   "cell_type": "markdown",
   "id": "a1c0a0e4-2849-4a79-9b32-ee42c82b5232",
   "metadata": {},
   "source": [
    "# Scam Detector: Decision Tree"
   ]
  },
  {
   "cell_type": "markdown",
   "id": "0904a70d-a2f8-40e9-a4f5-ad7e7edb9011",
   "metadata": {},
   "source": [
    "    This Jupyter Notebook will be used to run a Decision Tree Algorithm to predict if a given email is a scam or a ham(a normal email)."
   ]
  },
  {
   "cell_type": "markdown",
   "id": "7158aa78-4c8c-45f5-af34-15071349526a",
   "metadata": {
    "tags": []
   },
   "source": [
    "## Import Packages"
   ]
  },
  {
   "cell_type": "code",
   "execution_count": 196,
   "id": "3bf4d050-2499-4995-820a-c0d13d2f1a6c",
   "metadata": {
    "tags": []
   },
   "outputs": [],
   "source": [
    "#import the packages we need\n",
    "import numpy as np\n",
    "import pandas as pd\n",
    "import matplotlib.pyplot as plt\n",
    "import csv\n",
    "import sys\n",
    "from sklearn.metrics import accuracy_score\n",
    "from sklearn.decomposition import TruncatedSVD\n",
    "from sklearn.feature_extraction.text import TfidfVectorizer\n",
    "from sklearn.model_selection import train_test_split\n",
    "from sklearn.preprocessing import StandardScaler"
   ]
  },
  {
   "cell_type": "markdown",
   "id": "bc74f965-4e22-40d8-a5e8-8dbefe0a056e",
   "metadata": {},
   "source": [
    "## Retrieve Data"
   ]
  },
  {
   "cell_type": "code",
   "execution_count": 200,
   "id": "86056790-d9a7-4865-8a6b-d8441a8ff176",
   "metadata": {
    "tags": []
   },
   "outputs": [
    {
     "name": "stdout",
     "output_type": "stream",
     "text": [
      "urls\n",
      "1    26232\n",
      "0    12922\n",
      "Name: count, dtype: int64\n"
     ]
    },
    {
     "data": {
      "text/html": [
       "<div>\n",
       "<style scoped>\n",
       "    .dataframe tbody tr th:only-of-type {\n",
       "        vertical-align: middle;\n",
       "    }\n",
       "\n",
       "    .dataframe tbody tr th {\n",
       "        vertical-align: top;\n",
       "    }\n",
       "\n",
       "    .dataframe thead th {\n",
       "        text-align: right;\n",
       "    }\n",
       "</style>\n",
       "<table border=\"1\" class=\"dataframe\">\n",
       "  <thead>\n",
       "    <tr style=\"text-align: right;\">\n",
       "      <th></th>\n",
       "      <th>sender</th>\n",
       "      <th>receiver</th>\n",
       "      <th>subject</th>\n",
       "      <th>body</th>\n",
       "      <th>urls</th>\n",
       "      <th>label</th>\n",
       "    </tr>\n",
       "  </thead>\n",
       "  <tbody>\n",
       "    <tr>\n",
       "      <th>0</th>\n",
       "      <td>Young Esposito &lt;Young@iworld.de&gt;</td>\n",
       "      <td>user4@gvc.ceas-challenge.cc</td>\n",
       "      <td>Never agree to be a loser</td>\n",
       "      <td>Buck up, your troubles caused by small dimensi...</td>\n",
       "      <td>1</td>\n",
       "      <td>1</td>\n",
       "    </tr>\n",
       "    <tr>\n",
       "      <th>1</th>\n",
       "      <td>Mok &lt;ipline's1983@icable.ph&gt;</td>\n",
       "      <td>user2.2@gvc.ceas-challenge.cc</td>\n",
       "      <td>Befriend Jenna Jameson</td>\n",
       "      <td>\\nUpgrade your sex and pleasures with these te...</td>\n",
       "      <td>1</td>\n",
       "      <td>1</td>\n",
       "    </tr>\n",
       "    <tr>\n",
       "      <th>2</th>\n",
       "      <td>Daily Top 10 &lt;Karmandeep-opengevl@universalnet...</td>\n",
       "      <td>user2.9@gvc.ceas-challenge.cc</td>\n",
       "      <td>CNN.com Daily Top 10</td>\n",
       "      <td>&gt;+=+=+=+=+=+=+=+=+=+=+=+=+=+=+=+=+=+=+=+=+=+=+...</td>\n",
       "      <td>1</td>\n",
       "      <td>1</td>\n",
       "    </tr>\n",
       "    <tr>\n",
       "      <th>3</th>\n",
       "      <td>Michael Parker &lt;ivqrnai@pobox.com&gt;</td>\n",
       "      <td>SpamAssassin Dev &lt;xrh@spamassassin.apache.org&gt;</td>\n",
       "      <td>Re: svn commit: r619753 - in /spamassassin/tru...</td>\n",
       "      <td>Would anyone object to removing .so from this ...</td>\n",
       "      <td>1</td>\n",
       "      <td>0</td>\n",
       "    </tr>\n",
       "    <tr>\n",
       "      <th>4</th>\n",
       "      <td>Gretchen Suggs &lt;externalsep1@loanofficertool.com&gt;</td>\n",
       "      <td>user2.2@gvc.ceas-challenge.cc</td>\n",
       "      <td>SpecialPricesPharmMoreinfo</td>\n",
       "      <td>\\nWelcomeFastShippingCustomerSupport\\nhttp://7...</td>\n",
       "      <td>1</td>\n",
       "      <td>1</td>\n",
       "    </tr>\n",
       "  </tbody>\n",
       "</table>\n",
       "</div>"
      ],
      "text/plain": [
       "                                              sender  \\\n",
       "0                   Young Esposito <Young@iworld.de>   \n",
       "1                       Mok <ipline's1983@icable.ph>   \n",
       "2  Daily Top 10 <Karmandeep-opengevl@universalnet...   \n",
       "3                 Michael Parker <ivqrnai@pobox.com>   \n",
       "4  Gretchen Suggs <externalsep1@loanofficertool.com>   \n",
       "\n",
       "                                         receiver  \\\n",
       "0                     user4@gvc.ceas-challenge.cc   \n",
       "1                   user2.2@gvc.ceas-challenge.cc   \n",
       "2                   user2.9@gvc.ceas-challenge.cc   \n",
       "3  SpamAssassin Dev <xrh@spamassassin.apache.org>   \n",
       "4                   user2.2@gvc.ceas-challenge.cc   \n",
       "\n",
       "                                             subject  \\\n",
       "0                          Never agree to be a loser   \n",
       "1                             Befriend Jenna Jameson   \n",
       "2                               CNN.com Daily Top 10   \n",
       "3  Re: svn commit: r619753 - in /spamassassin/tru...   \n",
       "4                         SpecialPricesPharmMoreinfo   \n",
       "\n",
       "                                                body  urls  label  \n",
       "0  Buck up, your troubles caused by small dimensi...     1      1  \n",
       "1  \\nUpgrade your sex and pleasures with these te...     1      1  \n",
       "2  >+=+=+=+=+=+=+=+=+=+=+=+=+=+=+=+=+=+=+=+=+=+=+...     1      1  \n",
       "3  Would anyone object to removing .so from this ...     1      0  \n",
       "4  \\nWelcomeFastShippingCustomerSupport\\nhttp://7...     1      1  "
      ]
     },
     "execution_count": 200,
     "metadata": {},
     "output_type": "execute_result"
    }
   ],
   "source": [
    "col_names = ['sender', 'receiver', 'subject', 'body', 'label', 'urls']\n",
    "path = \"./data/CEAS_08.csv\"\n",
    "data1 = pd.read_csv(path)\n",
    "data1 = data1.drop('date', axis=1)\n",
    "col_names[-1], col_names[-2] = col_names[-2], col_names[-1]\n",
    "data1 = data1[col_names]\n",
    "data1.head(10)\n",
    "counts = data1['urls'].value_counts()\n",
    "print(counts)\n",
    "data1.head()"
   ]
  },
  {
   "cell_type": "code",
   "execution_count": 201,
   "id": "8b6074f5-d961-41df-b5f8-a12ddfebbbfb",
   "metadata": {
    "tags": []
   },
   "outputs": [],
   "source": [
    "data1 = data1.drop('receiver', axis=1)"
   ]
  },
  {
   "cell_type": "code",
   "execution_count": 202,
   "id": "5e7680ee-c303-4f85-b6f1-7b1011b2c074",
   "metadata": {
    "tags": []
   },
   "outputs": [
    {
     "data": {
      "text/plain": [
       "(39154, 5)"
      ]
     },
     "execution_count": 202,
     "metadata": {},
     "output_type": "execute_result"
    }
   ],
   "source": [
    "data = data1\n",
    "data.shape"
   ]
  },
  {
   "cell_type": "code",
   "execution_count": 203,
   "id": "3744f921-3dd6-4470-b6f0-297abe8eead9",
   "metadata": {
    "tags": []
   },
   "outputs": [
    {
     "data": {
      "text/plain": [
       "False"
      ]
     },
     "execution_count": 203,
     "metadata": {},
     "output_type": "execute_result"
    }
   ],
   "source": [
    "#send_mode = data['sender'].mode()[0]\n",
    "data['sender'].fillna('Empty', inplace=True)\n",
    "#sub_mode = data['subject'].mode()[0]\n",
    "data['subject'].fillna('Empty', inplace=True)\n",
    "#body_mode = data['body'].mode()[0]\n",
    "data['body'].fillna('Empty', inplace=True)\n",
    "\n",
    "data['sender'].isnull().any()"
   ]
  },
  {
   "cell_type": "markdown",
   "id": "b518ff4f-2487-44fa-9720-31842708c019",
   "metadata": {},
   "source": [
    "## TF-IDF"
   ]
  },
  {
   "cell_type": "code",
   "execution_count": 204,
   "id": "8da1b45b-247f-4ab1-b816-0862b4d2ddbe",
   "metadata": {
    "tags": []
   },
   "outputs": [
    {
     "name": "stdout",
     "output_type": "stream",
     "text": [
      "(49703,)\n",
      "(39154, 49703)\n"
     ]
    }
   ],
   "source": [
    "# Text Vectorization for numeric interpretations\n",
    "corpus_sender = data['sender'][0:]\n",
    "vectorizer_send = TfidfVectorizer()\n",
    "send = vectorizer_send.fit_transform(corpus_sender)\n",
    "print(vectorizer_send.get_feature_names_out().shape)\n",
    "print(send.shape)"
   ]
  },
  {
   "cell_type": "code",
   "execution_count": 205,
   "id": "8855a81d-74f7-4445-8bc6-86157e44c17e",
   "metadata": {
    "tags": []
   },
   "outputs": [],
   "source": [
    "svd_send = TruncatedSVD(n_components=5, random_state=42)\n",
    "send_reduced = svd_send.fit_transform(send)"
   ]
  },
  {
   "cell_type": "code",
   "execution_count": 206,
   "id": "df9dbbe9-4b65-4400-a97b-88bbcc773bf1",
   "metadata": {
    "tags": []
   },
   "outputs": [
    {
     "name": "stdout",
     "output_type": "stream",
     "text": [
      "(15339,)\n",
      "(39154, 15339)\n"
     ]
    }
   ],
   "source": [
    "# Text Vectorization for numeric interpretations\n",
    "corpus_sub = data['subject'][0:]\n",
    "vectorizer_sub = TfidfVectorizer()\n",
    "sub = vectorizer_sub.fit_transform(corpus_sub)\n",
    "print(vectorizer_sub.get_feature_names_out().shape)\n",
    "print(sub.shape)"
   ]
  },
  {
   "cell_type": "code",
   "execution_count": 207,
   "id": "d0a27fe5-68eb-48fb-b362-2901b3b74568",
   "metadata": {
    "tags": []
   },
   "outputs": [],
   "source": [
    "svd_sub = TruncatedSVD(n_components=50, random_state=42)\n",
    "sub_reduced = svd_sub.fit_transform(sub)"
   ]
  },
  {
   "cell_type": "code",
   "execution_count": 208,
   "id": "84ca49bb-0533-448b-8166-f6c44f80e8de",
   "metadata": {
    "tags": []
   },
   "outputs": [
    {
     "name": "stdout",
     "output_type": "stream",
     "text": [
      "(183381,)\n",
      "(39154, 183381)\n"
     ]
    }
   ],
   "source": [
    "# Text Vectorization for numeric interpretations\n",
    "corpus_body = data['body'][0:]\n",
    "vectorizer_body = TfidfVectorizer()\n",
    "body = vectorizer_body.fit_transform(corpus_body)\n",
    "print(vectorizer_body.get_feature_names_out().shape)\n",
    "print(body.shape)"
   ]
  },
  {
   "cell_type": "code",
   "execution_count": 209,
   "id": "6584d65b-8b8f-4c0c-8cf0-70dffd76121f",
   "metadata": {
    "tags": []
   },
   "outputs": [],
   "source": [
    "svd = TruncatedSVD(n_components=300, random_state=42)\n",
    "body_reduced = svd.fit_transform(body)"
   ]
  },
  {
   "cell_type": "code",
   "execution_count": 210,
   "id": "df2139ea-0d10-4d79-9302-7a630c975ec6",
   "metadata": {
    "tags": []
   },
   "outputs": [
    {
     "name": "stdout",
     "output_type": "stream",
     "text": [
      "data duplicates: Index([], dtype='int64')\n"
     ]
    }
   ],
   "source": [
    "dupes_data = data.index[data.index.duplicated()]\n",
    "print(\"data duplicates:\", dupes_data)"
   ]
  },
  {
   "cell_type": "code",
   "execution_count": 211,
   "id": "27858db0-7f21-4d87-b2be-6c6ee50ed53f",
   "metadata": {
    "tags": []
   },
   "outputs": [],
   "source": [
    "scaler_body = StandardScaler()\n",
    "body_reduced = scaler_body.fit_transform(body_reduced)"
   ]
  },
  {
   "cell_type": "code",
   "execution_count": 212,
   "id": "4440848b-b36c-4f3c-b51c-04fd8e6c8b1f",
   "metadata": {
    "tags": []
   },
   "outputs": [],
   "source": [
    "scaler_send = StandardScaler()\n",
    "send_reduced = scaler_send.fit_transform(send_reduced)"
   ]
  },
  {
   "cell_type": "code",
   "execution_count": 213,
   "id": "3369909e-1792-48c5-a72c-eb3b3c0a1958",
   "metadata": {
    "tags": []
   },
   "outputs": [],
   "source": [
    "scaler_sub = StandardScaler()\n",
    "sub_reduced = scaler_sub.fit_transform(sub_reduced)"
   ]
  },
  {
   "cell_type": "code",
   "execution_count": 214,
   "id": "bdc7eff7-b796-43e1-894a-a264147e0217",
   "metadata": {
    "tags": []
   },
   "outputs": [
    {
     "data": {
      "text/html": [
       "<div>\n",
       "<style scoped>\n",
       "    .dataframe tbody tr th:only-of-type {\n",
       "        vertical-align: middle;\n",
       "    }\n",
       "\n",
       "    .dataframe tbody tr th {\n",
       "        vertical-align: top;\n",
       "    }\n",
       "\n",
       "    .dataframe thead th {\n",
       "        text-align: right;\n",
       "    }\n",
       "</style>\n",
       "<table border=\"1\" class=\"dataframe\">\n",
       "  <thead>\n",
       "    <tr style=\"text-align: right;\">\n",
       "      <th></th>\n",
       "      <th>1</th>\n",
       "      <th>2</th>\n",
       "      <th>3</th>\n",
       "      <th>4</th>\n",
       "      <th>5</th>\n",
       "      <th>6</th>\n",
       "      <th>7</th>\n",
       "      <th>8</th>\n",
       "      <th>9</th>\n",
       "      <th>10</th>\n",
       "      <th>...</th>\n",
       "      <th>43</th>\n",
       "      <th>44</th>\n",
       "      <th>45</th>\n",
       "      <th>46</th>\n",
       "      <th>47</th>\n",
       "      <th>48</th>\n",
       "      <th>49</th>\n",
       "      <th>50</th>\n",
       "      <th>urls</th>\n",
       "      <th>label</th>\n",
       "    </tr>\n",
       "  </thead>\n",
       "  <tbody>\n",
       "    <tr>\n",
       "      <th>0</th>\n",
       "      <td>-0.426917</td>\n",
       "      <td>-0.004104</td>\n",
       "      <td>-0.076846</td>\n",
       "      <td>-0.203992</td>\n",
       "      <td>-0.122698</td>\n",
       "      <td>-0.698500</td>\n",
       "      <td>-0.352484</td>\n",
       "      <td>0.591961</td>\n",
       "      <td>-0.177576</td>\n",
       "      <td>0.010746</td>\n",
       "      <td>...</td>\n",
       "      <td>-1.072639</td>\n",
       "      <td>-0.137006</td>\n",
       "      <td>0.644205</td>\n",
       "      <td>0.531124</td>\n",
       "      <td>-0.850184</td>\n",
       "      <td>-0.286374</td>\n",
       "      <td>-0.385870</td>\n",
       "      <td>-0.205839</td>\n",
       "      <td>1</td>\n",
       "      <td>1</td>\n",
       "    </tr>\n",
       "    <tr>\n",
       "      <th>1</th>\n",
       "      <td>-0.301420</td>\n",
       "      <td>-0.604644</td>\n",
       "      <td>-0.078867</td>\n",
       "      <td>-0.003527</td>\n",
       "      <td>-0.189298</td>\n",
       "      <td>0.027241</td>\n",
       "      <td>0.650487</td>\n",
       "      <td>0.776408</td>\n",
       "      <td>-0.426351</td>\n",
       "      <td>0.226446</td>\n",
       "      <td>...</td>\n",
       "      <td>-0.034326</td>\n",
       "      <td>0.044819</td>\n",
       "      <td>0.003294</td>\n",
       "      <td>-0.114293</td>\n",
       "      <td>-0.026271</td>\n",
       "      <td>0.038869</td>\n",
       "      <td>-0.042575</td>\n",
       "      <td>-0.023058</td>\n",
       "      <td>1</td>\n",
       "      <td>1</td>\n",
       "    </tr>\n",
       "    <tr>\n",
       "      <th>2</th>\n",
       "      <td>3.272722</td>\n",
       "      <td>-2.561960</td>\n",
       "      <td>-0.871368</td>\n",
       "      <td>-0.227408</td>\n",
       "      <td>0.010922</td>\n",
       "      <td>0.036696</td>\n",
       "      <td>-0.228835</td>\n",
       "      <td>-0.380469</td>\n",
       "      <td>4.142873</td>\n",
       "      <td>-2.947278</td>\n",
       "      <td>...</td>\n",
       "      <td>-0.001498</td>\n",
       "      <td>0.022748</td>\n",
       "      <td>-0.047372</td>\n",
       "      <td>-0.034065</td>\n",
       "      <td>-0.027853</td>\n",
       "      <td>0.002334</td>\n",
       "      <td>-0.035214</td>\n",
       "      <td>-0.016125</td>\n",
       "      <td>1</td>\n",
       "      <td>1</td>\n",
       "    </tr>\n",
       "    <tr>\n",
       "      <th>3</th>\n",
       "      <td>-0.318055</td>\n",
       "      <td>-0.760740</td>\n",
       "      <td>-0.271595</td>\n",
       "      <td>-0.140837</td>\n",
       "      <td>0.111953</td>\n",
       "      <td>-0.071034</td>\n",
       "      <td>0.052940</td>\n",
       "      <td>0.198062</td>\n",
       "      <td>0.209648</td>\n",
       "      <td>0.753429</td>\n",
       "      <td>...</td>\n",
       "      <td>0.014184</td>\n",
       "      <td>-0.672714</td>\n",
       "      <td>-0.284708</td>\n",
       "      <td>-0.002581</td>\n",
       "      <td>-0.113030</td>\n",
       "      <td>0.734184</td>\n",
       "      <td>0.806202</td>\n",
       "      <td>-0.008474</td>\n",
       "      <td>1</td>\n",
       "      <td>0</td>\n",
       "    </tr>\n",
       "    <tr>\n",
       "      <th>4</th>\n",
       "      <td>-0.344538</td>\n",
       "      <td>-1.047056</td>\n",
       "      <td>-0.199258</td>\n",
       "      <td>-0.108279</td>\n",
       "      <td>0.048807</td>\n",
       "      <td>0.088499</td>\n",
       "      <td>0.096057</td>\n",
       "      <td>0.020240</td>\n",
       "      <td>0.074161</td>\n",
       "      <td>0.128524</td>\n",
       "      <td>...</td>\n",
       "      <td>-0.018962</td>\n",
       "      <td>0.020230</td>\n",
       "      <td>-0.027911</td>\n",
       "      <td>-0.037765</td>\n",
       "      <td>-0.030991</td>\n",
       "      <td>-0.021996</td>\n",
       "      <td>-0.032201</td>\n",
       "      <td>-0.010667</td>\n",
       "      <td>1</td>\n",
       "      <td>1</td>\n",
       "    </tr>\n",
       "    <tr>\n",
       "      <th>...</th>\n",
       "      <td>...</td>\n",
       "      <td>...</td>\n",
       "      <td>...</td>\n",
       "      <td>...</td>\n",
       "      <td>...</td>\n",
       "      <td>...</td>\n",
       "      <td>...</td>\n",
       "      <td>...</td>\n",
       "      <td>...</td>\n",
       "      <td>...</td>\n",
       "      <td>...</td>\n",
       "      <td>...</td>\n",
       "      <td>...</td>\n",
       "      <td>...</td>\n",
       "      <td>...</td>\n",
       "      <td>...</td>\n",
       "      <td>...</td>\n",
       "      <td>...</td>\n",
       "      <td>...</td>\n",
       "      <td>...</td>\n",
       "      <td>...</td>\n",
       "    </tr>\n",
       "    <tr>\n",
       "      <th>39149</th>\n",
       "      <td>1.473310</td>\n",
       "      <td>-0.006965</td>\n",
       "      <td>5.060952</td>\n",
       "      <td>-0.494319</td>\n",
       "      <td>0.897272</td>\n",
       "      <td>0.041328</td>\n",
       "      <td>0.107115</td>\n",
       "      <td>-0.138582</td>\n",
       "      <td>0.526641</td>\n",
       "      <td>-0.548493</td>\n",
       "      <td>...</td>\n",
       "      <td>-0.027354</td>\n",
       "      <td>0.025166</td>\n",
       "      <td>-0.023670</td>\n",
       "      <td>-0.044218</td>\n",
       "      <td>-0.037685</td>\n",
       "      <td>-0.029784</td>\n",
       "      <td>-0.028467</td>\n",
       "      <td>-0.009882</td>\n",
       "      <td>0</td>\n",
       "      <td>1</td>\n",
       "    </tr>\n",
       "    <tr>\n",
       "      <th>39150</th>\n",
       "      <td>1.532967</td>\n",
       "      <td>-0.011893</td>\n",
       "      <td>5.045746</td>\n",
       "      <td>-0.445428</td>\n",
       "      <td>0.827892</td>\n",
       "      <td>0.269618</td>\n",
       "      <td>-0.079244</td>\n",
       "      <td>-0.131366</td>\n",
       "      <td>-0.296801</td>\n",
       "      <td>-0.078146</td>\n",
       "      <td>...</td>\n",
       "      <td>-0.027354</td>\n",
       "      <td>0.025166</td>\n",
       "      <td>-0.023670</td>\n",
       "      <td>-0.044218</td>\n",
       "      <td>-0.037685</td>\n",
       "      <td>-0.029784</td>\n",
       "      <td>-0.028467</td>\n",
       "      <td>-0.009882</td>\n",
       "      <td>0</td>\n",
       "      <td>1</td>\n",
       "    </tr>\n",
       "    <tr>\n",
       "      <th>39151</th>\n",
       "      <td>-0.401602</td>\n",
       "      <td>0.330418</td>\n",
       "      <td>-0.138006</td>\n",
       "      <td>-0.190510</td>\n",
       "      <td>-0.416924</td>\n",
       "      <td>-0.288563</td>\n",
       "      <td>-0.785936</td>\n",
       "      <td>-0.193427</td>\n",
       "      <td>-0.200648</td>\n",
       "      <td>-0.260859</td>\n",
       "      <td>...</td>\n",
       "      <td>0.002406</td>\n",
       "      <td>-0.005925</td>\n",
       "      <td>-0.114503</td>\n",
       "      <td>-0.057746</td>\n",
       "      <td>-0.023063</td>\n",
       "      <td>-0.039911</td>\n",
       "      <td>-0.028251</td>\n",
       "      <td>-0.054432</td>\n",
       "      <td>0</td>\n",
       "      <td>0</td>\n",
       "    </tr>\n",
       "    <tr>\n",
       "      <th>39152</th>\n",
       "      <td>-0.400845</td>\n",
       "      <td>0.225076</td>\n",
       "      <td>-0.023898</td>\n",
       "      <td>-0.162085</td>\n",
       "      <td>-0.298123</td>\n",
       "      <td>-0.402489</td>\n",
       "      <td>-0.274232</td>\n",
       "      <td>0.175800</td>\n",
       "      <td>0.037307</td>\n",
       "      <td>-0.004968</td>\n",
       "      <td>...</td>\n",
       "      <td>0.473563</td>\n",
       "      <td>0.284709</td>\n",
       "      <td>-0.275641</td>\n",
       "      <td>-0.527762</td>\n",
       "      <td>-0.085891</td>\n",
       "      <td>-0.088685</td>\n",
       "      <td>-0.192114</td>\n",
       "      <td>0.443284</td>\n",
       "      <td>0</td>\n",
       "      <td>0</td>\n",
       "    </tr>\n",
       "    <tr>\n",
       "      <th>39153</th>\n",
       "      <td>-0.236341</td>\n",
       "      <td>1.206821</td>\n",
       "      <td>-0.627769</td>\n",
       "      <td>-1.125704</td>\n",
       "      <td>1.487613</td>\n",
       "      <td>1.237451</td>\n",
       "      <td>-0.050284</td>\n",
       "      <td>-0.105260</td>\n",
       "      <td>-0.021227</td>\n",
       "      <td>-0.579960</td>\n",
       "      <td>...</td>\n",
       "      <td>-0.034502</td>\n",
       "      <td>-0.030167</td>\n",
       "      <td>-0.052734</td>\n",
       "      <td>0.255144</td>\n",
       "      <td>0.415360</td>\n",
       "      <td>-0.205145</td>\n",
       "      <td>0.084095</td>\n",
       "      <td>1.609156</td>\n",
       "      <td>1</td>\n",
       "      <td>0</td>\n",
       "    </tr>\n",
       "  </tbody>\n",
       "</table>\n",
       "<p>39154 rows × 357 columns</p>\n",
       "</div>"
      ],
      "text/plain": [
       "              1         2         3         4         5         6         7  \\\n",
       "0     -0.426917 -0.004104 -0.076846 -0.203992 -0.122698 -0.698500 -0.352484   \n",
       "1     -0.301420 -0.604644 -0.078867 -0.003527 -0.189298  0.027241  0.650487   \n",
       "2      3.272722 -2.561960 -0.871368 -0.227408  0.010922  0.036696 -0.228835   \n",
       "3     -0.318055 -0.760740 -0.271595 -0.140837  0.111953 -0.071034  0.052940   \n",
       "4     -0.344538 -1.047056 -0.199258 -0.108279  0.048807  0.088499  0.096057   \n",
       "...         ...       ...       ...       ...       ...       ...       ...   \n",
       "39149  1.473310 -0.006965  5.060952 -0.494319  0.897272  0.041328  0.107115   \n",
       "39150  1.532967 -0.011893  5.045746 -0.445428  0.827892  0.269618 -0.079244   \n",
       "39151 -0.401602  0.330418 -0.138006 -0.190510 -0.416924 -0.288563 -0.785936   \n",
       "39152 -0.400845  0.225076 -0.023898 -0.162085 -0.298123 -0.402489 -0.274232   \n",
       "39153 -0.236341  1.206821 -0.627769 -1.125704  1.487613  1.237451 -0.050284   \n",
       "\n",
       "              8         9        10  ...        43        44        45  \\\n",
       "0      0.591961 -0.177576  0.010746  ... -1.072639 -0.137006  0.644205   \n",
       "1      0.776408 -0.426351  0.226446  ... -0.034326  0.044819  0.003294   \n",
       "2     -0.380469  4.142873 -2.947278  ... -0.001498  0.022748 -0.047372   \n",
       "3      0.198062  0.209648  0.753429  ...  0.014184 -0.672714 -0.284708   \n",
       "4      0.020240  0.074161  0.128524  ... -0.018962  0.020230 -0.027911   \n",
       "...         ...       ...       ...  ...       ...       ...       ...   \n",
       "39149 -0.138582  0.526641 -0.548493  ... -0.027354  0.025166 -0.023670   \n",
       "39150 -0.131366 -0.296801 -0.078146  ... -0.027354  0.025166 -0.023670   \n",
       "39151 -0.193427 -0.200648 -0.260859  ...  0.002406 -0.005925 -0.114503   \n",
       "39152  0.175800  0.037307 -0.004968  ...  0.473563  0.284709 -0.275641   \n",
       "39153 -0.105260 -0.021227 -0.579960  ... -0.034502 -0.030167 -0.052734   \n",
       "\n",
       "             46        47        48        49        50  urls  label  \n",
       "0      0.531124 -0.850184 -0.286374 -0.385870 -0.205839     1      1  \n",
       "1     -0.114293 -0.026271  0.038869 -0.042575 -0.023058     1      1  \n",
       "2     -0.034065 -0.027853  0.002334 -0.035214 -0.016125     1      1  \n",
       "3     -0.002581 -0.113030  0.734184  0.806202 -0.008474     1      0  \n",
       "4     -0.037765 -0.030991 -0.021996 -0.032201 -0.010667     1      1  \n",
       "...         ...       ...       ...       ...       ...   ...    ...  \n",
       "39149 -0.044218 -0.037685 -0.029784 -0.028467 -0.009882     0      1  \n",
       "39150 -0.044218 -0.037685 -0.029784 -0.028467 -0.009882     0      1  \n",
       "39151 -0.057746 -0.023063 -0.039911 -0.028251 -0.054432     0      0  \n",
       "39152 -0.527762 -0.085891 -0.088685 -0.192114  0.443284     0      0  \n",
       "39153  0.255144  0.415360 -0.205145  0.084095  1.609156     1      0  \n",
       "\n",
       "[39154 rows x 357 columns]"
      ]
     },
     "execution_count": 214,
     "metadata": {},
     "output_type": "execute_result"
    }
   ],
   "source": [
    "body_df = pd.DataFrame(body_reduced, columns=range(1,301))\n",
    "send_df = pd.DataFrame(send_reduced, columns=range(1,6))\n",
    "sub_df = pd.DataFrame(sub_reduced, columns=range(1,51))\n",
    "\n",
    "new_data = pd.concat([body_df, send_df, sub_df, data], axis=1)\n",
    "new_data = new_data.drop('body', axis=1)\n",
    "new_data = new_data.drop('sender', axis=1)\n",
    "new_data = new_data.drop('subject', axis=1)\n",
    "new_data"
   ]
  },
  {
   "cell_type": "code",
   "execution_count": 215,
   "id": "a146c66d-f833-4baf-9491-7f850c9ca2e3",
   "metadata": {},
   "outputs": [],
   "source": [
    "data = new_data"
   ]
  },
  {
   "cell_type": "code",
   "execution_count": 216,
   "id": "d03f89fd-7b81-4b8c-8621-c54fdac8079b",
   "metadata": {
    "tags": []
   },
   "outputs": [
    {
     "data": {
      "text/html": [
       "<div>\n",
       "<style scoped>\n",
       "    .dataframe tbody tr th:only-of-type {\n",
       "        vertical-align: middle;\n",
       "    }\n",
       "\n",
       "    .dataframe tbody tr th {\n",
       "        vertical-align: top;\n",
       "    }\n",
       "\n",
       "    .dataframe thead th {\n",
       "        text-align: right;\n",
       "    }\n",
       "</style>\n",
       "<table border=\"1\" class=\"dataframe\">\n",
       "  <thead>\n",
       "    <tr style=\"text-align: right;\">\n",
       "      <th></th>\n",
       "      <th>1</th>\n",
       "      <th>2</th>\n",
       "      <th>3</th>\n",
       "      <th>4</th>\n",
       "      <th>5</th>\n",
       "      <th>6</th>\n",
       "      <th>7</th>\n",
       "      <th>8</th>\n",
       "      <th>9</th>\n",
       "      <th>10</th>\n",
       "      <th>...</th>\n",
       "      <th>43</th>\n",
       "      <th>44</th>\n",
       "      <th>45</th>\n",
       "      <th>46</th>\n",
       "      <th>47</th>\n",
       "      <th>48</th>\n",
       "      <th>49</th>\n",
       "      <th>50</th>\n",
       "      <th>urls</th>\n",
       "      <th>label</th>\n",
       "    </tr>\n",
       "  </thead>\n",
       "  <tbody>\n",
       "    <tr>\n",
       "      <th>0</th>\n",
       "      <td>-0.426917</td>\n",
       "      <td>-0.004104</td>\n",
       "      <td>-0.076846</td>\n",
       "      <td>-0.203992</td>\n",
       "      <td>-0.122698</td>\n",
       "      <td>-0.698500</td>\n",
       "      <td>-0.352484</td>\n",
       "      <td>0.591961</td>\n",
       "      <td>-0.177576</td>\n",
       "      <td>0.010746</td>\n",
       "      <td>...</td>\n",
       "      <td>-1.072639</td>\n",
       "      <td>-0.137006</td>\n",
       "      <td>0.644205</td>\n",
       "      <td>0.531124</td>\n",
       "      <td>-0.850184</td>\n",
       "      <td>-0.286374</td>\n",
       "      <td>-0.385870</td>\n",
       "      <td>-0.205839</td>\n",
       "      <td>1</td>\n",
       "      <td>1</td>\n",
       "    </tr>\n",
       "    <tr>\n",
       "      <th>1</th>\n",
       "      <td>-0.301420</td>\n",
       "      <td>-0.604644</td>\n",
       "      <td>-0.078867</td>\n",
       "      <td>-0.003527</td>\n",
       "      <td>-0.189298</td>\n",
       "      <td>0.027241</td>\n",
       "      <td>0.650487</td>\n",
       "      <td>0.776408</td>\n",
       "      <td>-0.426351</td>\n",
       "      <td>0.226446</td>\n",
       "      <td>...</td>\n",
       "      <td>-0.034326</td>\n",
       "      <td>0.044819</td>\n",
       "      <td>0.003294</td>\n",
       "      <td>-0.114293</td>\n",
       "      <td>-0.026271</td>\n",
       "      <td>0.038869</td>\n",
       "      <td>-0.042575</td>\n",
       "      <td>-0.023058</td>\n",
       "      <td>1</td>\n",
       "      <td>1</td>\n",
       "    </tr>\n",
       "    <tr>\n",
       "      <th>2</th>\n",
       "      <td>3.272722</td>\n",
       "      <td>-2.561960</td>\n",
       "      <td>-0.871368</td>\n",
       "      <td>-0.227408</td>\n",
       "      <td>0.010922</td>\n",
       "      <td>0.036696</td>\n",
       "      <td>-0.228835</td>\n",
       "      <td>-0.380469</td>\n",
       "      <td>4.142873</td>\n",
       "      <td>-2.947278</td>\n",
       "      <td>...</td>\n",
       "      <td>-0.001498</td>\n",
       "      <td>0.022748</td>\n",
       "      <td>-0.047372</td>\n",
       "      <td>-0.034065</td>\n",
       "      <td>-0.027853</td>\n",
       "      <td>0.002334</td>\n",
       "      <td>-0.035214</td>\n",
       "      <td>-0.016125</td>\n",
       "      <td>1</td>\n",
       "      <td>1</td>\n",
       "    </tr>\n",
       "    <tr>\n",
       "      <th>3</th>\n",
       "      <td>-0.318055</td>\n",
       "      <td>-0.760740</td>\n",
       "      <td>-0.271595</td>\n",
       "      <td>-0.140837</td>\n",
       "      <td>0.111953</td>\n",
       "      <td>-0.071034</td>\n",
       "      <td>0.052940</td>\n",
       "      <td>0.198062</td>\n",
       "      <td>0.209648</td>\n",
       "      <td>0.753429</td>\n",
       "      <td>...</td>\n",
       "      <td>0.014184</td>\n",
       "      <td>-0.672714</td>\n",
       "      <td>-0.284708</td>\n",
       "      <td>-0.002581</td>\n",
       "      <td>-0.113030</td>\n",
       "      <td>0.734184</td>\n",
       "      <td>0.806202</td>\n",
       "      <td>-0.008474</td>\n",
       "      <td>1</td>\n",
       "      <td>0</td>\n",
       "    </tr>\n",
       "    <tr>\n",
       "      <th>4</th>\n",
       "      <td>-0.344538</td>\n",
       "      <td>-1.047056</td>\n",
       "      <td>-0.199258</td>\n",
       "      <td>-0.108279</td>\n",
       "      <td>0.048807</td>\n",
       "      <td>0.088499</td>\n",
       "      <td>0.096057</td>\n",
       "      <td>0.020240</td>\n",
       "      <td>0.074161</td>\n",
       "      <td>0.128524</td>\n",
       "      <td>...</td>\n",
       "      <td>-0.018962</td>\n",
       "      <td>0.020230</td>\n",
       "      <td>-0.027911</td>\n",
       "      <td>-0.037765</td>\n",
       "      <td>-0.030991</td>\n",
       "      <td>-0.021996</td>\n",
       "      <td>-0.032201</td>\n",
       "      <td>-0.010667</td>\n",
       "      <td>1</td>\n",
       "      <td>1</td>\n",
       "    </tr>\n",
       "    <tr>\n",
       "      <th>5</th>\n",
       "      <td>-0.693548</td>\n",
       "      <td>-0.808012</td>\n",
       "      <td>0.045951</td>\n",
       "      <td>-0.166378</td>\n",
       "      <td>0.010664</td>\n",
       "      <td>0.012139</td>\n",
       "      <td>-0.066918</td>\n",
       "      <td>-0.059027</td>\n",
       "      <td>0.001882</td>\n",
       "      <td>-0.050618</td>\n",
       "      <td>...</td>\n",
       "      <td>0.149617</td>\n",
       "      <td>0.519573</td>\n",
       "      <td>-0.067937</td>\n",
       "      <td>0.596771</td>\n",
       "      <td>-0.601829</td>\n",
       "      <td>-0.675835</td>\n",
       "      <td>0.218235</td>\n",
       "      <td>0.308421</td>\n",
       "      <td>0</td>\n",
       "      <td>1</td>\n",
       "    </tr>\n",
       "    <tr>\n",
       "      <th>6</th>\n",
       "      <td>-0.440787</td>\n",
       "      <td>0.060271</td>\n",
       "      <td>0.110373</td>\n",
       "      <td>2.265851</td>\n",
       "      <td>0.733996</td>\n",
       "      <td>-0.132796</td>\n",
       "      <td>0.099662</td>\n",
       "      <td>0.472060</td>\n",
       "      <td>-0.298767</td>\n",
       "      <td>-0.349066</td>\n",
       "      <td>...</td>\n",
       "      <td>-0.047771</td>\n",
       "      <td>-1.236799</td>\n",
       "      <td>0.236425</td>\n",
       "      <td>-1.318554</td>\n",
       "      <td>0.107207</td>\n",
       "      <td>-0.344796</td>\n",
       "      <td>-0.758078</td>\n",
       "      <td>-0.944707</td>\n",
       "      <td>0</td>\n",
       "      <td>1</td>\n",
       "    </tr>\n",
       "    <tr>\n",
       "      <th>7</th>\n",
       "      <td>3.270388</td>\n",
       "      <td>-2.562125</td>\n",
       "      <td>-0.871041</td>\n",
       "      <td>-0.228462</td>\n",
       "      <td>0.015380</td>\n",
       "      <td>0.027721</td>\n",
       "      <td>-0.227645</td>\n",
       "      <td>-0.377261</td>\n",
       "      <td>4.140709</td>\n",
       "      <td>-2.943642</td>\n",
       "      <td>...</td>\n",
       "      <td>-0.001498</td>\n",
       "      <td>0.022748</td>\n",
       "      <td>-0.047372</td>\n",
       "      <td>-0.034065</td>\n",
       "      <td>-0.027853</td>\n",
       "      <td>0.002334</td>\n",
       "      <td>-0.035214</td>\n",
       "      <td>-0.016125</td>\n",
       "      <td>1</td>\n",
       "      <td>1</td>\n",
       "    </tr>\n",
       "    <tr>\n",
       "      <th>8</th>\n",
       "      <td>-0.411026</td>\n",
       "      <td>0.090955</td>\n",
       "      <td>-0.102771</td>\n",
       "      <td>-0.208674</td>\n",
       "      <td>-0.045716</td>\n",
       "      <td>-0.292051</td>\n",
       "      <td>-0.650438</td>\n",
       "      <td>-0.173940</td>\n",
       "      <td>0.606204</td>\n",
       "      <td>1.187066</td>\n",
       "      <td>...</td>\n",
       "      <td>-0.009112</td>\n",
       "      <td>-0.094642</td>\n",
       "      <td>-0.164975</td>\n",
       "      <td>0.080277</td>\n",
       "      <td>0.410487</td>\n",
       "      <td>-0.446219</td>\n",
       "      <td>-0.414278</td>\n",
       "      <td>0.053010</td>\n",
       "      <td>1</td>\n",
       "      <td>0</td>\n",
       "    </tr>\n",
       "    <tr>\n",
       "      <th>9</th>\n",
       "      <td>3.271083</td>\n",
       "      <td>-2.562309</td>\n",
       "      <td>-0.871182</td>\n",
       "      <td>-0.228368</td>\n",
       "      <td>0.014948</td>\n",
       "      <td>0.028572</td>\n",
       "      <td>-0.227760</td>\n",
       "      <td>-0.377589</td>\n",
       "      <td>4.141385</td>\n",
       "      <td>-2.944214</td>\n",
       "      <td>...</td>\n",
       "      <td>-0.001498</td>\n",
       "      <td>0.022748</td>\n",
       "      <td>-0.047372</td>\n",
       "      <td>-0.034065</td>\n",
       "      <td>-0.027853</td>\n",
       "      <td>0.002334</td>\n",
       "      <td>-0.035214</td>\n",
       "      <td>-0.016125</td>\n",
       "      <td>1</td>\n",
       "      <td>1</td>\n",
       "    </tr>\n",
       "  </tbody>\n",
       "</table>\n",
       "<p>10 rows × 357 columns</p>\n",
       "</div>"
      ],
      "text/plain": [
       "          1         2         3         4         5         6         7  \\\n",
       "0 -0.426917 -0.004104 -0.076846 -0.203992 -0.122698 -0.698500 -0.352484   \n",
       "1 -0.301420 -0.604644 -0.078867 -0.003527 -0.189298  0.027241  0.650487   \n",
       "2  3.272722 -2.561960 -0.871368 -0.227408  0.010922  0.036696 -0.228835   \n",
       "3 -0.318055 -0.760740 -0.271595 -0.140837  0.111953 -0.071034  0.052940   \n",
       "4 -0.344538 -1.047056 -0.199258 -0.108279  0.048807  0.088499  0.096057   \n",
       "5 -0.693548 -0.808012  0.045951 -0.166378  0.010664  0.012139 -0.066918   \n",
       "6 -0.440787  0.060271  0.110373  2.265851  0.733996 -0.132796  0.099662   \n",
       "7  3.270388 -2.562125 -0.871041 -0.228462  0.015380  0.027721 -0.227645   \n",
       "8 -0.411026  0.090955 -0.102771 -0.208674 -0.045716 -0.292051 -0.650438   \n",
       "9  3.271083 -2.562309 -0.871182 -0.228368  0.014948  0.028572 -0.227760   \n",
       "\n",
       "          8         9        10  ...        43        44        45        46  \\\n",
       "0  0.591961 -0.177576  0.010746  ... -1.072639 -0.137006  0.644205  0.531124   \n",
       "1  0.776408 -0.426351  0.226446  ... -0.034326  0.044819  0.003294 -0.114293   \n",
       "2 -0.380469  4.142873 -2.947278  ... -0.001498  0.022748 -0.047372 -0.034065   \n",
       "3  0.198062  0.209648  0.753429  ...  0.014184 -0.672714 -0.284708 -0.002581   \n",
       "4  0.020240  0.074161  0.128524  ... -0.018962  0.020230 -0.027911 -0.037765   \n",
       "5 -0.059027  0.001882 -0.050618  ...  0.149617  0.519573 -0.067937  0.596771   \n",
       "6  0.472060 -0.298767 -0.349066  ... -0.047771 -1.236799  0.236425 -1.318554   \n",
       "7 -0.377261  4.140709 -2.943642  ... -0.001498  0.022748 -0.047372 -0.034065   \n",
       "8 -0.173940  0.606204  1.187066  ... -0.009112 -0.094642 -0.164975  0.080277   \n",
       "9 -0.377589  4.141385 -2.944214  ... -0.001498  0.022748 -0.047372 -0.034065   \n",
       "\n",
       "         47        48        49        50  urls  label  \n",
       "0 -0.850184 -0.286374 -0.385870 -0.205839     1      1  \n",
       "1 -0.026271  0.038869 -0.042575 -0.023058     1      1  \n",
       "2 -0.027853  0.002334 -0.035214 -0.016125     1      1  \n",
       "3 -0.113030  0.734184  0.806202 -0.008474     1      0  \n",
       "4 -0.030991 -0.021996 -0.032201 -0.010667     1      1  \n",
       "5 -0.601829 -0.675835  0.218235  0.308421     0      1  \n",
       "6  0.107207 -0.344796 -0.758078 -0.944707     0      1  \n",
       "7 -0.027853  0.002334 -0.035214 -0.016125     1      1  \n",
       "8  0.410487 -0.446219 -0.414278  0.053010     1      0  \n",
       "9 -0.027853  0.002334 -0.035214 -0.016125     1      1  \n",
       "\n",
       "[10 rows x 357 columns]"
      ]
     },
     "execution_count": 216,
     "metadata": {},
     "output_type": "execute_result"
    }
   ],
   "source": [
    "data.head(10)"
   ]
  },
  {
   "cell_type": "markdown",
   "id": "cbb3dd24-2d2c-44b9-ac8b-a19d2a9274ae",
   "metadata": {},
   "source": [
    "## Decision Class"
   ]
  },
  {
   "cell_type": "code",
   "execution_count": 217,
   "id": "51a30e7b-9f5b-499f-a970-a6a90897f6d6",
   "metadata": {},
   "outputs": [],
   "source": [
    "class Decision:\n",
    "    \"\"\" A decision is used to ask the question at a decision node to split the data.\n",
    "    This class records column number and values and matches the stored feature value to a give feature value\n",
    "    \"\"\"\n",
    "    \n",
    "    def __init__(self, feature_index, threshold):\n",
    "        self.feature_index = feature_index\n",
    "        self.threshold = threshold\n",
    "        \n",
    "    def ask(self, input):\n",
    "        # Compares input feature value to stored value\n",
    "        feature_val = input[self.feature_index]\n",
    "        if isinstance(feature_val, (int, float, np.number)):\n",
    "            return feature_val >= self.threshold\n",
    "        else:\n",
    "            return feature_val == self.threshold\n",
    "        "
   ]
  },
  {
   "cell_type": "markdown",
   "id": "cd5f4395-283e-4086-8403-750c64cec056",
   "metadata": {},
   "source": [
    "## Helper Functions for Splitting"
   ]
  },
  {
   "cell_type": "code",
   "execution_count": 218,
   "id": "9260ee4a-d7cb-4af6-b999-0c8d978b1d32",
   "metadata": {
    "tags": []
   },
   "outputs": [],
   "source": [
    "def divide_df(rows, decision):\n",
    "    # Partitions a data frame\n",
    "    # Check if each row matches decision, divide into true and false\n",
    "    col = rows[:, decision.feature_index]\n",
    "    if np.issubdtype(col.dtype, np.number):\n",
    "        mask = col >= decision.threshold\n",
    "    else:\n",
    "        mask = col == decision.threshold\n",
    "    left, right = rows[mask],rows[~mask]\n",
    "    return left, right"
   ]
  },
  {
   "cell_type": "code",
   "execution_count": 219,
   "id": "b3e2dac2-d911-476c-9829-a32d714e81ac",
   "metadata": {
    "tags": []
   },
   "outputs": [],
   "source": [
    "def label_count(rows):\n",
    "    # Counts the number of each classification in data frame\n",
    "    y = rows[:, -1]\n",
    "    unique, label_counts = np.unique(y, return_counts=True)\n",
    "    return dict(zip(unique,label_counts))"
   ]
  },
  {
   "cell_type": "code",
   "execution_count": 220,
   "id": "fac30633-31c2-4bbb-ac1c-3fb62889c962",
   "metadata": {
    "tags": []
   },
   "outputs": [],
   "source": [
    "def gini_impurity(rows):\n",
    "    #Calculates Gini Impurity for a data frame of rows.\n",
    "    y = rows[:, -1]\n",
    "    _, label_counts = np.unique(y, return_counts=True)\n",
    "    probs = label_counts/label_counts.sum()\n",
    "    return 1.0 - np.sum(probs**2)"
   ]
  },
  {
   "cell_type": "code",
   "execution_count": 221,
   "id": "2c7863f0-afc2-447b-8931-5a1da1aa6cfb",
   "metadata": {
    "tags": []
   },
   "outputs": [],
   "source": [
    "def info_gain(left, right, curr_gini):\n",
    "    #Information gain: Gini of the root node subtracted by the impurty of the two children nodes.\n",
    "    if len(left) + len(right) == 0:\n",
    "        return 0\n",
    "    prob = float(len(left) / (len(left) + len(right)))\n",
    "    return curr_gini - prob * gini_impurity(left) - (1 - prob) * gini_impurity(right)\n",
    "                 "
   ]
  },
  {
   "cell_type": "code",
   "execution_count": 222,
   "id": "e31f6718-279d-41aa-8c51-a3fac04e2db7",
   "metadata": {
    "tags": []
   },
   "outputs": [],
   "source": [
    "def threshold_candidates(col, max_thresh=5):\n",
    "    #Choose candidate threshold split\n",
    "    unique = np.unique(col)\n",
    "    if len(unique) > max_thresh:\n",
    "        quantile = np.linspace(0, 100, max_thresh + 2)[1:-1]\n",
    "        unique = np.percentile(unique, quantile)\n",
    "    if len(unique) > 1:\n",
    "        return (unique[:-1] + unique[1:])/2\n",
    "    else:\n",
    "        return unique"
   ]
  },
  {
   "cell_type": "code",
   "execution_count": 223,
   "id": "a0f701e0-7ce2-49eb-b193-147a2d75344e",
   "metadata": {
    "tags": []
   },
   "outputs": [],
   "source": [
    "def info_gain_split(rows):\n",
    "    #Find best decision to make based on informaiton gain\n",
    "    X = rows[:, :-1]\n",
    "    y = rows[:, -1]\n",
    "    curr_gini = gini_impurity(rows)\n",
    "    feature_count = X.shape[1]\n",
    "    \n",
    "    highest_gain = 0\n",
    "    optimal_decision = None\n",
    "    \n",
    "    for feature_index in range(feature_count):\n",
    "        col = X[:, feature_index]\n",
    "        \n",
    "        #Candidate Thresholds\n",
    "        thresholds = threshold_candidates(col) if np.issubdtype(col.dtype, np.number) else np.unique(col)\n",
    "        \n",
    "        for candidate in thresholds:\n",
    "            if np.issubdtype(col.dtype, np.number):\n",
    "                mask = col >= candidate\n",
    "            else:\n",
    "                mask = col == candidate\n",
    "            \n",
    "            if mask.sum() == 0 or mask.sum() == len(mask):\n",
    "                continue\n",
    "        \n",
    "            left, right = rows[mask], rows[~mask]\n",
    "            gain = info_gain(left, right, curr_gini)\n",
    "            \n",
    "            if gain > highest_gain:\n",
    "                highest_gain, optimal_decision = gain, Decision(feature_index, candidate)\n",
    "                \n",
    "    return highest_gain, optimal_decision"
   ]
  },
  {
   "cell_type": "markdown",
   "id": "31e97671-bb4e-4938-acb7-26e7ef9fa6cc",
   "metadata": {},
   "source": [
    "## Build Tree and Node Classes"
   ]
  },
  {
   "cell_type": "code",
   "execution_count": 224,
   "id": "27e43030-1837-4a29-9654-ddf88ceed02c",
   "metadata": {
    "tags": []
   },
   "outputs": [],
   "source": [
    "class LeafNode:\n",
    "    # A leaf Node holdes classified data.\n",
    "    # Holds a dictionary with class counts in the leaf.\n",
    "    \n",
    "    def __init__(self,rows):\n",
    "        self.pred = label_count(rows)"
   ]
  },
  {
   "cell_type": "code",
   "execution_count": 225,
   "id": "87efda5b-d2c1-41fa-86bc-94824b7d985f",
   "metadata": {
    "tags": []
   },
   "outputs": [],
   "source": [
    "class DecisionNode:\n",
    "    # A Decision Node asks a Decision to be made.\n",
    "    # Holds reference to a Decision, and two child nodes.\n",
    "    \n",
    "    def __init__(self, decision, left, right):\n",
    "        self.decision = decision\n",
    "        self.left = left\n",
    "        self.right = right"
   ]
  },
  {
   "cell_type": "code",
   "execution_count": 254,
   "id": "ec9b89fa-2962-4318-8737-3da67ef0c922",
   "metadata": {
    "tags": []
   },
   "outputs": [],
   "source": [
    "def build_tree(rows, depth=0, max_depth=10, min_sample_split=2):\n",
    "    # Recursively Builds tree.\n",
    "    if len(rows) < min_sample_split or depth >= max_depth:\n",
    "        return LeafNode(rows)\n",
    "    \n",
    "    highest_gain, optimal_decision = info_gain_split(rows)\n",
    "    \n",
    "    #Base case no further gain\n",
    "    if highest_gain < 1e-6 or optimal_decision is None:\n",
    "        return LeafNode(rows)\n",
    "    \n",
    "    #Found Partition\n",
    "    left, right = divide_df(rows, optimal_decision)\n",
    "    \n",
    "    #Recurse Left Subtree\n",
    "    left_subtree = build_tree(left, depth+1, max_depth, min_sample_split)\n",
    "    \n",
    "    #Recurse Right Subtree\n",
    "    right_subtree = build_tree(right, depth+1, max_depth, min_sample_split)\n",
    "    \n",
    "    #Return Decision Node\n",
    "    return DecisionNode(optimal_decision, left_subtree, right_subtree)"
   ]
  },
  {
   "cell_type": "code",
   "execution_count": 227,
   "id": "2f988394-3178-469b-bc9c-853ea393676b",
   "metadata": {
    "tags": []
   },
   "outputs": [],
   "source": [
    "def predict(row, curr_node):\n",
    "    #Base Case: Curr node is a leaf\n",
    "    if isinstance(curr_node, LeafNode):\n",
    "        total = sum(curr_node.pred.values())\n",
    "        return max(curr_node.pred, key=curr_node.pred.get), {k: v/total for k,v in curr_node.pred.items()}\n",
    "    \n",
    "    #Recurse the left or right subtree\n",
    "    if curr_node.decision.ask(row):\n",
    "        return predict(row, curr_node.left)\n",
    "    else:\n",
    "        return predict(row, curr_node.right)"
   ]
  },
  {
   "cell_type": "markdown",
   "id": "9fb33fcc-45ab-45f8-b3ce-6f4964a92d98",
   "metadata": {},
   "source": [
    "## Prediction and Testing"
   ]
  },
  {
   "cell_type": "code",
   "execution_count": 297,
   "id": "3718c03d-1743-4799-825b-a36ea307841f",
   "metadata": {
    "tags": []
   },
   "outputs": [],
   "source": [
    "#test_data = {'sender': ['luna_prado@gmail.com'], 'subject': ['Advisor Help'], 'body':['Hello Dr. Athienitis, can you help me with choosing classes for the upcoming semester. Look forward to staying in contact.'], 'urls':[0]}\n",
    "#test_df = pd.DataFrame(test_data)"
   ]
  },
  {
   "cell_type": "code",
   "execution_count": 309,
   "id": "60b3f676-cf4c-4c3b-a1c9-dd7c78bcde53",
   "metadata": {
    "tags": []
   },
   "outputs": [],
   "source": [
    "test_data = {'sender': ['asjfnakjsnfkanf@gmail.com'], 'subject': ['SCAM URGENT'], 'body':['Make money quick, urgent new opportunity. Please buy now for your future. Passive Income, Easy life. Venmo.com'], 'urls':[1]}\n",
    "test_df = pd.DataFrame(test_data)"
   ]
  },
  {
   "cell_type": "code",
   "execution_count": 310,
   "id": "f318626b-df78-46ef-8fb7-2baa7f903769",
   "metadata": {},
   "outputs": [],
   "source": [
    "new_body = vectorizer_body.transform(test_df['body'])\n",
    "new_body_reduced = svd.transform(new_body)\n",
    "new_body_df = pd.DataFrame(new_body_reduced, columns=range(1,301))\n",
    "\n",
    "new_send = vectorizer_send.transform(test_df['sender'])\n",
    "new_send_reduced = svd_send.transform(new_send)\n",
    "new_send_df = pd.DataFrame(new_send_reduced, columns=range(1,6))\n",
    "\n",
    "new_sub = vectorizer_sub.transform(test_df['subject'])\n",
    "new_sub_reduced = svd_sub.transform(new_sub)\n",
    "new_sub_df = pd.DataFrame(new_sub_reduced, columns=range(1,51))"
   ]
  },
  {
   "cell_type": "code",
   "execution_count": 311,
   "id": "8bf09010-6347-404a-aa4b-a353af460c88",
   "metadata": {
    "tags": []
   },
   "outputs": [],
   "source": [
    "new_scaler_body = StandardScaler()\n",
    "new_body_reduced = new_scaler_body.fit_transform(new_body_reduced)\n",
    "\n",
    "new_scaler_send = StandardScaler()\n",
    "new_send_reduced = new_scaler_send.fit_transform(new_send_reduced)\n",
    "\n",
    "new_scaler_sub = StandardScaler()\n",
    "new_sub_reduced = new_scaler_sub.fit_transform(new_sub_reduced)"
   ]
  },
  {
   "cell_type": "code",
   "execution_count": 312,
   "id": "8a6219d6-7861-4374-ba91-d224d879d739",
   "metadata": {
    "tags": []
   },
   "outputs": [],
   "source": [
    "new_data = pd.concat([new_body_df, new_send_df, new_sub_df,test_df], axis=1)\n",
    "new_data = new_data.drop('body', axis=1)\n",
    "new_data = new_data.drop('subject', axis=1)\n",
    "new_data = new_data.drop('sender', axis=1)"
   ]
  },
  {
   "cell_type": "code",
   "execution_count": 313,
   "id": "45304369-4a68-4aa4-9493-8abc0d76ceda",
   "metadata": {
    "tags": []
   },
   "outputs": [
    {
     "data": {
      "text/html": [
       "<div>\n",
       "<style scoped>\n",
       "    .dataframe tbody tr th:only-of-type {\n",
       "        vertical-align: middle;\n",
       "    }\n",
       "\n",
       "    .dataframe tbody tr th {\n",
       "        vertical-align: top;\n",
       "    }\n",
       "\n",
       "    .dataframe thead th {\n",
       "        text-align: right;\n",
       "    }\n",
       "</style>\n",
       "<table border=\"1\" class=\"dataframe\">\n",
       "  <thead>\n",
       "    <tr style=\"text-align: right;\">\n",
       "      <th></th>\n",
       "      <th>1</th>\n",
       "      <th>2</th>\n",
       "      <th>3</th>\n",
       "      <th>4</th>\n",
       "      <th>5</th>\n",
       "      <th>6</th>\n",
       "      <th>7</th>\n",
       "      <th>8</th>\n",
       "      <th>9</th>\n",
       "      <th>10</th>\n",
       "      <th>...</th>\n",
       "      <th>42</th>\n",
       "      <th>43</th>\n",
       "      <th>44</th>\n",
       "      <th>45</th>\n",
       "      <th>46</th>\n",
       "      <th>47</th>\n",
       "      <th>48</th>\n",
       "      <th>49</th>\n",
       "      <th>50</th>\n",
       "      <th>urls</th>\n",
       "    </tr>\n",
       "  </thead>\n",
       "  <tbody>\n",
       "    <tr>\n",
       "      <th>0</th>\n",
       "      <td>0.040516</td>\n",
       "      <td>0.059594</td>\n",
       "      <td>0.002825</td>\n",
       "      <td>0.035057</td>\n",
       "      <td>-0.045219</td>\n",
       "      <td>0.02167</td>\n",
       "      <td>0.055005</td>\n",
       "      <td>0.0523</td>\n",
       "      <td>0.00079</td>\n",
       "      <td>0.015054</td>\n",
       "      <td>...</td>\n",
       "      <td>-0.002516</td>\n",
       "      <td>0.000078</td>\n",
       "      <td>0.000762</td>\n",
       "      <td>0.002078</td>\n",
       "      <td>0.006102</td>\n",
       "      <td>-0.001195</td>\n",
       "      <td>0.005409</td>\n",
       "      <td>0.005108</td>\n",
       "      <td>-0.003093</td>\n",
       "      <td>1</td>\n",
       "    </tr>\n",
       "  </tbody>\n",
       "</table>\n",
       "<p>1 rows × 356 columns</p>\n",
       "</div>"
      ],
      "text/plain": [
       "          1         2         3         4         5        6         7  \\\n",
       "0  0.040516  0.059594  0.002825  0.035057 -0.045219  0.02167  0.055005   \n",
       "\n",
       "        8        9        10  ...        42        43        44        45  \\\n",
       "0  0.0523  0.00079  0.015054  ... -0.002516  0.000078  0.000762  0.002078   \n",
       "\n",
       "         46        47        48        49        50  urls  \n",
       "0  0.006102 -0.001195  0.005409  0.005108 -0.003093     1  \n",
       "\n",
       "[1 rows x 356 columns]"
      ]
     },
     "execution_count": 313,
     "metadata": {},
     "output_type": "execute_result"
    }
   ],
   "source": [
    "test_df = new_data\n",
    "test_df"
   ]
  },
  {
   "cell_type": "markdown",
   "id": "35ca4e1a-a2b8-488c-a79a-cb47f62bcff4",
   "metadata": {},
   "source": [
    "## Random Forest Draft:"
   ]
  },
  {
   "cell_type": "code",
   "execution_count": 314,
   "id": "03f31358-ba36-4e72-ab13-88cae74d9c7e",
   "metadata": {
    "tags": []
   },
   "outputs": [],
   "source": [
    "class RandomForest:\n",
    "    def __init__(self, tree_count=10, max_depth=10, min_sample_split=2, feature_count=None):\n",
    "        self.tree_count = tree_count\n",
    "        self.max_depth = max_depth\n",
    "        self.min_sample_split = min_sample_split\n",
    "        self.feature_count = feature_count\n",
    "        self.trees = []\n",
    "        \n",
    "    def fit(self, X, y):\n",
    "        self.trees = []\n",
    "        self.feature_count = X.shape[1]\n",
    "        self.feature_subspaces = []\n",
    "        \n",
    "        for _ in range(self.tree_count):\n",
    "            X_partial, y_partial = self.bootstrap(X, y)\n",
    "            feature_index = np.random.choice(self.feature_count, int(np.sqrt(self.feature_count)), replace=False)\n",
    "            self.feature_subspaces.append(feature_index)\n",
    "            X_subspace = X_partial[:, feature_index]\n",
    "            rows = np.concatenate((X_subspace, y_partial), axis=1)\n",
    "            \n",
    "            tree = build_tree(rows, max_depth=self.max_depth, min_sample_split=self.min_sample_split)\n",
    "            self.trees.append(tree)\n",
    "        \n",
    "        \n",
    "    def bootstrap(self, X, y):\n",
    "        sample_count = X.shape[0]\n",
    "        row_index = np.random.choice(sample_count, sample_count, replace=True)\n",
    "        return X[row_index], y[row_index]\n",
    "        \n",
    "    \n",
    "    def subspace(self, X):\n",
    "        feature_index = np.random.choice(self.feature_count, int(self.feature_count**0.5), replace=False)\n",
    "        return X[:, feature_index]\n",
    "       \n",
    "                                  \n",
    "    def predict_one(self, X):\n",
    "        votes = []\n",
    "        for tree, features in zip(self.trees, self.feature_subspaces):\n",
    "            X_subspace = X[features]\n",
    "            pred, _ = predict(X_subspace, tree)\n",
    "            votes.append(pred)\n",
    "        return max(set(votes), key=votes.count)\n",
    "                                  \n",
    "                                  \n",
    "    def random_predict(self, X):\n",
    "        preds = np.array([predict(X, tree) for tree in self.trees])\n",
    "        final_preds = np.swapaxes(preds, 0, 1)\n",
    "        #Need to implement mode getter\n",
    "        values, counts = np.unique(final_preds[0], return_counts=True)\n",
    "        mode_index = np.argmax(counts)\n",
    "        mode_value = values[mode_index]\n",
    "        mode_count = counts[mode_index]/self.tree_count\n",
    "        sol = np.array((mode_value,mode_count))\n",
    "        return sol"
   ]
  },
  {
   "cell_type": "code",
   "execution_count": 315,
   "id": "0feed11d-3ed0-4eb8-b2a6-16a9e9ceaf8c",
   "metadata": {
    "tags": []
   },
   "outputs": [
    {
     "name": "stdout",
     "output_type": "stream",
     "text": [
      "(31323, 356)\n",
      "(7831, 356)\n"
     ]
    }
   ],
   "source": [
    "X = data.to_numpy()[:,:-1]\n",
    "y = data.to_numpy()[:, -1].reshape(-1,1)\n",
    "X_train, X_test, y_train, y_test = train_test_split(X, y, test_size=0.2, random_state=42)\n",
    "print(X_train.shape)\n",
    "print(X_test.shape)"
   ]
  },
  {
   "cell_type": "code",
   "execution_count": 316,
   "id": "b8c6eafc-2ca8-4d4a-8ec5-5cb60cc412f1",
   "metadata": {
    "tags": []
   },
   "outputs": [],
   "source": [
    "my_forest = RandomForest(tree_count=10, max_depth=10, min_sample_split=2, feature_count=X_train.shape[1])\n",
    "my_forest.fit(X_train,y_train)"
   ]
  },
  {
   "cell_type": "code",
   "execution_count": 317,
   "id": "32e783d8-cd32-4b60-9f50-058d88cd88b6",
   "metadata": {
    "tags": []
   },
   "outputs": [
    {
     "name": "stdout",
     "output_type": "stream",
     "text": [
      "(7831,)\n",
      "(7831, 1)\n"
     ]
    }
   ],
   "source": [
    "arr = np.array([my_forest.predict_one(X) for X in X_test])\n",
    "print(arr.shape)\n",
    "print(y_test.shape)"
   ]
  },
  {
   "cell_type": "code",
   "execution_count": 318,
   "id": "7165bade-c207-4b22-b150-5614f64b33cf",
   "metadata": {
    "tags": []
   },
   "outputs": [
    {
     "name": "stdout",
     "output_type": "stream",
     "text": [
      "0.9532626739879965\n"
     ]
    }
   ],
   "source": [
    "accuracy = accuracy_score(y_test, arr)\n",
    "print(accuracy)"
   ]
  },
  {
   "cell_type": "code",
   "execution_count": 319,
   "id": "fa45d2f8-e35f-430a-a6bc-72194fbba3aa",
   "metadata": {
    "tags": []
   },
   "outputs": [
    {
     "data": {
      "text/plain": [
       "1.0"
      ]
     },
     "execution_count": 319,
     "metadata": {},
     "output_type": "execute_result"
    }
   ],
   "source": [
    "input_x = test_df.to_numpy()[0,:]\n",
    "pred = my_forest.predict_one(input_x)\n",
    "pred"
   ]
  }
 ],
 "metadata": {
  "kernelspec": {
   "display_name": "Python 3 (ipykernel)",
   "language": "python",
   "name": "python3"
  },
  "language_info": {
   "codemirror_mode": {
    "name": "ipython",
    "version": 3
   },
   "file_extension": ".py",
   "mimetype": "text/x-python",
   "name": "python",
   "nbconvert_exporter": "python",
   "pygments_lexer": "ipython3",
   "version": "3.11.5"
  }
 },
 "nbformat": 4,
 "nbformat_minor": 5
}
