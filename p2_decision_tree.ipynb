{
 "cells": [
  {
   "cell_type": "markdown",
   "id": "a1c0a0e4-2849-4a79-9b32-ee42c82b5232",
   "metadata": {},
   "source": [
    "# Scam Detector: Decision Tree"
   ]
  },
  {
   "cell_type": "markdown",
   "id": "0904a70d-a2f8-40e9-a4f5-ad7e7edb9011",
   "metadata": {},
   "source": [
    "    This Jupyter Notebook will be used to run a Decision Tree Algorithm to predict if a given email is a scam or a ham(a normal email)."
   ]
  },
  {
   "cell_type": "markdown",
   "id": "7158aa78-4c8c-45f5-af34-15071349526a",
   "metadata": {
    "tags": []
   },
   "source": [
    "## Import Packages"
   ]
  },
  {
   "cell_type": "code",
   "execution_count": 1,
   "id": "3bf4d050-2499-4995-820a-c0d13d2f1a6c",
   "metadata": {
    "tags": []
   },
   "outputs": [],
   "source": [
    "#import the packages we need\n",
    "import numpy as np\n",
    "import pandas as pd\n",
    "import matplotlib.pyplot as plt\n",
    "from sklearn.feature_extraction.text import TfidfVectorizer"
   ]
  },
  {
   "cell_type": "markdown",
   "id": "bc74f965-4e22-40d8-a5e8-8dbefe0a056e",
   "metadata": {},
   "source": [
    "## Retrieve Data"
   ]
  },
  {
   "cell_type": "code",
   "execution_count": 2,
   "id": "70cf40b4-84ee-4a4d-bf3d-614b31d84c2e",
   "metadata": {
    "tags": []
   },
   "outputs": [
    {
     "data": {
      "text/plain": [
       "'\\ntest_col_names = [\\'sepal_length\\', \\'sepal_width\\', \\'petal_length\\', \\'petal_width\\', \\'species\\']\\ntest_path = \"IRIS.csv\"\\ntest = pd.read_csv(path)\\ntest[\"species\"] = pd.factorize(test[\\'species\\'])[0]\\ntest.head(100)\\n'"
      ]
     },
     "execution_count": 2,
     "metadata": {},
     "output_type": "execute_result"
    }
   ],
   "source": [
    "\"\"\"\n",
    "test_col_names = ['sepal_length', 'sepal_width', 'petal_length', 'petal_width', 'species']\n",
    "test_path = \"IRIS.csv\"\n",
    "test = pd.read_csv(path)\n",
    "test[\"species\"] = pd.factorize(test['species'])[0]\n",
    "test.head(100)\n",
    "\"\"\""
   ]
  },
  {
   "cell_type": "code",
   "execution_count": 3,
   "id": "86056790-d9a7-4865-8a6b-d8441a8ff176",
   "metadata": {
    "tags": []
   },
   "outputs": [
    {
     "data": {
      "text/html": [
       "<div>\n",
       "<style scoped>\n",
       "    .dataframe tbody tr th:only-of-type {\n",
       "        vertical-align: middle;\n",
       "    }\n",
       "\n",
       "    .dataframe tbody tr th {\n",
       "        vertical-align: top;\n",
       "    }\n",
       "\n",
       "    .dataframe thead th {\n",
       "        text-align: right;\n",
       "    }\n",
       "</style>\n",
       "<table border=\"1\" class=\"dataframe\">\n",
       "  <thead>\n",
       "    <tr style=\"text-align: right;\">\n",
       "      <th></th>\n",
       "      <th>sender</th>\n",
       "      <th>receiver</th>\n",
       "      <th>subject</th>\n",
       "      <th>body</th>\n",
       "      <th>urls</th>\n",
       "      <th>label</th>\n",
       "    </tr>\n",
       "  </thead>\n",
       "  <tbody>\n",
       "    <tr>\n",
       "      <th>0</th>\n",
       "      <td>Young Esposito &lt;Young@iworld.de&gt;</td>\n",
       "      <td>user4@gvc.ceas-challenge.cc</td>\n",
       "      <td>Never agree to be a loser</td>\n",
       "      <td>Buck up, your troubles caused by small dimensi...</td>\n",
       "      <td>1</td>\n",
       "      <td>1</td>\n",
       "    </tr>\n",
       "    <tr>\n",
       "      <th>1</th>\n",
       "      <td>Mok &lt;ipline's1983@icable.ph&gt;</td>\n",
       "      <td>user2.2@gvc.ceas-challenge.cc</td>\n",
       "      <td>Befriend Jenna Jameson</td>\n",
       "      <td>\\nUpgrade your sex and pleasures with these te...</td>\n",
       "      <td>1</td>\n",
       "      <td>1</td>\n",
       "    </tr>\n",
       "    <tr>\n",
       "      <th>2</th>\n",
       "      <td>Daily Top 10 &lt;Karmandeep-opengevl@universalnet...</td>\n",
       "      <td>user2.9@gvc.ceas-challenge.cc</td>\n",
       "      <td>CNN.com Daily Top 10</td>\n",
       "      <td>&gt;+=+=+=+=+=+=+=+=+=+=+=+=+=+=+=+=+=+=+=+=+=+=+...</td>\n",
       "      <td>1</td>\n",
       "      <td>1</td>\n",
       "    </tr>\n",
       "    <tr>\n",
       "      <th>3</th>\n",
       "      <td>Michael Parker &lt;ivqrnai@pobox.com&gt;</td>\n",
       "      <td>SpamAssassin Dev &lt;xrh@spamassassin.apache.org&gt;</td>\n",
       "      <td>Re: svn commit: r619753 - in /spamassassin/tru...</td>\n",
       "      <td>Would anyone object to removing .so from this ...</td>\n",
       "      <td>1</td>\n",
       "      <td>0</td>\n",
       "    </tr>\n",
       "    <tr>\n",
       "      <th>4</th>\n",
       "      <td>Gretchen Suggs &lt;externalsep1@loanofficertool.com&gt;</td>\n",
       "      <td>user2.2@gvc.ceas-challenge.cc</td>\n",
       "      <td>SpecialPricesPharmMoreinfo</td>\n",
       "      <td>\\nWelcomeFastShippingCustomerSupport\\nhttp://7...</td>\n",
       "      <td>1</td>\n",
       "      <td>1</td>\n",
       "    </tr>\n",
       "    <tr>\n",
       "      <th>5</th>\n",
       "      <td>Caroline Aragon &lt;dwthaidomainnamesm@thaidomain...</td>\n",
       "      <td>user7-ext5@gvc.ceas-challenge.cc</td>\n",
       "      <td>From Caroline Aragon</td>\n",
       "      <td>\\n\\n\\n\\n\\nYo wu urS mo ou go rc ebo eForM rgi ...</td>\n",
       "      <td>0</td>\n",
       "      <td>1</td>\n",
       "    </tr>\n",
       "    <tr>\n",
       "      <th>6</th>\n",
       "      <td>Replica Watches &lt;jhorton@thebakercompanies.com&gt;</td>\n",
       "      <td>user2.10@gvc.ceas-challenge.cc</td>\n",
       "      <td>Replica Watches</td>\n",
       "      <td>We have fake Swiss Men's and Ladie's Replica \\...</td>\n",
       "      <td>0</td>\n",
       "      <td>1</td>\n",
       "    </tr>\n",
       "    <tr>\n",
       "      <th>7</th>\n",
       "      <td>Daily Top 10 &lt;acidirev_1972@tcwpg.com&gt;</td>\n",
       "      <td>user2.3@gvc.ceas-challenge.cc</td>\n",
       "      <td>CNN.com Daily Top 10</td>\n",
       "      <td>&gt;+=+=+=+=+=+=+=+=+=+=+=+=+=+=+=+=+=+=+=+=+=+=+...</td>\n",
       "      <td>1</td>\n",
       "      <td>1</td>\n",
       "    </tr>\n",
       "    <tr>\n",
       "      <th>8</th>\n",
       "      <td>qydlqcws-iacfym@issues.apache.org</td>\n",
       "      <td>xrh@spamassassin.apache.org</td>\n",
       "      <td>[Bug 5780] URI processing turns uuencoded stri...</td>\n",
       "      <td>http://issues.apache.org/SpamAssassin/show_bug...</td>\n",
       "      <td>1</td>\n",
       "      <td>0</td>\n",
       "    </tr>\n",
       "    <tr>\n",
       "      <th>9</th>\n",
       "      <td>Daily Top 10 &lt;orn|dent_1973@musicaedischi.it&gt;</td>\n",
       "      <td>user7@gvc.ceas-challenge.cc</td>\n",
       "      <td>CNN.com Daily Top 10</td>\n",
       "      <td>&gt;+=+=+=+=+=+=+=+=+=+=+=+=+=+=+=+=+=+=+=+=+=+=+...</td>\n",
       "      <td>1</td>\n",
       "      <td>1</td>\n",
       "    </tr>\n",
       "  </tbody>\n",
       "</table>\n",
       "</div>"
      ],
      "text/plain": [
       "                                              sender  \\\n",
       "0                   Young Esposito <Young@iworld.de>   \n",
       "1                       Mok <ipline's1983@icable.ph>   \n",
       "2  Daily Top 10 <Karmandeep-opengevl@universalnet...   \n",
       "3                 Michael Parker <ivqrnai@pobox.com>   \n",
       "4  Gretchen Suggs <externalsep1@loanofficertool.com>   \n",
       "5  Caroline Aragon <dwthaidomainnamesm@thaidomain...   \n",
       "6    Replica Watches <jhorton@thebakercompanies.com>   \n",
       "7             Daily Top 10 <acidirev_1972@tcwpg.com>   \n",
       "8                  qydlqcws-iacfym@issues.apache.org   \n",
       "9      Daily Top 10 <orn|dent_1973@musicaedischi.it>   \n",
       "\n",
       "                                         receiver  \\\n",
       "0                     user4@gvc.ceas-challenge.cc   \n",
       "1                   user2.2@gvc.ceas-challenge.cc   \n",
       "2                   user2.9@gvc.ceas-challenge.cc   \n",
       "3  SpamAssassin Dev <xrh@spamassassin.apache.org>   \n",
       "4                   user2.2@gvc.ceas-challenge.cc   \n",
       "5                user7-ext5@gvc.ceas-challenge.cc   \n",
       "6                  user2.10@gvc.ceas-challenge.cc   \n",
       "7                   user2.3@gvc.ceas-challenge.cc   \n",
       "8                     xrh@spamassassin.apache.org   \n",
       "9                     user7@gvc.ceas-challenge.cc   \n",
       "\n",
       "                                             subject  \\\n",
       "0                          Never agree to be a loser   \n",
       "1                             Befriend Jenna Jameson   \n",
       "2                               CNN.com Daily Top 10   \n",
       "3  Re: svn commit: r619753 - in /spamassassin/tru...   \n",
       "4                         SpecialPricesPharmMoreinfo   \n",
       "5                               From Caroline Aragon   \n",
       "6                                    Replica Watches   \n",
       "7                               CNN.com Daily Top 10   \n",
       "8  [Bug 5780] URI processing turns uuencoded stri...   \n",
       "9                               CNN.com Daily Top 10   \n",
       "\n",
       "                                                body  urls  label  \n",
       "0  Buck up, your troubles caused by small dimensi...     1      1  \n",
       "1  \\nUpgrade your sex and pleasures with these te...     1      1  \n",
       "2  >+=+=+=+=+=+=+=+=+=+=+=+=+=+=+=+=+=+=+=+=+=+=+...     1      1  \n",
       "3  Would anyone object to removing .so from this ...     1      0  \n",
       "4  \\nWelcomeFastShippingCustomerSupport\\nhttp://7...     1      1  \n",
       "5  \\n\\n\\n\\n\\nYo wu urS mo ou go rc ebo eForM rgi ...     0      1  \n",
       "6  We have fake Swiss Men's and Ladie's Replica \\...     0      1  \n",
       "7  >+=+=+=+=+=+=+=+=+=+=+=+=+=+=+=+=+=+=+=+=+=+=+...     1      1  \n",
       "8  http://issues.apache.org/SpamAssassin/show_bug...     1      0  \n",
       "9  >+=+=+=+=+=+=+=+=+=+=+=+=+=+=+=+=+=+=+=+=+=+=+...     1      1  "
      ]
     },
     "execution_count": 3,
     "metadata": {},
     "output_type": "execute_result"
    }
   ],
   "source": [
    "col_names = ['sender', 'receiver', 'subject', 'body', 'label', 'urls']\n",
    "path = \"./data/CEAS_08.csv\"\n",
    "data = pd.read_csv(path)\n",
    "data = data.drop('date', axis=1)\n",
    "col_names[-1], col_names[-2] = col_names[-2], col_names[-1]\n",
    "data = data[col_names]\n",
    "data.head(10)"
   ]
  },
  {
   "cell_type": "code",
   "execution_count": 4,
   "id": "3744f921-3dd6-4470-b6f0-297abe8eead9",
   "metadata": {
    "tags": []
   },
   "outputs": [],
   "source": [
    "rec_mode = data['receiver'].mode()[0]\n",
    "data['receiver'].fillna(rec_mode, inplace=True)\n",
    "sub_mode = data['subject'].mode()[0]\n",
    "data['subject'].fillna(sub_mode, inplace=True)"
   ]
  },
  {
   "cell_type": "markdown",
   "id": "b518ff4f-2487-44fa-9720-31842708c019",
   "metadata": {},
   "source": [
    "## TF-IDF"
   ]
  },
  {
   "cell_type": "code",
   "execution_count": 5,
   "id": "8da1b45b-247f-4ab1-b816-0862b4d2ddbe",
   "metadata": {
    "tags": []
   },
   "outputs": [
    {
     "name": "stdout",
     "output_type": "stream",
     "text": [
      "(49703,)\n",
      "(39154, 49703)\n"
     ]
    }
   ],
   "source": [
    "corpus_sender = data['sender'][0:]\n",
    "vectorizer_send = TfidfVectorizer()\n",
    "send = vectorizer_send.fit_transform(corpus_sender)\n",
    "print(vectorizer_send.get_feature_names_out().shape)\n",
    "print(send.shape)\n",
    "send_means = np.mean(send.toarray(), axis=1)"
   ]
  },
  {
   "cell_type": "code",
   "execution_count": 6,
   "id": "783dc694-e119-4bdb-9946-1f21df74299c",
   "metadata": {
    "tags": []
   },
   "outputs": [
    {
     "name": "stdout",
     "output_type": "stream",
     "text": [
      "(9516,)\n",
      "(39154, 9516)\n"
     ]
    }
   ],
   "source": [
    "corpus_rec = data['receiver'][0:]\n",
    "vectorizer_rec = TfidfVectorizer()\n",
    "rec = vectorizer_rec.fit_transform(corpus_rec)\n",
    "print(vectorizer_rec.get_feature_names_out().shape)\n",
    "print(rec.shape)\n",
    "rec_means = np.mean(rec.toarray(), axis=1)"
   ]
  },
  {
   "cell_type": "code",
   "execution_count": 7,
   "id": "df9dbbe9-4b65-4400-a97b-88bbcc773bf1",
   "metadata": {
    "tags": []
   },
   "outputs": [
    {
     "name": "stdout",
     "output_type": "stream",
     "text": [
      "(15339,)\n",
      "(39154, 15339)\n"
     ]
    }
   ],
   "source": [
    "corpus_sub = data['subject'][0:]\n",
    "vectorizer_sub = TfidfVectorizer()\n",
    "sub = vectorizer_sub.fit_transform(corpus_sub)\n",
    "print(vectorizer_sub.get_feature_names_out().shape)\n",
    "print(sub.shape)\n",
    "sub_means = np.mean(sub.toarray(), axis=1)"
   ]
  },
  {
   "cell_type": "code",
   "execution_count": 8,
   "id": "84ca49bb-0533-448b-8166-f6c44f80e8de",
   "metadata": {
    "tags": []
   },
   "outputs": [
    {
     "name": "stdout",
     "output_type": "stream",
     "text": [
      "(183381,)\n",
      "(39154, 183381)\n"
     ]
    }
   ],
   "source": [
    "corpus_body = data['body'][0:]\n",
    "vectorizer_body = TfidfVectorizer()\n",
    "body = vectorizer_body.fit_transform(corpus_body)\n",
    "print(vectorizer_body.get_feature_names_out().shape)\n",
    "print(body.shape)"
   ]
  },
  {
   "cell_type": "code",
   "execution_count": null,
   "id": "29f02a8b-594a-4eff-bcd2-f0b5f71e3417",
   "metadata": {
    "tags": []
   },
   "outputs": [],
   "source": [
    "body_arr = body.toarray().astype(np.float16)\n",
    "body_means = np.mean(body_arr, axis=1)"
   ]
  },
  {
   "cell_type": "code",
   "execution_count": 68,
   "id": "c9f345dc-1738-44ab-bb9a-630602cd9c2c",
   "metadata": {
    "tags": []
   },
   "outputs": [
    {
     "data": {
      "text/html": [
       "<div>\n",
       "<style scoped>\n",
       "    .dataframe tbody tr th:only-of-type {\n",
       "        vertical-align: middle;\n",
       "    }\n",
       "\n",
       "    .dataframe tbody tr th {\n",
       "        vertical-align: top;\n",
       "    }\n",
       "\n",
       "    .dataframe thead th {\n",
       "        text-align: right;\n",
       "    }\n",
       "</style>\n",
       "<table border=\"1\" class=\"dataframe\">\n",
       "  <thead>\n",
       "    <tr style=\"text-align: right;\">\n",
       "      <th></th>\n",
       "      <th>00</th>\n",
       "      <th>000</th>\n",
       "      <th>0000</th>\n",
       "      <th>00000</th>\n",
       "      <th>000000</th>\n",
       "      <th>0000000</th>\n",
       "      <th>00000000</th>\n",
       "      <th>000000000</th>\n",
       "      <th>000000000000</th>\n",
       "      <th>0000000000000000</th>\n",
       "      <th>...</th>\n",
       "      <th>胜是神仙</th>\n",
       "      <th>自分自身と向き合ったり</th>\n",
       "      <th>详细信息</th>\n",
       "      <th>质量保证</th>\n",
       "      <th>走质量路线</th>\n",
       "      <th>这两天用gdb很多</th>\n",
       "      <th>遇事不钻牛角尖</th>\n",
       "      <th>野宮</th>\n",
       "      <th>首选广州新桥中英文笔译专家</th>\n",
       "      <th>벬9랷</th>\n",
       "    </tr>\n",
       "  </thead>\n",
       "  <tbody>\n",
       "    <tr>\n",
       "      <th>0</th>\n",
       "      <td>0.00000</td>\n",
       "      <td>0.0</td>\n",
       "      <td>0.0</td>\n",
       "      <td>0.0</td>\n",
       "      <td>0.0</td>\n",
       "      <td>0.0</td>\n",
       "      <td>0.0</td>\n",
       "      <td>0.0</td>\n",
       "      <td>0.0</td>\n",
       "      <td>0.0</td>\n",
       "      <td>...</td>\n",
       "      <td>0.0</td>\n",
       "      <td>0.0</td>\n",
       "      <td>0.0</td>\n",
       "      <td>0.0</td>\n",
       "      <td>0.0</td>\n",
       "      <td>0.0</td>\n",
       "      <td>0.0</td>\n",
       "      <td>0.0</td>\n",
       "      <td>0.0</td>\n",
       "      <td>0.0</td>\n",
       "    </tr>\n",
       "    <tr>\n",
       "      <th>1</th>\n",
       "      <td>0.00000</td>\n",
       "      <td>0.0</td>\n",
       "      <td>0.0</td>\n",
       "      <td>0.0</td>\n",
       "      <td>0.0</td>\n",
       "      <td>0.0</td>\n",
       "      <td>0.0</td>\n",
       "      <td>0.0</td>\n",
       "      <td>0.0</td>\n",
       "      <td>0.0</td>\n",
       "      <td>...</td>\n",
       "      <td>0.0</td>\n",
       "      <td>0.0</td>\n",
       "      <td>0.0</td>\n",
       "      <td>0.0</td>\n",
       "      <td>0.0</td>\n",
       "      <td>0.0</td>\n",
       "      <td>0.0</td>\n",
       "      <td>0.0</td>\n",
       "      <td>0.0</td>\n",
       "      <td>0.0</td>\n",
       "    </tr>\n",
       "    <tr>\n",
       "      <th>2</th>\n",
       "      <td>0.00000</td>\n",
       "      <td>0.0</td>\n",
       "      <td>0.0</td>\n",
       "      <td>0.0</td>\n",
       "      <td>0.0</td>\n",
       "      <td>0.0</td>\n",
       "      <td>0.0</td>\n",
       "      <td>0.0</td>\n",
       "      <td>0.0</td>\n",
       "      <td>0.0</td>\n",
       "      <td>...</td>\n",
       "      <td>0.0</td>\n",
       "      <td>0.0</td>\n",
       "      <td>0.0</td>\n",
       "      <td>0.0</td>\n",
       "      <td>0.0</td>\n",
       "      <td>0.0</td>\n",
       "      <td>0.0</td>\n",
       "      <td>0.0</td>\n",
       "      <td>0.0</td>\n",
       "      <td>0.0</td>\n",
       "    </tr>\n",
       "    <tr>\n",
       "      <th>3</th>\n",
       "      <td>0.00108</td>\n",
       "      <td>0.0</td>\n",
       "      <td>0.0</td>\n",
       "      <td>0.0</td>\n",
       "      <td>0.0</td>\n",
       "      <td>0.0</td>\n",
       "      <td>0.0</td>\n",
       "      <td>0.0</td>\n",
       "      <td>0.0</td>\n",
       "      <td>0.0</td>\n",
       "      <td>...</td>\n",
       "      <td>0.0</td>\n",
       "      <td>0.0</td>\n",
       "      <td>0.0</td>\n",
       "      <td>0.0</td>\n",
       "      <td>0.0</td>\n",
       "      <td>0.0</td>\n",
       "      <td>0.0</td>\n",
       "      <td>0.0</td>\n",
       "      <td>0.0</td>\n",
       "      <td>0.0</td>\n",
       "    </tr>\n",
       "    <tr>\n",
       "      <th>4</th>\n",
       "      <td>0.00000</td>\n",
       "      <td>0.0</td>\n",
       "      <td>0.0</td>\n",
       "      <td>0.0</td>\n",
       "      <td>0.0</td>\n",
       "      <td>0.0</td>\n",
       "      <td>0.0</td>\n",
       "      <td>0.0</td>\n",
       "      <td>0.0</td>\n",
       "      <td>0.0</td>\n",
       "      <td>...</td>\n",
       "      <td>0.0</td>\n",
       "      <td>0.0</td>\n",
       "      <td>0.0</td>\n",
       "      <td>0.0</td>\n",
       "      <td>0.0</td>\n",
       "      <td>0.0</td>\n",
       "      <td>0.0</td>\n",
       "      <td>0.0</td>\n",
       "      <td>0.0</td>\n",
       "      <td>0.0</td>\n",
       "    </tr>\n",
       "  </tbody>\n",
       "</table>\n",
       "<p>5 rows × 183381 columns</p>\n",
       "</div>"
      ],
      "text/plain": [
       "        00  000  0000  00000  000000  0000000  00000000  000000000  \\\n",
       "0  0.00000  0.0   0.0    0.0     0.0      0.0       0.0        0.0   \n",
       "1  0.00000  0.0   0.0    0.0     0.0      0.0       0.0        0.0   \n",
       "2  0.00000  0.0   0.0    0.0     0.0      0.0       0.0        0.0   \n",
       "3  0.00108  0.0   0.0    0.0     0.0      0.0       0.0        0.0   \n",
       "4  0.00000  0.0   0.0    0.0     0.0      0.0       0.0        0.0   \n",
       "\n",
       "   000000000000  0000000000000000  ...  胜是神仙  自分自身と向き合ったり  详细信息  质量保证  走质量路线  \\\n",
       "0           0.0               0.0  ...   0.0          0.0   0.0   0.0    0.0   \n",
       "1           0.0               0.0  ...   0.0          0.0   0.0   0.0    0.0   \n",
       "2           0.0               0.0  ...   0.0          0.0   0.0   0.0    0.0   \n",
       "3           0.0               0.0  ...   0.0          0.0   0.0   0.0    0.0   \n",
       "4           0.0               0.0  ...   0.0          0.0   0.0   0.0    0.0   \n",
       "\n",
       "   这两天用gdb很多  遇事不钻牛角尖   野宮  首选广州新桥中英文笔译专家  벬9랷  \n",
       "0        0.0      0.0  0.0            0.0  0.0  \n",
       "1        0.0      0.0  0.0            0.0  0.0  \n",
       "2        0.0      0.0  0.0            0.0  0.0  \n",
       "3        0.0      0.0  0.0            0.0  0.0  \n",
       "4        0.0      0.0  0.0            0.0  0.0  \n",
       "\n",
       "[5 rows x 183381 columns]"
      ]
     },
     "execution_count": 68,
     "metadata": {},
     "output_type": "execute_result"
    }
   ],
   "source": [
    "testdf = pd.DataFrame(body.toarray(), columns=vectorizer_body.get_feature_names_out())\n",
    "testdf.head()"
   ]
  },
  {
   "cell_type": "markdown",
   "id": "cbb3dd24-2d2c-44b9-ac8b-a19d2a9274ae",
   "metadata": {},
   "source": [
    "## Decision Class"
   ]
  },
  {
   "cell_type": "code",
   "execution_count": 34,
   "id": "51a30e7b-9f5b-499f-a970-a6a90897f6d6",
   "metadata": {},
   "outputs": [],
   "source": [
    "class Decision:\n",
    "    \"\"\" A decision is used to ask the question at a decision node to split the data.\n",
    "    This class records column number and values and matches the stored feature value to a give feature value\n",
    "    \"\"\"\n",
    "    \n",
    "    def __init__(self, feature_index, threshold):\n",
    "        self.feature_index = feature_index\n",
    "        self.threshold = threshold\n",
    "        \n",
    "    def ask(self, input):\n",
    "        # Compares input feature value to stored value\n",
    "        feature_val = input[self.feature_index]\n",
    "        if isinstance(feature_val, (int, float)):\n",
    "            try:\n",
    "                feature_val >= self.threshold\n",
    "            except TypeError:\n",
    "                print(\"Error: Type\")\n",
    "                print(feature_val)\n",
    "                print(self.threshold)\n",
    "            return feature_val >= self.threshold\n",
    "        else:\n",
    "            return feature_val == self.threshold\n",
    "        "
   ]
  },
  {
   "cell_type": "markdown",
   "id": "cd5f4395-283e-4086-8403-750c64cec056",
   "metadata": {},
   "source": [
    "## Helper Functions for Splitting"
   ]
  },
  {
   "cell_type": "code",
   "execution_count": 35,
   "id": "9260ee4a-d7cb-4af6-b999-0c8d978b1d32",
   "metadata": {
    "tags": []
   },
   "outputs": [],
   "source": [
    "def divide_df(rows, decision):\n",
    "    # Partitions a data frame\n",
    "    # Check if each row matches decision, divide into true and false\n",
    "    \n",
    "    left, right = [], []\n",
    "    for row in rows:\n",
    "        left.append(row) if decision.ask(row) else right.append(row)\n",
    "    return left, right"
   ]
  },
  {
   "cell_type": "code",
   "execution_count": 36,
   "id": "b3e2dac2-d911-476c-9829-a32d714e81ac",
   "metadata": {
    "tags": []
   },
   "outputs": [],
   "source": [
    "def label_count(rows):\n",
    "    # Counts the number of each classification in data frame\n",
    "    label_counts = {}\n",
    "    for row in rows:\n",
    "        label = row[-1]\n",
    "        if label not in label_counts:\n",
    "            label_counts[label] = 0\n",
    "        label_counts[label] += 1\n",
    "    return label_counts"
   ]
  },
  {
   "cell_type": "code",
   "execution_count": 37,
   "id": "fac30633-31c2-4bbb-ac1c-3fb62889c962",
   "metadata": {
    "tags": []
   },
   "outputs": [],
   "source": [
    "def gini_impurity(rows):\n",
    "    #Calculates Gini Impurity for a data frame of rows.\n",
    "    \n",
    "    label_counts = label_count(rows)\n",
    "    gini = 1.0\n",
    "    for label in label_counts:\n",
    "        label_prob = label_counts[label]/float(len(rows))\n",
    "        gini -= label_prob**2\n",
    "    return gini"
   ]
  },
  {
   "cell_type": "code",
   "execution_count": 38,
   "id": "2c7863f0-afc2-447b-8931-5a1da1aa6cfb",
   "metadata": {
    "tags": []
   },
   "outputs": [],
   "source": [
    "def info_gain(left, right, curr_gini):\n",
    "    #Information gain: Gini of the root node subtracted by the impurty of the two children nodes.\n",
    "    prob = float(len(left) / (len(left) + len(right)))\n",
    "    return curr_gini - prob * gini_impurity(left) - (1 - prob) * gini_impurity(right)\n",
    "                 "
   ]
  },
  {
   "cell_type": "code",
   "execution_count": 39,
   "id": "a0f701e0-7ce2-49eb-b193-147a2d75344e",
   "metadata": {
    "tags": []
   },
   "outputs": [],
   "source": [
    "def info_gain_split(rows):\n",
    "    #Find best decision to make based on informaiton gain\n",
    "    highest_gain = 0\n",
    "    optimal_decision = None\n",
    "    curr_gini = gini_impurity(rows)\n",
    "    feature_count = len(rows[0]) -1\n",
    "    \n",
    "    for feature_index in range(0, feature_count):\n",
    "        \n",
    "        unique = set(row[feature_index] for row in rows) #unique column values\n",
    "        \n",
    "        for candidate in unique:\n",
    "            decision = Decision(feature_index, candidate)\n",
    "            \n",
    "            left, right = divide_df(rows, decision)\n",
    "            \n",
    "            #continue if no split\n",
    "            if(len(left) == 0 or len(right) == 0):\n",
    "                continue\n",
    "            \n",
    "            #information gain from this split\n",
    "            gain = info_gain(left, right, curr_gini)\n",
    "            \n",
    "            if gain > highest_gain:\n",
    "                highest_gain, optimal_decision = gain, decision\n",
    "                \n",
    "    return highest_gain, optimal_decision"
   ]
  },
  {
   "cell_type": "markdown",
   "id": "31e97671-bb4e-4938-acb7-26e7ef9fa6cc",
   "metadata": {},
   "source": [
    "## Build Tree and Node Classes"
   ]
  },
  {
   "cell_type": "code",
   "execution_count": 40,
   "id": "27e43030-1837-4a29-9654-ddf88ceed02c",
   "metadata": {
    "tags": []
   },
   "outputs": [],
   "source": [
    "class LeafNode:\n",
    "    # A leaf Node holdes classified data.\n",
    "    # Holds a dictionary with class counts in the leaf.\n",
    "    \n",
    "    def __init__(self,rows):\n",
    "        self.pred = label_count(rows)"
   ]
  },
  {
   "cell_type": "code",
   "execution_count": 41,
   "id": "87efda5b-d2c1-41fa-86bc-94824b7d985f",
   "metadata": {
    "tags": []
   },
   "outputs": [],
   "source": [
    "class DecisionNode:\n",
    "    # A Decision Node asks a Decision to be made.\n",
    "    # Holds reference to a Decision, and two child nodes.\n",
    "    \n",
    "    def __init__(self, decision, left, right):\n",
    "        self.decision = decision\n",
    "        self.left = left\n",
    "        self.right = right"
   ]
  },
  {
   "cell_type": "code",
   "execution_count": 42,
   "id": "ec9b89fa-2962-4318-8737-3da67ef0c922",
   "metadata": {
    "tags": []
   },
   "outputs": [],
   "source": [
    "def build_tree(rows):\n",
    "    # Recursively Builds tree.\n",
    "    \n",
    "    highest_gain, optimal_decision = info_gain_split(rows)\n",
    "    \n",
    "    #Base case no further gain\n",
    "    if highest_gain == 0:\n",
    "        return LeafNode(rows)\n",
    "    \n",
    "    #Found Partition\n",
    "    left, right = divide_df(rows, optimal_decision)\n",
    "    \n",
    "    #Recurse Left Subtree\n",
    "    left_subtree = build_tree(left)\n",
    "    \n",
    "    #Recurse Right Subtree\n",
    "    right_subtree = build_tree(right)\n",
    "    \n",
    "    #Return Decision Node\n",
    "    return DecisionNode(optimal_decision, left_subtree, right_subtree)"
   ]
  },
  {
   "cell_type": "code",
   "execution_count": 51,
   "id": "e38de2a7-05ac-409c-9afa-309ce7c643b2",
   "metadata": {
    "tags": []
   },
   "outputs": [],
   "source": [
    "#print(data.shape)\n",
    "df_list = data[0:1000].values.tolist()\n",
    "my_tree = build_tree(df_list)"
   ]
  },
  {
   "cell_type": "code",
   "execution_count": 52,
   "id": "2f988394-3178-469b-bc9c-853ea393676b",
   "metadata": {
    "tags": []
   },
   "outputs": [],
   "source": [
    "def predict(row, curr_node):\n",
    "    #Base Case: Curr node is a leaf\n",
    "    if isinstance(curr_node, LeafNode):\n",
    "        return curr_node.pred\n",
    "    \n",
    "    #Recurse the left or right subtree\n",
    "    if curr_node.decision.ask(row):\n",
    "        return predict(row, curr_node.left)\n",
    "    else:\n",
    "        return predict(row, curr_node.right)"
   ]
  },
  {
   "cell_type": "code",
   "execution_count": 69,
   "id": "8bdf7afe-cc7d-4dfd-af0b-b2835d1af12b",
   "metadata": {
    "tags": []
   },
   "outputs": [
    {
     "name": "stdout",
     "output_type": "stream",
     "text": [
      "['d@gmail.com', 'a@gmail.com', 'Hi', 'Buy my stuff, ILLEGAL']\n"
     ]
    },
    {
     "ename": "IndexError",
     "evalue": "list index out of range",
     "output_type": "error",
     "traceback": [
      "\u001b[0;31m---------------------------------------------------------------------------\u001b[0m",
      "\u001b[0;31mIndexError\u001b[0m                                Traceback (most recent call last)",
      "Cell \u001b[0;32mIn[69], line 6\u001b[0m\n\u001b[1;32m      4\u001b[0m test_list \u001b[38;5;241m=\u001b[39m test_df\u001b[38;5;241m.\u001b[39mvalues\u001b[38;5;241m.\u001b[39mtolist()[\u001b[38;5;241m0\u001b[39m]\n\u001b[1;32m      5\u001b[0m \u001b[38;5;28mprint\u001b[39m(test_list)\n\u001b[0;32m----> 6\u001b[0m predict(test_list, my_tree)\n",
      "Cell \u001b[0;32mIn[52], line 10\u001b[0m, in \u001b[0;36mpredict\u001b[0;34m(row, curr_node)\u001b[0m\n\u001b[1;32m      8\u001b[0m     \u001b[38;5;28;01mreturn\u001b[39;00m predict(row, curr_node\u001b[38;5;241m.\u001b[39mleft)\n\u001b[1;32m      9\u001b[0m \u001b[38;5;28;01melse\u001b[39;00m:\n\u001b[0;32m---> 10\u001b[0m     \u001b[38;5;28;01mreturn\u001b[39;00m predict(row, curr_node\u001b[38;5;241m.\u001b[39mright)\n",
      "Cell \u001b[0;32mIn[52], line 10\u001b[0m, in \u001b[0;36mpredict\u001b[0;34m(row, curr_node)\u001b[0m\n\u001b[1;32m      8\u001b[0m     \u001b[38;5;28;01mreturn\u001b[39;00m predict(row, curr_node\u001b[38;5;241m.\u001b[39mleft)\n\u001b[1;32m      9\u001b[0m \u001b[38;5;28;01melse\u001b[39;00m:\n\u001b[0;32m---> 10\u001b[0m     \u001b[38;5;28;01mreturn\u001b[39;00m predict(row, curr_node\u001b[38;5;241m.\u001b[39mright)\n",
      "    \u001b[0;31m[... skipping similar frames: predict at line 10 (2 times)]\u001b[0m\n",
      "Cell \u001b[0;32mIn[52], line 10\u001b[0m, in \u001b[0;36mpredict\u001b[0;34m(row, curr_node)\u001b[0m\n\u001b[1;32m      8\u001b[0m     \u001b[38;5;28;01mreturn\u001b[39;00m predict(row, curr_node\u001b[38;5;241m.\u001b[39mleft)\n\u001b[1;32m      9\u001b[0m \u001b[38;5;28;01melse\u001b[39;00m:\n\u001b[0;32m---> 10\u001b[0m     \u001b[38;5;28;01mreturn\u001b[39;00m predict(row, curr_node\u001b[38;5;241m.\u001b[39mright)\n",
      "Cell \u001b[0;32mIn[52], line 7\u001b[0m, in \u001b[0;36mpredict\u001b[0;34m(row, curr_node)\u001b[0m\n\u001b[1;32m      4\u001b[0m     \u001b[38;5;28;01mreturn\u001b[39;00m curr_node\u001b[38;5;241m.\u001b[39mpred\n\u001b[1;32m      6\u001b[0m \u001b[38;5;66;03m#Recurse the left or right subtree\u001b[39;00m\n\u001b[0;32m----> 7\u001b[0m \u001b[38;5;28;01mif\u001b[39;00m curr_node\u001b[38;5;241m.\u001b[39mdecision\u001b[38;5;241m.\u001b[39mask(row):\n\u001b[1;32m      8\u001b[0m     \u001b[38;5;28;01mreturn\u001b[39;00m predict(row, curr_node\u001b[38;5;241m.\u001b[39mleft)\n\u001b[1;32m      9\u001b[0m \u001b[38;5;28;01melse\u001b[39;00m:\n",
      "Cell \u001b[0;32mIn[34], line 12\u001b[0m, in \u001b[0;36mDecision.ask\u001b[0;34m(self, input)\u001b[0m\n\u001b[1;32m     10\u001b[0m \u001b[38;5;28;01mdef\u001b[39;00m \u001b[38;5;21mask\u001b[39m(\u001b[38;5;28mself\u001b[39m, \u001b[38;5;28minput\u001b[39m):\n\u001b[1;32m     11\u001b[0m     \u001b[38;5;66;03m# Compares input feature value to stored value\u001b[39;00m\n\u001b[0;32m---> 12\u001b[0m     feature_val \u001b[38;5;241m=\u001b[39m \u001b[38;5;28minput\u001b[39m[\u001b[38;5;28mself\u001b[39m\u001b[38;5;241m.\u001b[39mfeature_index]\n\u001b[1;32m     13\u001b[0m     \u001b[38;5;28;01mif\u001b[39;00m \u001b[38;5;28misinstance\u001b[39m(feature_val, (\u001b[38;5;28mint\u001b[39m, \u001b[38;5;28mfloat\u001b[39m)):\n\u001b[1;32m     14\u001b[0m         \u001b[38;5;28;01mtry\u001b[39;00m:\n",
      "\u001b[0;31mIndexError\u001b[0m: list index out of range"
     ]
    }
   ],
   "source": [
    "test_data = {'sender': ['d@gmail.com'], 'receiver': ['a@gmail.com'], 'subject': ['Hi'], 'body':['Buy my stuff, ILLEGAL']}\n",
    "test_df = pd.DataFrame(test_data)\n",
    "test_df.head()\n",
    "test_list = test_df.values.tolist()[0]\n",
    "print(test_list)\n",
    "predict(test_list, my_tree)"
   ]
  },
  {
   "cell_type": "code",
   "execution_count": null,
   "id": "f318626b-df78-46ef-8fb7-2baa7f903769",
   "metadata": {},
   "outputs": [],
   "source": []
  }
 ],
 "metadata": {
  "kernelspec": {
   "display_name": "Python 3 (ipykernel)",
   "language": "python",
   "name": "python3"
  },
  "language_info": {
   "codemirror_mode": {
    "name": "ipython",
    "version": 3
   },
   "file_extension": ".py",
   "mimetype": "text/x-python",
   "name": "python",
   "nbconvert_exporter": "python",
   "pygments_lexer": "ipython3",
   "version": "3.11.5"
  }
 },
 "nbformat": 4,
 "nbformat_minor": 5
}
