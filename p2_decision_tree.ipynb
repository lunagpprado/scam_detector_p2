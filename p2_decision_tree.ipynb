{
 "cells": [
  {
   "cell_type": "markdown",
   "id": "a1c0a0e4-2849-4a79-9b32-ee42c82b5232",
   "metadata": {},
   "source": [
    "# Scam Detector: Decision Tree"
   ]
  },
  {
   "cell_type": "markdown",
   "id": "0904a70d-a2f8-40e9-a4f5-ad7e7edb9011",
   "metadata": {},
   "source": [
    "    This Jupyter Notebook will be used to run a Decision Tree Algorithm to predict if a given email is a scam or a ham(a normal email)."
   ]
  },
  {
   "cell_type": "markdown",
   "id": "7158aa78-4c8c-45f5-af34-15071349526a",
   "metadata": {
    "tags": []
   },
   "source": [
    "## Import Packages"
   ]
  },
  {
   "cell_type": "code",
   "execution_count": 131,
   "id": "3bf4d050-2499-4995-820a-c0d13d2f1a6c",
   "metadata": {
    "tags": []
   },
   "outputs": [],
   "source": [
    "#import the packages we need\n",
    "import numpy as np\n",
    "import pandas as pd\n",
    "import matplotlib.pyplot as plt\n",
    "import csv\n",
    "import sys\n",
    "from sklearn.decomposition import TruncatedSVD\n",
    "from sklearn.feature_extraction.text import TfidfVectorizer\n",
    "from sklearn.model_selection import train_test_split"
   ]
  },
  {
   "cell_type": "code",
   "execution_count": 132,
   "id": "d6c718ea-ee77-4492-9daa-ae93394f2477",
   "metadata": {
    "tags": []
   },
   "outputs": [],
   "source": [
    "csv.field_size_limit(sys.maxsize)\n",
    "\n",
    "path = \"./data/Enron.csv\"\n",
    "data2 = pd.read_csv(path, engine='python', on_bad_lines='skip', encoding='latin1')"
   ]
  },
  {
   "cell_type": "code",
   "execution_count": 133,
   "id": "770f9f3b-3720-4f5c-8e9a-57aea463ab2a",
   "metadata": {
    "tags": []
   },
   "outputs": [],
   "source": [
    "data2.insert(loc=0, column='sender', value='Empty')\n",
    "data2.insert(loc=3, column='url', value=np.random.randint(0, 2, size=data2.shape[0]))\n",
    "#print(svd.explained_variance_ratio_.sum())  "
   ]
  },
  {
   "cell_type": "code",
   "execution_count": 134,
   "id": "5b22af25-18b8-42bb-a63c-2f1dd2d918c8",
   "metadata": {
    "tags": []
   },
   "outputs": [
    {
     "data": {
      "text/plain": [
       "(29767, 5)"
      ]
     },
     "execution_count": 134,
     "metadata": {},
     "output_type": "execute_result"
    }
   ],
   "source": [
    "data2.shape"
   ]
  },
  {
   "cell_type": "markdown",
   "id": "bc74f965-4e22-40d8-a5e8-8dbefe0a056e",
   "metadata": {},
   "source": [
    "## Retrieve Data"
   ]
  },
  {
   "cell_type": "code",
   "execution_count": 135,
   "id": "86056790-d9a7-4865-8a6b-d8441a8ff176",
   "metadata": {
    "tags": []
   },
   "outputs": [
    {
     "name": "stdout",
     "output_type": "stream",
     "text": [
      "urls\n",
      "1    26232\n",
      "0    12922\n",
      "Name: count, dtype: int64\n"
     ]
    },
    {
     "data": {
      "text/html": [
       "<div>\n",
       "<style scoped>\n",
       "    .dataframe tbody tr th:only-of-type {\n",
       "        vertical-align: middle;\n",
       "    }\n",
       "\n",
       "    .dataframe tbody tr th {\n",
       "        vertical-align: top;\n",
       "    }\n",
       "\n",
       "    .dataframe thead th {\n",
       "        text-align: right;\n",
       "    }\n",
       "</style>\n",
       "<table border=\"1\" class=\"dataframe\">\n",
       "  <thead>\n",
       "    <tr style=\"text-align: right;\">\n",
       "      <th></th>\n",
       "      <th>sender</th>\n",
       "      <th>receiver</th>\n",
       "      <th>subject</th>\n",
       "      <th>body</th>\n",
       "      <th>urls</th>\n",
       "      <th>label</th>\n",
       "    </tr>\n",
       "  </thead>\n",
       "  <tbody>\n",
       "    <tr>\n",
       "      <th>0</th>\n",
       "      <td>Young Esposito &lt;Young@iworld.de&gt;</td>\n",
       "      <td>user4@gvc.ceas-challenge.cc</td>\n",
       "      <td>Never agree to be a loser</td>\n",
       "      <td>Buck up, your troubles caused by small dimensi...</td>\n",
       "      <td>1</td>\n",
       "      <td>1</td>\n",
       "    </tr>\n",
       "    <tr>\n",
       "      <th>1</th>\n",
       "      <td>Mok &lt;ipline's1983@icable.ph&gt;</td>\n",
       "      <td>user2.2@gvc.ceas-challenge.cc</td>\n",
       "      <td>Befriend Jenna Jameson</td>\n",
       "      <td>\\nUpgrade your sex and pleasures with these te...</td>\n",
       "      <td>1</td>\n",
       "      <td>1</td>\n",
       "    </tr>\n",
       "    <tr>\n",
       "      <th>2</th>\n",
       "      <td>Daily Top 10 &lt;Karmandeep-opengevl@universalnet...</td>\n",
       "      <td>user2.9@gvc.ceas-challenge.cc</td>\n",
       "      <td>CNN.com Daily Top 10</td>\n",
       "      <td>&gt;+=+=+=+=+=+=+=+=+=+=+=+=+=+=+=+=+=+=+=+=+=+=+...</td>\n",
       "      <td>1</td>\n",
       "      <td>1</td>\n",
       "    </tr>\n",
       "    <tr>\n",
       "      <th>3</th>\n",
       "      <td>Michael Parker &lt;ivqrnai@pobox.com&gt;</td>\n",
       "      <td>SpamAssassin Dev &lt;xrh@spamassassin.apache.org&gt;</td>\n",
       "      <td>Re: svn commit: r619753 - in /spamassassin/tru...</td>\n",
       "      <td>Would anyone object to removing .so from this ...</td>\n",
       "      <td>1</td>\n",
       "      <td>0</td>\n",
       "    </tr>\n",
       "    <tr>\n",
       "      <th>4</th>\n",
       "      <td>Gretchen Suggs &lt;externalsep1@loanofficertool.com&gt;</td>\n",
       "      <td>user2.2@gvc.ceas-challenge.cc</td>\n",
       "      <td>SpecialPricesPharmMoreinfo</td>\n",
       "      <td>\\nWelcomeFastShippingCustomerSupport\\nhttp://7...</td>\n",
       "      <td>1</td>\n",
       "      <td>1</td>\n",
       "    </tr>\n",
       "  </tbody>\n",
       "</table>\n",
       "</div>"
      ],
      "text/plain": [
       "                                              sender  \\\n",
       "0                   Young Esposito <Young@iworld.de>   \n",
       "1                       Mok <ipline's1983@icable.ph>   \n",
       "2  Daily Top 10 <Karmandeep-opengevl@universalnet...   \n",
       "3                 Michael Parker <ivqrnai@pobox.com>   \n",
       "4  Gretchen Suggs <externalsep1@loanofficertool.com>   \n",
       "\n",
       "                                         receiver  \\\n",
       "0                     user4@gvc.ceas-challenge.cc   \n",
       "1                   user2.2@gvc.ceas-challenge.cc   \n",
       "2                   user2.9@gvc.ceas-challenge.cc   \n",
       "3  SpamAssassin Dev <xrh@spamassassin.apache.org>   \n",
       "4                   user2.2@gvc.ceas-challenge.cc   \n",
       "\n",
       "                                             subject  \\\n",
       "0                          Never agree to be a loser   \n",
       "1                             Befriend Jenna Jameson   \n",
       "2                               CNN.com Daily Top 10   \n",
       "3  Re: svn commit: r619753 - in /spamassassin/tru...   \n",
       "4                         SpecialPricesPharmMoreinfo   \n",
       "\n",
       "                                                body  urls  label  \n",
       "0  Buck up, your troubles caused by small dimensi...     1      1  \n",
       "1  \\nUpgrade your sex and pleasures with these te...     1      1  \n",
       "2  >+=+=+=+=+=+=+=+=+=+=+=+=+=+=+=+=+=+=+=+=+=+=+...     1      1  \n",
       "3  Would anyone object to removing .so from this ...     1      0  \n",
       "4  \\nWelcomeFastShippingCustomerSupport\\nhttp://7...     1      1  "
      ]
     },
     "execution_count": 135,
     "metadata": {},
     "output_type": "execute_result"
    }
   ],
   "source": [
    "col_names = ['sender', 'receiver', 'subject', 'body', 'label', 'urls']\n",
    "path = \"./data/CEAS_08.csv\"\n",
    "data1 = pd.read_csv(path)\n",
    "data1 = data1.drop('date', axis=1)\n",
    "col_names[-1], col_names[-2] = col_names[-2], col_names[-1]\n",
    "data1 = data1[col_names]\n",
    "data1.head(10)\n",
    "counts = data1['urls'].value_counts()\n",
    "print(counts)\n",
    "data1.head()"
   ]
  },
  {
   "cell_type": "code",
   "execution_count": 136,
   "id": "8b6074f5-d961-41df-b5f8-a12ddfebbbfb",
   "metadata": {
    "tags": []
   },
   "outputs": [],
   "source": [
    "data1 = data1.drop('receiver', axis=1)"
   ]
  },
  {
   "cell_type": "code",
   "execution_count": 137,
   "id": "5e7680ee-c303-4f85-b6f1-7b1011b2c074",
   "metadata": {
    "tags": []
   },
   "outputs": [
    {
     "data": {
      "text/plain": [
       "(39154, 5)"
      ]
     },
     "execution_count": 137,
     "metadata": {},
     "output_type": "execute_result"
    }
   ],
   "source": [
    "data = data1\n",
    "data.shape"
   ]
  },
  {
   "cell_type": "code",
   "execution_count": 138,
   "id": "3744f921-3dd6-4470-b6f0-297abe8eead9",
   "metadata": {
    "tags": []
   },
   "outputs": [
    {
     "data": {
      "text/plain": [
       "False"
      ]
     },
     "execution_count": 138,
     "metadata": {},
     "output_type": "execute_result"
    }
   ],
   "source": [
    "#send_mode = data['sender'].mode()[0]\n",
    "data['sender'].fillna('Empty', inplace=True)\n",
    "#sub_mode = data['subject'].mode()[0]\n",
    "data['subject'].fillna('Empty', inplace=True)\n",
    "#body_mode = data['body'].mode()[0]\n",
    "data['body'].fillna('Empty', inplace=True)\n",
    "\n",
    "data['sender'].isnull().any()"
   ]
  },
  {
   "cell_type": "markdown",
   "id": "b518ff4f-2487-44fa-9720-31842708c019",
   "metadata": {},
   "source": [
    "## TF-IDF"
   ]
  },
  {
   "cell_type": "code",
   "execution_count": 139,
   "id": "8da1b45b-247f-4ab1-b816-0862b4d2ddbe",
   "metadata": {
    "tags": []
   },
   "outputs": [
    {
     "name": "stdout",
     "output_type": "stream",
     "text": [
      "(49703,)\n",
      "(39154, 49703)\n"
     ]
    }
   ],
   "source": [
    "# Text Vectorization for numeric interpretations\n",
    "corpus_sender = data['sender'][0:]\n",
    "vectorizer_send = TfidfVectorizer()\n",
    "send = vectorizer_send.fit_transform(corpus_sender)\n",
    "print(vectorizer_send.get_feature_names_out().shape)\n",
    "print(send.shape)"
   ]
  },
  {
   "cell_type": "code",
   "execution_count": 140,
   "id": "8855a81d-74f7-4445-8bc6-86157e44c17e",
   "metadata": {
    "tags": []
   },
   "outputs": [],
   "source": [
    "svd_send = TruncatedSVD(n_components=5, random_state=42)\n",
    "send_reduced = svd_send.fit_transform(send)"
   ]
  },
  {
   "cell_type": "code",
   "execution_count": 141,
   "id": "df9dbbe9-4b65-4400-a97b-88bbcc773bf1",
   "metadata": {
    "tags": []
   },
   "outputs": [
    {
     "name": "stdout",
     "output_type": "stream",
     "text": [
      "(15339,)\n",
      "(39154, 15339)\n"
     ]
    }
   ],
   "source": [
    "# Text Vectorization for numeric interpretations\n",
    "corpus_sub = data['subject'][0:]\n",
    "vectorizer_sub = TfidfVectorizer()\n",
    "sub = vectorizer_sub.fit_transform(corpus_sub)\n",
    "print(vectorizer_sub.get_feature_names_out().shape)\n",
    "print(sub.shape)"
   ]
  },
  {
   "cell_type": "code",
   "execution_count": 142,
   "id": "d0a27fe5-68eb-48fb-b362-2901b3b74568",
   "metadata": {
    "tags": []
   },
   "outputs": [],
   "source": [
    "svd_sub = TruncatedSVD(n_components=50, random_state=42)\n",
    "sub_reduced = svd_sub.fit_transform(sub)"
   ]
  },
  {
   "cell_type": "code",
   "execution_count": 143,
   "id": "84ca49bb-0533-448b-8166-f6c44f80e8de",
   "metadata": {
    "tags": []
   },
   "outputs": [
    {
     "name": "stdout",
     "output_type": "stream",
     "text": [
      "(183381,)\n",
      "(39154, 183381)\n"
     ]
    }
   ],
   "source": [
    "# Text Vectorization for numeric interpretations\n",
    "corpus_body = data['body'][0:]\n",
    "vectorizer_body = TfidfVectorizer()\n",
    "body = vectorizer_body.fit_transform(corpus_body)\n",
    "print(vectorizer_body.get_feature_names_out().shape)\n",
    "print(body.shape)"
   ]
  },
  {
   "cell_type": "code",
   "execution_count": 144,
   "id": "6584d65b-8b8f-4c0c-8cf0-70dffd76121f",
   "metadata": {
    "tags": []
   },
   "outputs": [],
   "source": [
    "svd = TruncatedSVD(n_components=300, random_state=42)\n",
    "body_reduced = svd.fit_transform(body)"
   ]
  },
  {
   "cell_type": "code",
   "execution_count": 145,
   "id": "df2139ea-0d10-4d79-9302-7a630c975ec6",
   "metadata": {
    "tags": []
   },
   "outputs": [
    {
     "name": "stdout",
     "output_type": "stream",
     "text": [
      "data duplicates: Index([], dtype='int64')\n"
     ]
    }
   ],
   "source": [
    "dupes_data = data.index[data.index.duplicated()]\n",
    "print(\"data duplicates:\", dupes_data)"
   ]
  },
  {
   "cell_type": "code",
   "execution_count": 146,
   "id": "bdc7eff7-b796-43e1-894a-a264147e0217",
   "metadata": {
    "tags": []
   },
   "outputs": [
    {
     "data": {
      "text/html": [
       "<div>\n",
       "<style scoped>\n",
       "    .dataframe tbody tr th:only-of-type {\n",
       "        vertical-align: middle;\n",
       "    }\n",
       "\n",
       "    .dataframe tbody tr th {\n",
       "        vertical-align: top;\n",
       "    }\n",
       "\n",
       "    .dataframe thead th {\n",
       "        text-align: right;\n",
       "    }\n",
       "</style>\n",
       "<table border=\"1\" class=\"dataframe\">\n",
       "  <thead>\n",
       "    <tr style=\"text-align: right;\">\n",
       "      <th></th>\n",
       "      <th>1</th>\n",
       "      <th>2</th>\n",
       "      <th>3</th>\n",
       "      <th>4</th>\n",
       "      <th>5</th>\n",
       "      <th>6</th>\n",
       "      <th>7</th>\n",
       "      <th>8</th>\n",
       "      <th>9</th>\n",
       "      <th>10</th>\n",
       "      <th>...</th>\n",
       "      <th>43</th>\n",
       "      <th>44</th>\n",
       "      <th>45</th>\n",
       "      <th>46</th>\n",
       "      <th>47</th>\n",
       "      <th>48</th>\n",
       "      <th>49</th>\n",
       "      <th>50</th>\n",
       "      <th>urls</th>\n",
       "      <th>label</th>\n",
       "    </tr>\n",
       "  </thead>\n",
       "  <tbody>\n",
       "    <tr>\n",
       "      <th>0</th>\n",
       "      <td>0.063286</td>\n",
       "      <td>0.130304</td>\n",
       "      <td>-0.022210</td>\n",
       "      <td>-0.005088</td>\n",
       "      <td>-0.021140</td>\n",
       "      <td>-0.086163</td>\n",
       "      <td>-0.025422</td>\n",
       "      <td>0.049411</td>\n",
       "      <td>-0.009487</td>\n",
       "      <td>0.007434</td>\n",
       "      <td>...</td>\n",
       "      <td>-4.764230e-02</td>\n",
       "      <td>-7.083443e-03</td>\n",
       "      <td>2.977597e-02</td>\n",
       "      <td>2.493743e-02</td>\n",
       "      <td>-3.583672e-02</td>\n",
       "      <td>-1.147733e-02</td>\n",
       "      <td>-1.518206e-02</td>\n",
       "      <td>-8.340481e-03</td>\n",
       "      <td>1</td>\n",
       "      <td>1</td>\n",
       "    </tr>\n",
       "    <tr>\n",
       "      <th>1</th>\n",
       "      <td>0.091167</td>\n",
       "      <td>0.038318</td>\n",
       "      <td>-0.022531</td>\n",
       "      <td>0.022039</td>\n",
       "      <td>-0.029642</td>\n",
       "      <td>-0.005703</td>\n",
       "      <td>0.064485</td>\n",
       "      <td>0.063031</td>\n",
       "      <td>-0.026433</td>\n",
       "      <td>0.021969</td>\n",
       "      <td>...</td>\n",
       "      <td>-6.947093e-04</td>\n",
       "      <td>1.107725e-03</td>\n",
       "      <td>1.382440e-03</td>\n",
       "      <td>-3.354624e-03</td>\n",
       "      <td>2.064797e-04</td>\n",
       "      <td>2.642337e-03</td>\n",
       "      <td>-4.453137e-04</td>\n",
       "      <td>-5.294903e-04</td>\n",
       "      <td>1</td>\n",
       "      <td>1</td>\n",
       "    </tr>\n",
       "    <tr>\n",
       "      <th>2</th>\n",
       "      <td>0.885237</td>\n",
       "      <td>-0.261488</td>\n",
       "      <td>-0.148659</td>\n",
       "      <td>-0.008257</td>\n",
       "      <td>-0.004082</td>\n",
       "      <td>-0.004655</td>\n",
       "      <td>-0.014338</td>\n",
       "      <td>-0.022398</td>\n",
       "      <td>0.284830</td>\n",
       "      <td>-0.191905</td>\n",
       "      <td>...</td>\n",
       "      <td>7.896102e-04</td>\n",
       "      <td>1.134033e-04</td>\n",
       "      <td>-8.621442e-04</td>\n",
       "      <td>1.621947e-04</td>\n",
       "      <td>1.372798e-04</td>\n",
       "      <td>1.056232e-03</td>\n",
       "      <td>-1.293172e-04</td>\n",
       "      <td>-2.332366e-04</td>\n",
       "      <td>1</td>\n",
       "      <td>1</td>\n",
       "    </tr>\n",
       "    <tr>\n",
       "      <th>3</th>\n",
       "      <td>0.087471</td>\n",
       "      <td>0.014409</td>\n",
       "      <td>-0.053204</td>\n",
       "      <td>0.003458</td>\n",
       "      <td>0.008816</td>\n",
       "      <td>-0.016598</td>\n",
       "      <td>0.010920</td>\n",
       "      <td>0.020323</td>\n",
       "      <td>0.016892</td>\n",
       "      <td>0.057482</td>\n",
       "      <td>...</td>\n",
       "      <td>1.498694e-03</td>\n",
       "      <td>-3.121696e-02</td>\n",
       "      <td>-1.137660e-02</td>\n",
       "      <td>1.542312e-03</td>\n",
       "      <td>-3.588918e-03</td>\n",
       "      <td>3.282780e-02</td>\n",
       "      <td>3.599037e-02</td>\n",
       "      <td>9.373170e-05</td>\n",
       "      <td>1</td>\n",
       "      <td>0</td>\n",
       "    </tr>\n",
       "    <tr>\n",
       "      <th>4</th>\n",
       "      <td>0.081588</td>\n",
       "      <td>-0.029447</td>\n",
       "      <td>-0.041692</td>\n",
       "      <td>0.007864</td>\n",
       "      <td>0.000755</td>\n",
       "      <td>0.001088</td>\n",
       "      <td>0.014785</td>\n",
       "      <td>0.007192</td>\n",
       "      <td>0.007662</td>\n",
       "      <td>0.015371</td>\n",
       "      <td>...</td>\n",
       "      <td>1.160800e-12</td>\n",
       "      <td>-6.270052e-14</td>\n",
       "      <td>-1.896029e-12</td>\n",
       "      <td>-3.245247e-12</td>\n",
       "      <td>9.334881e-13</td>\n",
       "      <td>-2.032660e-12</td>\n",
       "      <td>5.976050e-13</td>\n",
       "      <td>-2.425939e-12</td>\n",
       "      <td>1</td>\n",
       "      <td>1</td>\n",
       "    </tr>\n",
       "    <tr>\n",
       "      <th>...</th>\n",
       "      <td>...</td>\n",
       "      <td>...</td>\n",
       "      <td>...</td>\n",
       "      <td>...</td>\n",
       "      <td>...</td>\n",
       "      <td>...</td>\n",
       "      <td>...</td>\n",
       "      <td>...</td>\n",
       "      <td>...</td>\n",
       "      <td>...</td>\n",
       "      <td>...</td>\n",
       "      <td>...</td>\n",
       "      <td>...</td>\n",
       "      <td>...</td>\n",
       "      <td>...</td>\n",
       "      <td>...</td>\n",
       "      <td>...</td>\n",
       "      <td>...</td>\n",
       "      <td>...</td>\n",
       "      <td>...</td>\n",
       "      <td>...</td>\n",
       "    </tr>\n",
       "    <tr>\n",
       "      <th>39149</th>\n",
       "      <td>0.485460</td>\n",
       "      <td>0.129866</td>\n",
       "      <td>0.795481</td>\n",
       "      <td>-0.044375</td>\n",
       "      <td>0.109069</td>\n",
       "      <td>-0.004141</td>\n",
       "      <td>0.015776</td>\n",
       "      <td>-0.004536</td>\n",
       "      <td>0.038486</td>\n",
       "      <td>-0.030253</td>\n",
       "      <td>...</td>\n",
       "      <td>-3.794575e-04</td>\n",
       "      <td>2.223317e-04</td>\n",
       "      <td>1.878732e-04</td>\n",
       "      <td>-2.828636e-04</td>\n",
       "      <td>-2.928563e-04</td>\n",
       "      <td>-3.381019e-04</td>\n",
       "      <td>1.602866e-04</td>\n",
       "      <td>3.355469e-05</td>\n",
       "      <td>0</td>\n",
       "      <td>1</td>\n",
       "    </tr>\n",
       "    <tr>\n",
       "      <th>39150</th>\n",
       "      <td>0.498714</td>\n",
       "      <td>0.129111</td>\n",
       "      <td>0.793061</td>\n",
       "      <td>-0.037759</td>\n",
       "      <td>0.100212</td>\n",
       "      <td>0.021168</td>\n",
       "      <td>-0.000929</td>\n",
       "      <td>-0.004003</td>\n",
       "      <td>-0.017608</td>\n",
       "      <td>0.001443</td>\n",
       "      <td>...</td>\n",
       "      <td>-3.794575e-04</td>\n",
       "      <td>2.223317e-04</td>\n",
       "      <td>1.878732e-04</td>\n",
       "      <td>-2.828636e-04</td>\n",
       "      <td>-2.928563e-04</td>\n",
       "      <td>-3.381019e-04</td>\n",
       "      <td>1.602866e-04</td>\n",
       "      <td>3.355469e-05</td>\n",
       "      <td>0</td>\n",
       "      <td>1</td>\n",
       "    </tr>\n",
       "    <tr>\n",
       "      <th>39151</th>\n",
       "      <td>0.068910</td>\n",
       "      <td>0.181543</td>\n",
       "      <td>-0.031943</td>\n",
       "      <td>-0.003263</td>\n",
       "      <td>-0.058700</td>\n",
       "      <td>-0.040715</td>\n",
       "      <td>-0.064277</td>\n",
       "      <td>-0.008586</td>\n",
       "      <td>-0.011058</td>\n",
       "      <td>-0.010870</td>\n",
       "      <td>...</td>\n",
       "      <td>9.661311e-04</td>\n",
       "      <td>-1.178296e-03</td>\n",
       "      <td>-3.836210e-03</td>\n",
       "      <td>-8.758776e-04</td>\n",
       "      <td>3.468365e-04</td>\n",
       "      <td>-7.777360e-04</td>\n",
       "      <td>1.695609e-04</td>\n",
       "      <td>-1.870242e-03</td>\n",
       "      <td>0</td>\n",
       "      <td>0</td>\n",
       "    </tr>\n",
       "    <tr>\n",
       "      <th>39152</th>\n",
       "      <td>0.069078</td>\n",
       "      <td>0.165408</td>\n",
       "      <td>-0.013783</td>\n",
       "      <td>0.000583</td>\n",
       "      <td>-0.043534</td>\n",
       "      <td>-0.053345</td>\n",
       "      <td>-0.018408</td>\n",
       "      <td>0.018679</td>\n",
       "      <td>0.005152</td>\n",
       "      <td>0.006375</td>\n",
       "      <td>...</td>\n",
       "      <td>2.226965e-02</td>\n",
       "      <td>1.191468e-02</td>\n",
       "      <td>-1.097488e-02</td>\n",
       "      <td>-2.147922e-02</td>\n",
       "      <td>-2.401658e-03</td>\n",
       "      <td>-2.895141e-03</td>\n",
       "      <td>-6.864627e-03</td>\n",
       "      <td>1.939919e-02</td>\n",
       "      <td>0</td>\n",
       "      <td>0</td>\n",
       "    </tr>\n",
       "    <tr>\n",
       "      <th>39153</th>\n",
       "      <td>0.105626</td>\n",
       "      <td>0.315784</td>\n",
       "      <td>-0.109890</td>\n",
       "      <td>-0.129815</td>\n",
       "      <td>0.184432</td>\n",
       "      <td>0.128468</td>\n",
       "      <td>0.001667</td>\n",
       "      <td>-0.002075</td>\n",
       "      <td>0.001164</td>\n",
       "      <td>-0.032373</td>\n",
       "      <td>...</td>\n",
       "      <td>-7.026715e-04</td>\n",
       "      <td>-2.270403e-03</td>\n",
       "      <td>-1.099721e-03</td>\n",
       "      <td>1.283976e-02</td>\n",
       "      <td>1.952625e-02</td>\n",
       "      <td>-7.950960e-03</td>\n",
       "      <td>4.992264e-03</td>\n",
       "      <td>6.922162e-02</td>\n",
       "      <td>1</td>\n",
       "      <td>0</td>\n",
       "    </tr>\n",
       "  </tbody>\n",
       "</table>\n",
       "<p>39154 rows × 357 columns</p>\n",
       "</div>"
      ],
      "text/plain": [
       "              1         2         3         4         5         6         7  \\\n",
       "0      0.063286  0.130304 -0.022210 -0.005088 -0.021140 -0.086163 -0.025422   \n",
       "1      0.091167  0.038318 -0.022531  0.022039 -0.029642 -0.005703  0.064485   \n",
       "2      0.885237 -0.261488 -0.148659 -0.008257 -0.004082 -0.004655 -0.014338   \n",
       "3      0.087471  0.014409 -0.053204  0.003458  0.008816 -0.016598  0.010920   \n",
       "4      0.081588 -0.029447 -0.041692  0.007864  0.000755  0.001088  0.014785   \n",
       "...         ...       ...       ...       ...       ...       ...       ...   \n",
       "39149  0.485460  0.129866  0.795481 -0.044375  0.109069 -0.004141  0.015776   \n",
       "39150  0.498714  0.129111  0.793061 -0.037759  0.100212  0.021168 -0.000929   \n",
       "39151  0.068910  0.181543 -0.031943 -0.003263 -0.058700 -0.040715 -0.064277   \n",
       "39152  0.069078  0.165408 -0.013783  0.000583 -0.043534 -0.053345 -0.018408   \n",
       "39153  0.105626  0.315784 -0.109890 -0.129815  0.184432  0.128468  0.001667   \n",
       "\n",
       "              8         9        10  ...            43            44  \\\n",
       "0      0.049411 -0.009487  0.007434  ... -4.764230e-02 -7.083443e-03   \n",
       "1      0.063031 -0.026433  0.021969  ... -6.947093e-04  1.107725e-03   \n",
       "2     -0.022398  0.284830 -0.191905  ...  7.896102e-04  1.134033e-04   \n",
       "3      0.020323  0.016892  0.057482  ...  1.498694e-03 -3.121696e-02   \n",
       "4      0.007192  0.007662  0.015371  ...  1.160800e-12 -6.270052e-14   \n",
       "...         ...       ...       ...  ...           ...           ...   \n",
       "39149 -0.004536  0.038486 -0.030253  ... -3.794575e-04  2.223317e-04   \n",
       "39150 -0.004003 -0.017608  0.001443  ... -3.794575e-04  2.223317e-04   \n",
       "39151 -0.008586 -0.011058 -0.010870  ...  9.661311e-04 -1.178296e-03   \n",
       "39152  0.018679  0.005152  0.006375  ...  2.226965e-02  1.191468e-02   \n",
       "39153 -0.002075  0.001164 -0.032373  ... -7.026715e-04 -2.270403e-03   \n",
       "\n",
       "                 45            46            47            48            49  \\\n",
       "0      2.977597e-02  2.493743e-02 -3.583672e-02 -1.147733e-02 -1.518206e-02   \n",
       "1      1.382440e-03 -3.354624e-03  2.064797e-04  2.642337e-03 -4.453137e-04   \n",
       "2     -8.621442e-04  1.621947e-04  1.372798e-04  1.056232e-03 -1.293172e-04   \n",
       "3     -1.137660e-02  1.542312e-03 -3.588918e-03  3.282780e-02  3.599037e-02   \n",
       "4     -1.896029e-12 -3.245247e-12  9.334881e-13 -2.032660e-12  5.976050e-13   \n",
       "...             ...           ...           ...           ...           ...   \n",
       "39149  1.878732e-04 -2.828636e-04 -2.928563e-04 -3.381019e-04  1.602866e-04   \n",
       "39150  1.878732e-04 -2.828636e-04 -2.928563e-04 -3.381019e-04  1.602866e-04   \n",
       "39151 -3.836210e-03 -8.758776e-04  3.468365e-04 -7.777360e-04  1.695609e-04   \n",
       "39152 -1.097488e-02 -2.147922e-02 -2.401658e-03 -2.895141e-03 -6.864627e-03   \n",
       "39153 -1.099721e-03  1.283976e-02  1.952625e-02 -7.950960e-03  4.992264e-03   \n",
       "\n",
       "                 50  urls  label  \n",
       "0     -8.340481e-03     1      1  \n",
       "1     -5.294903e-04     1      1  \n",
       "2     -2.332366e-04     1      1  \n",
       "3      9.373170e-05     1      0  \n",
       "4     -2.425939e-12     1      1  \n",
       "...             ...   ...    ...  \n",
       "39149  3.355469e-05     0      1  \n",
       "39150  3.355469e-05     0      1  \n",
       "39151 -1.870242e-03     0      0  \n",
       "39152  1.939919e-02     0      0  \n",
       "39153  6.922162e-02     1      0  \n",
       "\n",
       "[39154 rows x 357 columns]"
      ]
     },
     "execution_count": 146,
     "metadata": {},
     "output_type": "execute_result"
    }
   ],
   "source": [
    "body_df = pd.DataFrame(body_reduced, columns=range(1,301))\n",
    "send_df = pd.DataFrame(send_reduced, columns=range(1,6))\n",
    "sub_df = pd.DataFrame(sub_reduced, columns=range(1,51))\n",
    "\n",
    "new_data = pd.concat([body_df, send_df, sub_df, data], axis=1)\n",
    "new_data = new_data.drop('body', axis=1)\n",
    "new_data = new_data.drop('sender', axis=1)\n",
    "new_data = new_data.drop('subject', axis=1)\n",
    "new_data"
   ]
  },
  {
   "cell_type": "code",
   "execution_count": 147,
   "id": "a146c66d-f833-4baf-9491-7f850c9ca2e3",
   "metadata": {},
   "outputs": [],
   "source": [
    "data = new_data"
   ]
  },
  {
   "cell_type": "code",
   "execution_count": 148,
   "id": "d03f89fd-7b81-4b8c-8621-c54fdac8079b",
   "metadata": {
    "tags": []
   },
   "outputs": [
    {
     "data": {
      "text/html": [
       "<div>\n",
       "<style scoped>\n",
       "    .dataframe tbody tr th:only-of-type {\n",
       "        vertical-align: middle;\n",
       "    }\n",
       "\n",
       "    .dataframe tbody tr th {\n",
       "        vertical-align: top;\n",
       "    }\n",
       "\n",
       "    .dataframe thead th {\n",
       "        text-align: right;\n",
       "    }\n",
       "</style>\n",
       "<table border=\"1\" class=\"dataframe\">\n",
       "  <thead>\n",
       "    <tr style=\"text-align: right;\">\n",
       "      <th></th>\n",
       "      <th>1</th>\n",
       "      <th>2</th>\n",
       "      <th>3</th>\n",
       "      <th>4</th>\n",
       "      <th>5</th>\n",
       "      <th>6</th>\n",
       "      <th>7</th>\n",
       "      <th>8</th>\n",
       "      <th>9</th>\n",
       "      <th>10</th>\n",
       "      <th>...</th>\n",
       "      <th>43</th>\n",
       "      <th>44</th>\n",
       "      <th>45</th>\n",
       "      <th>46</th>\n",
       "      <th>47</th>\n",
       "      <th>48</th>\n",
       "      <th>49</th>\n",
       "      <th>50</th>\n",
       "      <th>urls</th>\n",
       "      <th>label</th>\n",
       "    </tr>\n",
       "  </thead>\n",
       "  <tbody>\n",
       "    <tr>\n",
       "      <th>0</th>\n",
       "      <td>0.063286</td>\n",
       "      <td>0.130304</td>\n",
       "      <td>-0.022210</td>\n",
       "      <td>-0.005088</td>\n",
       "      <td>-0.021140</td>\n",
       "      <td>-0.086163</td>\n",
       "      <td>-0.025422</td>\n",
       "      <td>0.049411</td>\n",
       "      <td>-0.009487</td>\n",
       "      <td>0.007434</td>\n",
       "      <td>...</td>\n",
       "      <td>-4.764230e-02</td>\n",
       "      <td>-7.083443e-03</td>\n",
       "      <td>2.977597e-02</td>\n",
       "      <td>2.493743e-02</td>\n",
       "      <td>-3.583672e-02</td>\n",
       "      <td>-1.147733e-02</td>\n",
       "      <td>-1.518206e-02</td>\n",
       "      <td>-8.340481e-03</td>\n",
       "      <td>1</td>\n",
       "      <td>1</td>\n",
       "    </tr>\n",
       "    <tr>\n",
       "      <th>1</th>\n",
       "      <td>0.091167</td>\n",
       "      <td>0.038318</td>\n",
       "      <td>-0.022531</td>\n",
       "      <td>0.022039</td>\n",
       "      <td>-0.029642</td>\n",
       "      <td>-0.005703</td>\n",
       "      <td>0.064485</td>\n",
       "      <td>0.063031</td>\n",
       "      <td>-0.026433</td>\n",
       "      <td>0.021969</td>\n",
       "      <td>...</td>\n",
       "      <td>-6.947093e-04</td>\n",
       "      <td>1.107725e-03</td>\n",
       "      <td>1.382440e-03</td>\n",
       "      <td>-3.354624e-03</td>\n",
       "      <td>2.064797e-04</td>\n",
       "      <td>2.642337e-03</td>\n",
       "      <td>-4.453137e-04</td>\n",
       "      <td>-5.294903e-04</td>\n",
       "      <td>1</td>\n",
       "      <td>1</td>\n",
       "    </tr>\n",
       "    <tr>\n",
       "      <th>2</th>\n",
       "      <td>0.885237</td>\n",
       "      <td>-0.261488</td>\n",
       "      <td>-0.148659</td>\n",
       "      <td>-0.008257</td>\n",
       "      <td>-0.004082</td>\n",
       "      <td>-0.004655</td>\n",
       "      <td>-0.014338</td>\n",
       "      <td>-0.022398</td>\n",
       "      <td>0.284830</td>\n",
       "      <td>-0.191905</td>\n",
       "      <td>...</td>\n",
       "      <td>7.896102e-04</td>\n",
       "      <td>1.134033e-04</td>\n",
       "      <td>-8.621442e-04</td>\n",
       "      <td>1.621947e-04</td>\n",
       "      <td>1.372798e-04</td>\n",
       "      <td>1.056232e-03</td>\n",
       "      <td>-1.293172e-04</td>\n",
       "      <td>-2.332366e-04</td>\n",
       "      <td>1</td>\n",
       "      <td>1</td>\n",
       "    </tr>\n",
       "    <tr>\n",
       "      <th>3</th>\n",
       "      <td>0.087471</td>\n",
       "      <td>0.014409</td>\n",
       "      <td>-0.053204</td>\n",
       "      <td>0.003458</td>\n",
       "      <td>0.008816</td>\n",
       "      <td>-0.016598</td>\n",
       "      <td>0.010920</td>\n",
       "      <td>0.020323</td>\n",
       "      <td>0.016892</td>\n",
       "      <td>0.057482</td>\n",
       "      <td>...</td>\n",
       "      <td>1.498694e-03</td>\n",
       "      <td>-3.121696e-02</td>\n",
       "      <td>-1.137660e-02</td>\n",
       "      <td>1.542312e-03</td>\n",
       "      <td>-3.588918e-03</td>\n",
       "      <td>3.282780e-02</td>\n",
       "      <td>3.599037e-02</td>\n",
       "      <td>9.373170e-05</td>\n",
       "      <td>1</td>\n",
       "      <td>0</td>\n",
       "    </tr>\n",
       "    <tr>\n",
       "      <th>4</th>\n",
       "      <td>0.081588</td>\n",
       "      <td>-0.029447</td>\n",
       "      <td>-0.041692</td>\n",
       "      <td>0.007864</td>\n",
       "      <td>0.000755</td>\n",
       "      <td>0.001088</td>\n",
       "      <td>0.014785</td>\n",
       "      <td>0.007192</td>\n",
       "      <td>0.007662</td>\n",
       "      <td>0.015371</td>\n",
       "      <td>...</td>\n",
       "      <td>1.160800e-12</td>\n",
       "      <td>-6.270052e-14</td>\n",
       "      <td>-1.896029e-12</td>\n",
       "      <td>-3.245247e-12</td>\n",
       "      <td>9.334881e-13</td>\n",
       "      <td>-2.032660e-12</td>\n",
       "      <td>5.976050e-13</td>\n",
       "      <td>-2.425939e-12</td>\n",
       "      <td>1</td>\n",
       "      <td>1</td>\n",
       "    </tr>\n",
       "    <tr>\n",
       "      <th>5</th>\n",
       "      <td>0.004048</td>\n",
       "      <td>0.007168</td>\n",
       "      <td>-0.002666</td>\n",
       "      <td>0.000002</td>\n",
       "      <td>-0.004115</td>\n",
       "      <td>-0.007377</td>\n",
       "      <td>0.000176</td>\n",
       "      <td>0.001339</td>\n",
       "      <td>0.002738</td>\n",
       "      <td>0.003298</td>\n",
       "      <td>...</td>\n",
       "      <td>7.622347e-03</td>\n",
       "      <td>2.249529e-02</td>\n",
       "      <td>-1.773222e-03</td>\n",
       "      <td>2.781510e-02</td>\n",
       "      <td>-2.497209e-02</td>\n",
       "      <td>-2.838489e-02</td>\n",
       "      <td>1.075055e-02</td>\n",
       "      <td>1.363592e-02</td>\n",
       "      <td>0</td>\n",
       "      <td>1</td>\n",
       "    </tr>\n",
       "    <tr>\n",
       "      <th>6</th>\n",
       "      <td>0.060204</td>\n",
       "      <td>0.140164</td>\n",
       "      <td>0.007587</td>\n",
       "      <td>0.329133</td>\n",
       "      <td>0.088225</td>\n",
       "      <td>-0.023446</td>\n",
       "      <td>0.015108</td>\n",
       "      <td>0.040557</td>\n",
       "      <td>-0.017742</td>\n",
       "      <td>-0.016814</td>\n",
       "      <td>...</td>\n",
       "      <td>-1.302608e-03</td>\n",
       "      <td>-5.662889e-02</td>\n",
       "      <td>1.171058e-02</td>\n",
       "      <td>-5.614383e-02</td>\n",
       "      <td>6.045651e-03</td>\n",
       "      <td>-1.401360e-02</td>\n",
       "      <td>-3.115993e-02</td>\n",
       "      <td>-3.991532e-02</td>\n",
       "      <td>0</td>\n",
       "      <td>1</td>\n",
       "    </tr>\n",
       "    <tr>\n",
       "      <th>7</th>\n",
       "      <td>0.884718</td>\n",
       "      <td>-0.261513</td>\n",
       "      <td>-0.148607</td>\n",
       "      <td>-0.008399</td>\n",
       "      <td>-0.003513</td>\n",
       "      <td>-0.005650</td>\n",
       "      <td>-0.014232</td>\n",
       "      <td>-0.022161</td>\n",
       "      <td>0.284683</td>\n",
       "      <td>-0.191660</td>\n",
       "      <td>...</td>\n",
       "      <td>7.896102e-04</td>\n",
       "      <td>1.134033e-04</td>\n",
       "      <td>-8.621442e-04</td>\n",
       "      <td>1.621947e-04</td>\n",
       "      <td>1.372798e-04</td>\n",
       "      <td>1.056232e-03</td>\n",
       "      <td>-1.293172e-04</td>\n",
       "      <td>-2.332366e-04</td>\n",
       "      <td>1</td>\n",
       "      <td>1</td>\n",
       "    </tr>\n",
       "    <tr>\n",
       "      <th>8</th>\n",
       "      <td>0.066816</td>\n",
       "      <td>0.144864</td>\n",
       "      <td>-0.026336</td>\n",
       "      <td>-0.005721</td>\n",
       "      <td>-0.011312</td>\n",
       "      <td>-0.041102</td>\n",
       "      <td>-0.052131</td>\n",
       "      <td>-0.007147</td>\n",
       "      <td>0.043906</td>\n",
       "      <td>0.086705</td>\n",
       "      <td>...</td>\n",
       "      <td>4.453657e-04</td>\n",
       "      <td>-5.174961e-03</td>\n",
       "      <td>-6.072182e-03</td>\n",
       "      <td>5.174396e-03</td>\n",
       "      <td>1.931305e-02</td>\n",
       "      <td>-1.841665e-02</td>\n",
       "      <td>-1.640152e-02</td>\n",
       "      <td>2.721182e-03</td>\n",
       "      <td>1</td>\n",
       "      <td>0</td>\n",
       "    </tr>\n",
       "    <tr>\n",
       "      <th>9</th>\n",
       "      <td>0.884873</td>\n",
       "      <td>-0.261542</td>\n",
       "      <td>-0.148630</td>\n",
       "      <td>-0.008386</td>\n",
       "      <td>-0.003568</td>\n",
       "      <td>-0.005556</td>\n",
       "      <td>-0.014242</td>\n",
       "      <td>-0.022186</td>\n",
       "      <td>0.284729</td>\n",
       "      <td>-0.191698</td>\n",
       "      <td>...</td>\n",
       "      <td>7.896102e-04</td>\n",
       "      <td>1.134033e-04</td>\n",
       "      <td>-8.621442e-04</td>\n",
       "      <td>1.621947e-04</td>\n",
       "      <td>1.372798e-04</td>\n",
       "      <td>1.056232e-03</td>\n",
       "      <td>-1.293172e-04</td>\n",
       "      <td>-2.332366e-04</td>\n",
       "      <td>1</td>\n",
       "      <td>1</td>\n",
       "    </tr>\n",
       "  </tbody>\n",
       "</table>\n",
       "<p>10 rows × 357 columns</p>\n",
       "</div>"
      ],
      "text/plain": [
       "          1         2         3         4         5         6         7  \\\n",
       "0  0.063286  0.130304 -0.022210 -0.005088 -0.021140 -0.086163 -0.025422   \n",
       "1  0.091167  0.038318 -0.022531  0.022039 -0.029642 -0.005703  0.064485   \n",
       "2  0.885237 -0.261488 -0.148659 -0.008257 -0.004082 -0.004655 -0.014338   \n",
       "3  0.087471  0.014409 -0.053204  0.003458  0.008816 -0.016598  0.010920   \n",
       "4  0.081588 -0.029447 -0.041692  0.007864  0.000755  0.001088  0.014785   \n",
       "5  0.004048  0.007168 -0.002666  0.000002 -0.004115 -0.007377  0.000176   \n",
       "6  0.060204  0.140164  0.007587  0.329133  0.088225 -0.023446  0.015108   \n",
       "7  0.884718 -0.261513 -0.148607 -0.008399 -0.003513 -0.005650 -0.014232   \n",
       "8  0.066816  0.144864 -0.026336 -0.005721 -0.011312 -0.041102 -0.052131   \n",
       "9  0.884873 -0.261542 -0.148630 -0.008386 -0.003568 -0.005556 -0.014242   \n",
       "\n",
       "          8         9        10  ...            43            44  \\\n",
       "0  0.049411 -0.009487  0.007434  ... -4.764230e-02 -7.083443e-03   \n",
       "1  0.063031 -0.026433  0.021969  ... -6.947093e-04  1.107725e-03   \n",
       "2 -0.022398  0.284830 -0.191905  ...  7.896102e-04  1.134033e-04   \n",
       "3  0.020323  0.016892  0.057482  ...  1.498694e-03 -3.121696e-02   \n",
       "4  0.007192  0.007662  0.015371  ...  1.160800e-12 -6.270052e-14   \n",
       "5  0.001339  0.002738  0.003298  ...  7.622347e-03  2.249529e-02   \n",
       "6  0.040557 -0.017742 -0.016814  ... -1.302608e-03 -5.662889e-02   \n",
       "7 -0.022161  0.284683 -0.191660  ...  7.896102e-04  1.134033e-04   \n",
       "8 -0.007147  0.043906  0.086705  ...  4.453657e-04 -5.174961e-03   \n",
       "9 -0.022186  0.284729 -0.191698  ...  7.896102e-04  1.134033e-04   \n",
       "\n",
       "             45            46            47            48            49  \\\n",
       "0  2.977597e-02  2.493743e-02 -3.583672e-02 -1.147733e-02 -1.518206e-02   \n",
       "1  1.382440e-03 -3.354624e-03  2.064797e-04  2.642337e-03 -4.453137e-04   \n",
       "2 -8.621442e-04  1.621947e-04  1.372798e-04  1.056232e-03 -1.293172e-04   \n",
       "3 -1.137660e-02  1.542312e-03 -3.588918e-03  3.282780e-02  3.599037e-02   \n",
       "4 -1.896029e-12 -3.245247e-12  9.334881e-13 -2.032660e-12  5.976050e-13   \n",
       "5 -1.773222e-03  2.781510e-02 -2.497209e-02 -2.838489e-02  1.075055e-02   \n",
       "6  1.171058e-02 -5.614383e-02  6.045651e-03 -1.401360e-02 -3.115993e-02   \n",
       "7 -8.621442e-04  1.621947e-04  1.372798e-04  1.056232e-03 -1.293172e-04   \n",
       "8 -6.072182e-03  5.174396e-03  1.931305e-02 -1.841665e-02 -1.640152e-02   \n",
       "9 -8.621442e-04  1.621947e-04  1.372798e-04  1.056232e-03 -1.293172e-04   \n",
       "\n",
       "             50  urls  label  \n",
       "0 -8.340481e-03     1      1  \n",
       "1 -5.294903e-04     1      1  \n",
       "2 -2.332366e-04     1      1  \n",
       "3  9.373170e-05     1      0  \n",
       "4 -2.425939e-12     1      1  \n",
       "5  1.363592e-02     0      1  \n",
       "6 -3.991532e-02     0      1  \n",
       "7 -2.332366e-04     1      1  \n",
       "8  2.721182e-03     1      0  \n",
       "9 -2.332366e-04     1      1  \n",
       "\n",
       "[10 rows x 357 columns]"
      ]
     },
     "execution_count": 148,
     "metadata": {},
     "output_type": "execute_result"
    }
   ],
   "source": [
    "data.head(10)"
   ]
  },
  {
   "cell_type": "markdown",
   "id": "cbb3dd24-2d2c-44b9-ac8b-a19d2a9274ae",
   "metadata": {},
   "source": [
    "## Decision Class"
   ]
  },
  {
   "cell_type": "code",
   "execution_count": 149,
   "id": "51a30e7b-9f5b-499f-a970-a6a90897f6d6",
   "metadata": {},
   "outputs": [],
   "source": [
    "class Decision:\n",
    "    \"\"\" A decision is used to ask the question at a decision node to split the data.\n",
    "    This class records column number and values and matches the stored feature value to a give feature value\n",
    "    \"\"\"\n",
    "    \n",
    "    def __init__(self, feature_index, threshold):\n",
    "        self.feature_index = feature_index\n",
    "        self.threshold = threshold\n",
    "        \n",
    "    def ask(self, input):\n",
    "        # Compares input feature value to stored value\n",
    "        feature_val = input[self.feature_index]\n",
    "        if isinstance(feature_val, (int, float, np.number)):\n",
    "            return feature_val >= self.threshold\n",
    "        else:\n",
    "            return feature_val == self.threshold\n",
    "        "
   ]
  },
  {
   "cell_type": "markdown",
   "id": "cd5f4395-283e-4086-8403-750c64cec056",
   "metadata": {},
   "source": [
    "## Helper Functions for Splitting"
   ]
  },
  {
   "cell_type": "code",
   "execution_count": 150,
   "id": "9260ee4a-d7cb-4af6-b999-0c8d978b1d32",
   "metadata": {
    "tags": []
   },
   "outputs": [],
   "source": [
    "def divide_df(rows, decision):\n",
    "    # Partitions a data frame\n",
    "    # Check if each row matches decision, divide into true and false\n",
    "    col = rows[:, decision.feature_index]\n",
    "    if np.issubdtype(col.dtype, np.number):\n",
    "        mask = col >= decision.threshold\n",
    "    else:\n",
    "        mask = col == decision.threshold\n",
    "    left, right = rows[mask],rows[~mask]\n",
    "    return left, right"
   ]
  },
  {
   "cell_type": "code",
   "execution_count": 151,
   "id": "b3e2dac2-d911-476c-9829-a32d714e81ac",
   "metadata": {
    "tags": []
   },
   "outputs": [],
   "source": [
    "def label_count(rows):\n",
    "    # Counts the number of each classification in data frame\n",
    "    y = rows[:, -1]\n",
    "    unique, label_counts = np.unique(y, return_counts=True)\n",
    "    return dict(zip(unique,label_counts))"
   ]
  },
  {
   "cell_type": "code",
   "execution_count": 152,
   "id": "fac30633-31c2-4bbb-ac1c-3fb62889c962",
   "metadata": {
    "tags": []
   },
   "outputs": [],
   "source": [
    "def gini_impurity(rows):\n",
    "    #Calculates Gini Impurity for a data frame of rows.\n",
    "    y = rows[:, -1]\n",
    "    _, label_counts = np.unique(y, return_counts=True)\n",
    "    probs = label_counts/label_counts.sum()\n",
    "    return 1.0 - np.sum(probs**2)"
   ]
  },
  {
   "cell_type": "code",
   "execution_count": 153,
   "id": "2c7863f0-afc2-447b-8931-5a1da1aa6cfb",
   "metadata": {
    "tags": []
   },
   "outputs": [],
   "source": [
    "def info_gain(left, right, curr_gini):\n",
    "    #Information gain: Gini of the root node subtracted by the impurty of the two children nodes.\n",
    "    if len(left) + len(right) == 0:\n",
    "        return 0\n",
    "    prob = float(len(left) / (len(left) + len(right)))\n",
    "    return curr_gini - prob * gini_impurity(left) - (1 - prob) * gini_impurity(right)\n",
    "                 "
   ]
  },
  {
   "cell_type": "code",
   "execution_count": 154,
   "id": "e31f6718-279d-41aa-8c51-a3fac04e2db7",
   "metadata": {
    "tags": []
   },
   "outputs": [],
   "source": [
    "def threshold_candidates(col, max_thresh=5):\n",
    "    #Choose candidate threshold split\n",
    "    unique = np.unique(col)\n",
    "    if len(unique) > max_thresh:\n",
    "        quantile = np.linspace(0, 100, max_thresh + 2)[1:-1]\n",
    "        unique = np.percentile(unique, quantile)\n",
    "    if len(unique) > 1:\n",
    "        return (unique[:-1] + unique[1:])/2\n",
    "    else:\n",
    "        return unique"
   ]
  },
  {
   "cell_type": "code",
   "execution_count": 155,
   "id": "a0f701e0-7ce2-49eb-b193-147a2d75344e",
   "metadata": {
    "tags": []
   },
   "outputs": [],
   "source": [
    "def info_gain_split(rows):\n",
    "    #Find best decision to make based on informaiton gain\n",
    "    X = rows[:, :-1]\n",
    "    y = rows[:, -1]\n",
    "    curr_gini = gini_impurity(rows)\n",
    "    feature_count = X.shape[1]\n",
    "    \n",
    "    highest_gain = 0\n",
    "    optimal_decision = None\n",
    "    \n",
    "    for feature_index in range(feature_count):\n",
    "        col = X[:, feature_index]\n",
    "        \n",
    "        #Candidate Thresholds\n",
    "        thresholds = threshold_candidates(col) if np.issubdtype(col.dtype, np.number) else np.unique(col)\n",
    "        \n",
    "        for candidate in thresholds:\n",
    "            if np.issubdtype(col.dtype, np.number):\n",
    "                mask = col >= candidate\n",
    "            else:\n",
    "                mask = col == candidate\n",
    "            \n",
    "            if mask.sum() == 0 or mask.sum() == len(mask):\n",
    "                continue\n",
    "        \n",
    "            left, right = rows[mask], rows[~mask]\n",
    "            gain = info_gain(left, right, curr_gini)\n",
    "            \n",
    "            if gain > highest_gain:\n",
    "                highest_gain, optimal_decision = gain, Decision(feature_index, candidate)\n",
    "                \n",
    "    return highest_gain, optimal_decision"
   ]
  },
  {
   "cell_type": "markdown",
   "id": "31e97671-bb4e-4938-acb7-26e7ef9fa6cc",
   "metadata": {},
   "source": [
    "## Build Tree and Node Classes"
   ]
  },
  {
   "cell_type": "code",
   "execution_count": 156,
   "id": "27e43030-1837-4a29-9654-ddf88ceed02c",
   "metadata": {
    "tags": []
   },
   "outputs": [],
   "source": [
    "class LeafNode:\n",
    "    # A leaf Node holdes classified data.\n",
    "    # Holds a dictionary with class counts in the leaf.\n",
    "    \n",
    "    def __init__(self,rows):\n",
    "        self.pred = label_count(rows)"
   ]
  },
  {
   "cell_type": "code",
   "execution_count": 157,
   "id": "87efda5b-d2c1-41fa-86bc-94824b7d985f",
   "metadata": {
    "tags": []
   },
   "outputs": [],
   "source": [
    "class DecisionNode:\n",
    "    # A Decision Node asks a Decision to be made.\n",
    "    # Holds reference to a Decision, and two child nodes.\n",
    "    \n",
    "    def __init__(self, decision, left, right):\n",
    "        self.decision = decision\n",
    "        self.left = left\n",
    "        self.right = right"
   ]
  },
  {
   "cell_type": "code",
   "execution_count": 158,
   "id": "ec9b89fa-2962-4318-8737-3da67ef0c922",
   "metadata": {
    "tags": []
   },
   "outputs": [],
   "source": [
    "def build_tree(rows, depth=0, max_depth=10, min_sample_split=2):\n",
    "    # Recursively Builds tree.\n",
    "    if len(rows) < min_sample_split or depth >= max_depth:\n",
    "        return LeafNode(rows)\n",
    "    \n",
    "    highest_gain, optimal_decision = info_gain_split(rows)\n",
    "    \n",
    "    #Base case no further gain\n",
    "    if highest_gain == 0 or optimal_decision is None:\n",
    "        return LeafNode(rows)\n",
    "    \n",
    "    #Found Partition\n",
    "    left, right = divide_df(rows, optimal_decision)\n",
    "    \n",
    "    #Recurse Left Subtree\n",
    "    left_subtree = build_tree(left, depth+1, max_depth, min_sample_split)\n",
    "    \n",
    "    #Recurse Right Subtree\n",
    "    right_subtree = build_tree(right, depth+1, max_depth, min_sample_split)\n",
    "    \n",
    "    #Return Decision Node\n",
    "    return DecisionNode(optimal_decision, left_subtree, right_subtree)"
   ]
  },
  {
   "cell_type": "code",
   "execution_count": 159,
   "id": "2f988394-3178-469b-bc9c-853ea393676b",
   "metadata": {
    "tags": []
   },
   "outputs": [],
   "source": [
    "def predict(row, curr_node):\n",
    "    #Base Case: Curr node is a leaf\n",
    "    if isinstance(curr_node, LeafNode):\n",
    "        total = sum(curr_node.pred.values())\n",
    "        return max(curr_node.pred, key=curr_node.pred.get), {k: v/total for k,v in curr_node.pred.items()}\n",
    "    \n",
    "    #Recurse the left or right subtree\n",
    "    if curr_node.decision.ask(row):\n",
    "        return predict(row, curr_node.left)\n",
    "    else:\n",
    "        return predict(row, curr_node.right)"
   ]
  },
  {
   "cell_type": "markdown",
   "id": "9fb33fcc-45ab-45f8-b3ce-6f4964a92d98",
   "metadata": {},
   "source": [
    "## Prediction and Testing"
   ]
  },
  {
   "cell_type": "code",
   "execution_count": 160,
   "id": "3718c03d-1743-4799-825b-a36ea307841f",
   "metadata": {
    "tags": []
   },
   "outputs": [],
   "source": [
    "#test_data = {'sender': ['luna_prado@gmail.com'], 'subject': ['Advisor Help'], 'body':['Hello Dr. Athienitis, can you help me with choosing classes for the upcoming semester. Look forward to staying in contact.'], 'urls':[0]}\n",
    "#test_df = pd.DataFrame(test_data)"
   ]
  },
  {
   "cell_type": "code",
   "execution_count": 161,
   "id": "60b3f676-cf4c-4c3b-a1c9-dd7c78bcde53",
   "metadata": {
    "tags": []
   },
   "outputs": [],
   "source": [
    "test_data = {'sender': ['asjfnakjsnfkanf@gmail.com'], 'subject': ['SCAM ALERT'], 'body':['Make money quick, urgent new opportunity. Please buy now for your future. Passive Income, Easy life.'], 'urls':[1]}\n",
    "test_df = pd.DataFrame(test_data)"
   ]
  },
  {
   "cell_type": "code",
   "execution_count": 162,
   "id": "f318626b-df78-46ef-8fb7-2baa7f903769",
   "metadata": {},
   "outputs": [],
   "source": [
    "new_body = vectorizer_body.transform(test_df['body'])\n",
    "new_body_reduced = svd.transform(new_body)\n",
    "new_body_df = pd.DataFrame(new_body_reduced, columns=range(1,301))\n",
    "\n",
    "new_send = vectorizer_send.transform(test_df['sender'])\n",
    "new_send_reduced = svd_send.transform(new_send)\n",
    "new_send_df = pd.DataFrame(new_send_reduced, columns=range(1,6))\n",
    "\n",
    "new_sub = vectorizer_sub.transform(test_df['subject'])\n",
    "new_sub_reduced = svd_sub.transform(new_sub)\n",
    "new_sub_df = pd.DataFrame(new_sub_reduced, columns=range(1,51))\n",
    "\n",
    "new_data = pd.concat([new_body_df, new_send_df, new_sub_df,test_df], axis=1)\n",
    "new_data = new_data.drop('body', axis=1)\n",
    "new_data = new_data.drop('subject', axis=1)\n",
    "new_data = new_data.drop('sender', axis=1)"
   ]
  },
  {
   "cell_type": "code",
   "execution_count": 163,
   "id": "45304369-4a68-4aa4-9493-8abc0d76ceda",
   "metadata": {
    "tags": []
   },
   "outputs": [
    {
     "data": {
      "text/html": [
       "<div>\n",
       "<style scoped>\n",
       "    .dataframe tbody tr th:only-of-type {\n",
       "        vertical-align: middle;\n",
       "    }\n",
       "\n",
       "    .dataframe tbody tr th {\n",
       "        vertical-align: top;\n",
       "    }\n",
       "\n",
       "    .dataframe thead th {\n",
       "        text-align: right;\n",
       "    }\n",
       "</style>\n",
       "<table border=\"1\" class=\"dataframe\">\n",
       "  <thead>\n",
       "    <tr style=\"text-align: right;\">\n",
       "      <th></th>\n",
       "      <th>1</th>\n",
       "      <th>2</th>\n",
       "      <th>3</th>\n",
       "      <th>4</th>\n",
       "      <th>5</th>\n",
       "      <th>6</th>\n",
       "      <th>7</th>\n",
       "      <th>8</th>\n",
       "      <th>9</th>\n",
       "      <th>10</th>\n",
       "      <th>...</th>\n",
       "      <th>42</th>\n",
       "      <th>43</th>\n",
       "      <th>44</th>\n",
       "      <th>45</th>\n",
       "      <th>46</th>\n",
       "      <th>47</th>\n",
       "      <th>48</th>\n",
       "      <th>49</th>\n",
       "      <th>50</th>\n",
       "      <th>urls</th>\n",
       "    </tr>\n",
       "  </thead>\n",
       "  <tbody>\n",
       "    <tr>\n",
       "      <th>0</th>\n",
       "      <td>0.02593</td>\n",
       "      <td>0.058458</td>\n",
       "      <td>0.004948</td>\n",
       "      <td>0.028521</td>\n",
       "      <td>-0.045145</td>\n",
       "      <td>0.019482</td>\n",
       "      <td>0.046096</td>\n",
       "      <td>0.048495</td>\n",
       "      <td>-0.003999</td>\n",
       "      <td>0.003845</td>\n",
       "      <td>...</td>\n",
       "      <td>0.002289</td>\n",
       "      <td>-0.000244</td>\n",
       "      <td>-0.000024</td>\n",
       "      <td>0.000166</td>\n",
       "      <td>-0.000151</td>\n",
       "      <td>-0.00102</td>\n",
       "      <td>0.000422</td>\n",
       "      <td>0.001585</td>\n",
       "      <td>0.001279</td>\n",
       "      <td>1</td>\n",
       "    </tr>\n",
       "  </tbody>\n",
       "</table>\n",
       "<p>1 rows × 356 columns</p>\n",
       "</div>"
      ],
      "text/plain": [
       "         1         2         3         4         5         6         7  \\\n",
       "0  0.02593  0.058458  0.004948  0.028521 -0.045145  0.019482  0.046096   \n",
       "\n",
       "          8         9        10  ...        42        43        44        45  \\\n",
       "0  0.048495 -0.003999  0.003845  ...  0.002289 -0.000244 -0.000024  0.000166   \n",
       "\n",
       "         46       47        48        49        50  urls  \n",
       "0 -0.000151 -0.00102  0.000422  0.001585  0.001279     1  \n",
       "\n",
       "[1 rows x 356 columns]"
      ]
     },
     "execution_count": 163,
     "metadata": {},
     "output_type": "execute_result"
    }
   ],
   "source": [
    "test_df = new_data\n",
    "test_df"
   ]
  },
  {
   "cell_type": "markdown",
   "id": "35ca4e1a-a2b8-488c-a79a-cb47f62bcff4",
   "metadata": {},
   "source": [
    "## Random Forest Draft:"
   ]
  },
  {
   "cell_type": "code",
   "execution_count": 177,
   "id": "03f31358-ba36-4e72-ab13-88cae74d9c7e",
   "metadata": {
    "tags": []
   },
   "outputs": [],
   "source": [
    "class RandomForest:\n",
    "    def __init__(self, tree_count=10, max_depth=10, min_sample_split=2, feature_count=None):\n",
    "        self.tree_count = tree_count\n",
    "        self.max_depth = max_depth\n",
    "        self.min_sample_split = min_sample_split\n",
    "        self.feature_count = feature_count\n",
    "        self.trees = []\n",
    "        \n",
    "    def fit(self, X, y):\n",
    "        self.trees = []\n",
    "        \n",
    "        for _ in range(self.tree_count):\n",
    "            X_partial, y_partial = self.bootstrap(X, y)\n",
    "            X_subspace = self.subspace(X_partial)\n",
    "            rows = np.concatenate((X_subspace, y_partial), axis=1)\n",
    "            \n",
    "            tree = build_tree(rows, max_depth=self.max_depth, min_sample_split=self.min_sample_split)\n",
    "            self.trees.append(tree)\n",
    "        \n",
    "        \n",
    "    def bootstrap(self, X, y):\n",
    "        sample_count = X.shape[0]\n",
    "        row_index = np.random.choice(sample_count, sample_count, replace=True)\n",
    "        return X[row_index], y[row_index]\n",
    "        \n",
    "    \n",
    "    def subspace(self, X):\n",
    "        feature_index = np.random.choice(self.feature_count, int(self.feature_count**0.5), replace=False)\n",
    "        return X[:, feature_index]\n",
    "        \n",
    "        \n",
    "    def random_predict(self, X):\n",
    "        preds = np.array([predict(X, tree) for tree in self.trees])\n",
    "        final_preds = np.swapaxes(preds, 0, 1)\n",
    "        #Need to implement mode getter\n",
    "        values, counts = np.unique(final_preds[0], return_counts=True)\n",
    "        mode_index = np.argmax(counts)\n",
    "        mode_value = values[mode_index]\n",
    "        mode_count = counts[mode_index]/100\n",
    "        sol = np.array((mode_value,mode_count))\n",
    "        return sol"
   ]
  },
  {
   "cell_type": "code",
   "execution_count": 178,
   "id": "0feed11d-3ed0-4eb8-b2a6-16a9e9ceaf8c",
   "metadata": {
    "tags": []
   },
   "outputs": [
    {
     "name": "stdout",
     "output_type": "stream",
     "text": [
      "(31323, 356)\n",
      "(7831, 356)\n"
     ]
    }
   ],
   "source": [
    "X = data.to_numpy()[:,:-1]\n",
    "y = data.to_numpy()[:, -1].reshape(-1,1)\n",
    "X_train, X_test, y_train, y_test = train_test_split(X, y, test_size=0.2, random_state=42)\n",
    "print(X_train.shape)\n",
    "print(X_test.shape)"
   ]
  },
  {
   "cell_type": "code",
   "execution_count": 180,
   "id": "b8c6eafc-2ca8-4d4a-8ec5-5cb60cc412f1",
   "metadata": {
    "tags": []
   },
   "outputs": [],
   "source": [
    "my_forest = RandomForest(tree_count=30, max_depth=10, min_sample_split=2, feature_count=X_train.shape[1])\n",
    "my_forest.fit(X_train,y_train)"
   ]
  },
  {
   "cell_type": "code",
   "execution_count": 185,
   "id": "bbec5fe0-d3b9-4f02-98c1-62c70fe4daa7",
   "metadata": {
    "tags": []
   },
   "outputs": [
    {
     "name": "stdout",
     "output_type": "stream",
     "text": [
      "0.5022347082109565\n",
      "(7831, 2)\n",
      "(7831, 1)\n"
     ]
    }
   ],
   "source": [
    "arr = np.array([my_forest.random_predict(X) for X in X_test])\n",
    "acc_sum = 0\n",
    "for i in range(arr.shape[0]):\n",
    "    if y_test[i][0] == arr[i][0]:\n",
    "        acc_sum += 1\n",
    "\n",
    "print(acc_sum/arr.shape[0])\n",
    "print(arr.shape)\n",
    "print(y_test.shape)"
   ]
  }
 ],
 "metadata": {
  "kernelspec": {
   "display_name": "Python 3 (ipykernel)",
   "language": "python",
   "name": "python3"
  },
  "language_info": {
   "codemirror_mode": {
    "name": "ipython",
    "version": 3
   },
   "file_extension": ".py",
   "mimetype": "text/x-python",
   "name": "python",
   "nbconvert_exporter": "python",
   "pygments_lexer": "ipython3",
   "version": "3.11.5"
  }
 },
 "nbformat": 4,
 "nbformat_minor": 5
}
