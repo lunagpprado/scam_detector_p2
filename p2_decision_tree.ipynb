{
 "cells": [
  {
   "cell_type": "markdown",
   "id": "a1c0a0e4-2849-4a79-9b32-ee42c82b5232",
   "metadata": {},
   "source": [
    "# Scam Detector: Decision Tree"
   ]
  },
  {
   "cell_type": "markdown",
   "id": "0904a70d-a2f8-40e9-a4f5-ad7e7edb9011",
   "metadata": {},
   "source": [
    "    This Jupyter Notebook will be used to run a Decision Tree Algorithm to predict if a given email is a scam or a ham(a normal email)."
   ]
  },
  {
   "cell_type": "markdown",
   "id": "7158aa78-4c8c-45f5-af34-15071349526a",
   "metadata": {
    "tags": []
   },
   "source": [
    "## Import Packages"
   ]
  },
  {
   "cell_type": "code",
   "execution_count": 100,
   "id": "3bf4d050-2499-4995-820a-c0d13d2f1a6c",
   "metadata": {
    "tags": []
   },
   "outputs": [],
   "source": [
    "#import the packages we need\n",
    "import numpy as np\n",
    "import pandas as pd\n",
    "import matplotlib.pyplot as plt"
   ]
  },
  {
   "cell_type": "markdown",
   "id": "bc74f965-4e22-40d8-a5e8-8dbefe0a056e",
   "metadata": {},
   "source": [
    "## Retrieve Data"
   ]
  },
  {
   "cell_type": "code",
   "execution_count": 119,
   "id": "70cf40b4-84ee-4a4d-bf3d-614b31d84c2e",
   "metadata": {
    "tags": []
   },
   "outputs": [
    {
     "data": {
      "text/html": [
       "<div>\n",
       "<style scoped>\n",
       "    .dataframe tbody tr th:only-of-type {\n",
       "        vertical-align: middle;\n",
       "    }\n",
       "\n",
       "    .dataframe tbody tr th {\n",
       "        vertical-align: top;\n",
       "    }\n",
       "\n",
       "    .dataframe thead th {\n",
       "        text-align: right;\n",
       "    }\n",
       "</style>\n",
       "<table border=\"1\" class=\"dataframe\">\n",
       "  <thead>\n",
       "    <tr style=\"text-align: right;\">\n",
       "      <th></th>\n",
       "      <th>sepal_length</th>\n",
       "      <th>sepal_width</th>\n",
       "      <th>petal_length</th>\n",
       "      <th>petal_width</th>\n",
       "      <th>species</th>\n",
       "    </tr>\n",
       "  </thead>\n",
       "  <tbody>\n",
       "    <tr>\n",
       "      <th>0</th>\n",
       "      <td>5.1</td>\n",
       "      <td>3.5</td>\n",
       "      <td>1.4</td>\n",
       "      <td>0.2</td>\n",
       "      <td>0</td>\n",
       "    </tr>\n",
       "    <tr>\n",
       "      <th>1</th>\n",
       "      <td>4.9</td>\n",
       "      <td>3.0</td>\n",
       "      <td>1.4</td>\n",
       "      <td>0.2</td>\n",
       "      <td>0</td>\n",
       "    </tr>\n",
       "    <tr>\n",
       "      <th>2</th>\n",
       "      <td>4.7</td>\n",
       "      <td>3.2</td>\n",
       "      <td>1.3</td>\n",
       "      <td>0.2</td>\n",
       "      <td>0</td>\n",
       "    </tr>\n",
       "    <tr>\n",
       "      <th>3</th>\n",
       "      <td>4.6</td>\n",
       "      <td>3.1</td>\n",
       "      <td>1.5</td>\n",
       "      <td>0.2</td>\n",
       "      <td>0</td>\n",
       "    </tr>\n",
       "    <tr>\n",
       "      <th>4</th>\n",
       "      <td>5.0</td>\n",
       "      <td>3.6</td>\n",
       "      <td>1.4</td>\n",
       "      <td>0.2</td>\n",
       "      <td>0</td>\n",
       "    </tr>\n",
       "    <tr>\n",
       "      <th>...</th>\n",
       "      <td>...</td>\n",
       "      <td>...</td>\n",
       "      <td>...</td>\n",
       "      <td>...</td>\n",
       "      <td>...</td>\n",
       "    </tr>\n",
       "    <tr>\n",
       "      <th>95</th>\n",
       "      <td>5.7</td>\n",
       "      <td>3.0</td>\n",
       "      <td>4.2</td>\n",
       "      <td>1.2</td>\n",
       "      <td>1</td>\n",
       "    </tr>\n",
       "    <tr>\n",
       "      <th>96</th>\n",
       "      <td>5.7</td>\n",
       "      <td>2.9</td>\n",
       "      <td>4.2</td>\n",
       "      <td>1.3</td>\n",
       "      <td>1</td>\n",
       "    </tr>\n",
       "    <tr>\n",
       "      <th>97</th>\n",
       "      <td>6.2</td>\n",
       "      <td>2.9</td>\n",
       "      <td>4.3</td>\n",
       "      <td>1.3</td>\n",
       "      <td>1</td>\n",
       "    </tr>\n",
       "    <tr>\n",
       "      <th>98</th>\n",
       "      <td>5.1</td>\n",
       "      <td>2.5</td>\n",
       "      <td>3.0</td>\n",
       "      <td>1.1</td>\n",
       "      <td>1</td>\n",
       "    </tr>\n",
       "    <tr>\n",
       "      <th>99</th>\n",
       "      <td>5.7</td>\n",
       "      <td>2.8</td>\n",
       "      <td>4.1</td>\n",
       "      <td>1.3</td>\n",
       "      <td>1</td>\n",
       "    </tr>\n",
       "  </tbody>\n",
       "</table>\n",
       "<p>100 rows × 5 columns</p>\n",
       "</div>"
      ],
      "text/plain": [
       "    sepal_length  sepal_width  petal_length  petal_width  species\n",
       "0            5.1          3.5           1.4          0.2        0\n",
       "1            4.9          3.0           1.4          0.2        0\n",
       "2            4.7          3.2           1.3          0.2        0\n",
       "3            4.6          3.1           1.5          0.2        0\n",
       "4            5.0          3.6           1.4          0.2        0\n",
       "..           ...          ...           ...          ...      ...\n",
       "95           5.7          3.0           4.2          1.2        1\n",
       "96           5.7          2.9           4.2          1.3        1\n",
       "97           6.2          2.9           4.3          1.3        1\n",
       "98           5.1          2.5           3.0          1.1        1\n",
       "99           5.7          2.8           4.1          1.3        1\n",
       "\n",
       "[100 rows x 5 columns]"
      ]
     },
     "execution_count": 119,
     "metadata": {},
     "output_type": "execute_result"
    }
   ],
   "source": [
    "test_col_names = ['sepal_length', 'sepal_width', 'petal_length', 'petal_width', 'species']\n",
    "test_path = \"IRIS.csv\"\n",
    "test = pd.read_csv(path)\n",
    "test[\"species\"] = pd.factorize(test['species'])[0]\n",
    "test.head(100)"
   ]
  },
  {
   "cell_type": "code",
   "execution_count": 128,
   "id": "86056790-d9a7-4865-8a6b-d8441a8ff176",
   "metadata": {
    "tags": []
   },
   "outputs": [
    {
     "data": {
      "text/html": [
       "<div>\n",
       "<style scoped>\n",
       "    .dataframe tbody tr th:only-of-type {\n",
       "        vertical-align: middle;\n",
       "    }\n",
       "\n",
       "    .dataframe tbody tr th {\n",
       "        vertical-align: top;\n",
       "    }\n",
       "\n",
       "    .dataframe thead th {\n",
       "        text-align: right;\n",
       "    }\n",
       "</style>\n",
       "<table border=\"1\" class=\"dataframe\">\n",
       "  <thead>\n",
       "    <tr style=\"text-align: right;\">\n",
       "      <th></th>\n",
       "      <th>sender</th>\n",
       "      <th>receiver</th>\n",
       "      <th>date</th>\n",
       "      <th>subject</th>\n",
       "      <th>body</th>\n",
       "      <th>urls</th>\n",
       "      <th>label</th>\n",
       "    </tr>\n",
       "  </thead>\n",
       "  <tbody>\n",
       "    <tr>\n",
       "      <th>0</th>\n",
       "      <td>Young Esposito &lt;Young@iworld.de&gt;</td>\n",
       "      <td>user4@gvc.ceas-challenge.cc</td>\n",
       "      <td>Tue, 05 Aug 2008 16:31:02 -0700</td>\n",
       "      <td>Never agree to be a loser</td>\n",
       "      <td>Buck up, your troubles caused by small dimensi...</td>\n",
       "      <td>1</td>\n",
       "      <td>1</td>\n",
       "    </tr>\n",
       "    <tr>\n",
       "      <th>1</th>\n",
       "      <td>Mok &lt;ipline's1983@icable.ph&gt;</td>\n",
       "      <td>user2.2@gvc.ceas-challenge.cc</td>\n",
       "      <td>Tue, 05 Aug 2008 18:31:03 -0500</td>\n",
       "      <td>Befriend Jenna Jameson</td>\n",
       "      <td>\\nUpgrade your sex and pleasures with these te...</td>\n",
       "      <td>1</td>\n",
       "      <td>1</td>\n",
       "    </tr>\n",
       "    <tr>\n",
       "      <th>2</th>\n",
       "      <td>Daily Top 10 &lt;Karmandeep-opengevl@universalnet...</td>\n",
       "      <td>user2.9@gvc.ceas-challenge.cc</td>\n",
       "      <td>Tue, 05 Aug 2008 20:28:00 -1200</td>\n",
       "      <td>CNN.com Daily Top 10</td>\n",
       "      <td>&gt;+=+=+=+=+=+=+=+=+=+=+=+=+=+=+=+=+=+=+=+=+=+=+...</td>\n",
       "      <td>1</td>\n",
       "      <td>1</td>\n",
       "    </tr>\n",
       "    <tr>\n",
       "      <th>3</th>\n",
       "      <td>Michael Parker &lt;ivqrnai@pobox.com&gt;</td>\n",
       "      <td>SpamAssassin Dev &lt;xrh@spamassassin.apache.org&gt;</td>\n",
       "      <td>Tue, 05 Aug 2008 17:31:20 -0600</td>\n",
       "      <td>Re: svn commit: r619753 - in /spamassassin/tru...</td>\n",
       "      <td>Would anyone object to removing .so from this ...</td>\n",
       "      <td>1</td>\n",
       "      <td>0</td>\n",
       "    </tr>\n",
       "    <tr>\n",
       "      <th>4</th>\n",
       "      <td>Gretchen Suggs &lt;externalsep1@loanofficertool.com&gt;</td>\n",
       "      <td>user2.2@gvc.ceas-challenge.cc</td>\n",
       "      <td>Tue, 05 Aug 2008 19:31:21 -0400</td>\n",
       "      <td>SpecialPricesPharmMoreinfo</td>\n",
       "      <td>\\nWelcomeFastShippingCustomerSupport\\nhttp://7...</td>\n",
       "      <td>1</td>\n",
       "      <td>1</td>\n",
       "    </tr>\n",
       "    <tr>\n",
       "      <th>...</th>\n",
       "      <td>...</td>\n",
       "      <td>...</td>\n",
       "      <td>...</td>\n",
       "      <td>...</td>\n",
       "      <td>...</td>\n",
       "      <td>...</td>\n",
       "      <td>...</td>\n",
       "    </tr>\n",
       "    <tr>\n",
       "      <th>95</th>\n",
       "      <td>Brett Cannon &lt;liivp@python.org&gt;</td>\n",
       "      <td>ppcwedbyff@gmail.com</td>\n",
       "      <td>Tue, 05 Aug 2008 16:35:11 -0700</td>\n",
       "      <td>Re: [Python-Dev] Python-Dev Summary Draft (Apr...</td>\n",
       "      <td>On 4/24/07, Calvin Spealman  wrote:\\n&gt; I have ...</td>\n",
       "      <td>1</td>\n",
       "      <td>0</td>\n",
       "    </tr>\n",
       "    <tr>\n",
       "      <th>96</th>\n",
       "      <td>Calvin Spealman &lt;ppcwedbyff@gmail.com&gt;</td>\n",
       "      <td>Talin &lt;ovijn@acm.org&gt;</td>\n",
       "      <td>Tue, 05 Aug 2008 19:35:04 -0400</td>\n",
       "      <td>Re: [Python-Dev] Python-Dev Summary Draft (Apr...</td>\n",
       "      <td>On 4/24/07, Talin  wrote:\\n&gt; Calvin Spealman w...</td>\n",
       "      <td>1</td>\n",
       "      <td>0</td>\n",
       "    </tr>\n",
       "    <tr>\n",
       "      <th>97</th>\n",
       "      <td>Perl Jobs &lt;xycn-vtnhz@perl.org&gt;</td>\n",
       "      <td>necc@perl.org</td>\n",
       "      <td>Tue, 05 Aug 2008 09:10:33 -0800</td>\n",
       "      <td>[Perl Jobs] Top NYC LAMP shop / B2B mod_perl /...</td>\n",
       "      <td>Online URL for this job: http://jobs.perl.org/...</td>\n",
       "      <td>1</td>\n",
       "      <td>0</td>\n",
       "    </tr>\n",
       "    <tr>\n",
       "      <th>98</th>\n",
       "      <td>Nancy Graziano &lt;qgzon.djsmosok@gmail.com&gt;</td>\n",
       "      <td>bspsggvwcfmo-bvbmb@lists.sourceforge.net</td>\n",
       "      <td>Tue, 05 Aug 2008 18:35:55 -0500</td>\n",
       "      <td>[SM-USERS] SM 1.4.13 Configuration Question: M...</td>\n",
       "      <td>Good Evening,\\n\\nI have tried setting the Mail...</td>\n",
       "      <td>0</td>\n",
       "      <td>0</td>\n",
       "    </tr>\n",
       "    <tr>\n",
       "      <th>99</th>\n",
       "      <td>Your Voice &lt;vqznddhdkax_04446187@yourvoice.net...</td>\n",
       "      <td>user2.1@gvc.ceas-challenge.cc</td>\n",
       "      <td>Wed, 06 Aug 2008 09:35:46 +1000</td>\n",
       "      <td>ACNielsen Your Voice * 150 e-points for survey...</td>\n",
       "      <td>This email contains HTML that cannot be displa...</td>\n",
       "      <td>0</td>\n",
       "      <td>0</td>\n",
       "    </tr>\n",
       "  </tbody>\n",
       "</table>\n",
       "<p>100 rows × 7 columns</p>\n",
       "</div>"
      ],
      "text/plain": [
       "                                               sender  \\\n",
       "0                    Young Esposito <Young@iworld.de>   \n",
       "1                        Mok <ipline's1983@icable.ph>   \n",
       "2   Daily Top 10 <Karmandeep-opengevl@universalnet...   \n",
       "3                  Michael Parker <ivqrnai@pobox.com>   \n",
       "4   Gretchen Suggs <externalsep1@loanofficertool.com>   \n",
       "..                                                ...   \n",
       "95                    Brett Cannon <liivp@python.org>   \n",
       "96             Calvin Spealman <ppcwedbyff@gmail.com>   \n",
       "97                    Perl Jobs <xycn-vtnhz@perl.org>   \n",
       "98          Nancy Graziano <qgzon.djsmosok@gmail.com>   \n",
       "99  Your Voice <vqznddhdkax_04446187@yourvoice.net...   \n",
       "\n",
       "                                          receiver  \\\n",
       "0                      user4@gvc.ceas-challenge.cc   \n",
       "1                    user2.2@gvc.ceas-challenge.cc   \n",
       "2                    user2.9@gvc.ceas-challenge.cc   \n",
       "3   SpamAssassin Dev <xrh@spamassassin.apache.org>   \n",
       "4                    user2.2@gvc.ceas-challenge.cc   \n",
       "..                                             ...   \n",
       "95                            ppcwedbyff@gmail.com   \n",
       "96                           Talin <ovijn@acm.org>   \n",
       "97                                   necc@perl.org   \n",
       "98        bspsggvwcfmo-bvbmb@lists.sourceforge.net   \n",
       "99                   user2.1@gvc.ceas-challenge.cc   \n",
       "\n",
       "                               date  \\\n",
       "0   Tue, 05 Aug 2008 16:31:02 -0700   \n",
       "1   Tue, 05 Aug 2008 18:31:03 -0500   \n",
       "2   Tue, 05 Aug 2008 20:28:00 -1200   \n",
       "3   Tue, 05 Aug 2008 17:31:20 -0600   \n",
       "4   Tue, 05 Aug 2008 19:31:21 -0400   \n",
       "..                              ...   \n",
       "95  Tue, 05 Aug 2008 16:35:11 -0700   \n",
       "96  Tue, 05 Aug 2008 19:35:04 -0400   \n",
       "97  Tue, 05 Aug 2008 09:10:33 -0800   \n",
       "98  Tue, 05 Aug 2008 18:35:55 -0500   \n",
       "99  Wed, 06 Aug 2008 09:35:46 +1000   \n",
       "\n",
       "                                              subject  \\\n",
       "0                           Never agree to be a loser   \n",
       "1                              Befriend Jenna Jameson   \n",
       "2                                CNN.com Daily Top 10   \n",
       "3   Re: svn commit: r619753 - in /spamassassin/tru...   \n",
       "4                          SpecialPricesPharmMoreinfo   \n",
       "..                                                ...   \n",
       "95  Re: [Python-Dev] Python-Dev Summary Draft (Apr...   \n",
       "96  Re: [Python-Dev] Python-Dev Summary Draft (Apr...   \n",
       "97  [Perl Jobs] Top NYC LAMP shop / B2B mod_perl /...   \n",
       "98  [SM-USERS] SM 1.4.13 Configuration Question: M...   \n",
       "99  ACNielsen Your Voice * 150 e-points for survey...   \n",
       "\n",
       "                                                 body  urls  label  \n",
       "0   Buck up, your troubles caused by small dimensi...     1      1  \n",
       "1   \\nUpgrade your sex and pleasures with these te...     1      1  \n",
       "2   >+=+=+=+=+=+=+=+=+=+=+=+=+=+=+=+=+=+=+=+=+=+=+...     1      1  \n",
       "3   Would anyone object to removing .so from this ...     1      0  \n",
       "4   \\nWelcomeFastShippingCustomerSupport\\nhttp://7...     1      1  \n",
       "..                                                ...   ...    ...  \n",
       "95  On 4/24/07, Calvin Spealman  wrote:\\n> I have ...     1      0  \n",
       "96  On 4/24/07, Talin  wrote:\\n> Calvin Spealman w...     1      0  \n",
       "97  Online URL for this job: http://jobs.perl.org/...     1      0  \n",
       "98  Good Evening,\\n\\nI have tried setting the Mail...     0      0  \n",
       "99  This email contains HTML that cannot be displa...     0      0  \n",
       "\n",
       "[100 rows x 7 columns]"
      ]
     },
     "execution_count": 128,
     "metadata": {},
     "output_type": "execute_result"
    }
   ],
   "source": [
    "col_names = ['sender', 'receiver', 'date', 'subject', 'body', 'label', 'urls']\n",
    "path = \"./data/CEAS_08.csv\"\n",
    "data = pd.read_csv(path)\n",
    "col_names[-1], col_names[-2] = col_names[-2], col_names[-1]\n",
    "data = data[col_names]\n",
    "data.head(100)"
   ]
  },
  {
   "cell_type": "markdown",
   "id": "cbb3dd24-2d2c-44b9-ac8b-a19d2a9274ae",
   "metadata": {},
   "source": [
    "## Decision Class"
   ]
  },
  {
   "cell_type": "code",
   "execution_count": 129,
   "id": "51a30e7b-9f5b-499f-a970-a6a90897f6d6",
   "metadata": {},
   "outputs": [],
   "source": [
    "class Decision:\n",
    "    \"\"\" A decision is used to ask the question at a decision node to split the data.\n",
    "    This class records column number and values and matches the stored feature value to a give feature value\n",
    "    \"\"\"\n",
    "    \n",
    "    def __init__(self, feature_index, threshold):\n",
    "        self.feature_index = feature_index\n",
    "        self.threshold = threshold\n",
    "        \n",
    "    def ask(self, input):\n",
    "        # Compares input feature value to stored value\n",
    "        feature_val = input[self.feature_index]\n",
    "        if isinstance(feature_val, (int, float)):\n",
    "            return feature_val >= self.threshold\n",
    "        else:\n",
    "            return feature_val == self.threshold\n",
    "        "
   ]
  },
  {
   "cell_type": "markdown",
   "id": "cd5f4395-283e-4086-8403-750c64cec056",
   "metadata": {},
   "source": [
    "## Helper Functions for Splitting"
   ]
  },
  {
   "cell_type": "code",
   "execution_count": 130,
   "id": "9260ee4a-d7cb-4af6-b999-0c8d978b1d32",
   "metadata": {
    "tags": []
   },
   "outputs": [],
   "source": [
    "def divide_df(rows, decision):\n",
    "    # Partitions a data frame\n",
    "    # Check if each row matches decision, divide into true and false\n",
    "    \n",
    "    left, right = [], []\n",
    "    for row in rows:\n",
    "        left.append(row) if decision.ask(row) else right.append(row)\n",
    "    return left, right"
   ]
  },
  {
   "cell_type": "code",
   "execution_count": 131,
   "id": "b3e2dac2-d911-476c-9829-a32d714e81ac",
   "metadata": {
    "tags": []
   },
   "outputs": [],
   "source": [
    "def label_count(rows):\n",
    "    # Counts the number of each classification in data frame\n",
    "    label_counts = {}\n",
    "    for row in rows:\n",
    "        label = row[-1]\n",
    "        if label not in label_counts:\n",
    "            label_counts[label] = 0\n",
    "        label_counts[label] += 1\n",
    "    return label_counts"
   ]
  },
  {
   "cell_type": "code",
   "execution_count": 132,
   "id": "fac30633-31c2-4bbb-ac1c-3fb62889c962",
   "metadata": {
    "tags": []
   },
   "outputs": [],
   "source": [
    "def gini_impurity(rows):\n",
    "    #Calculates Gini Impurity for a data frame of rows.\n",
    "    \n",
    "    label_counts = label_count(rows)\n",
    "    gini = 1.0\n",
    "    for label in label_counts:\n",
    "        label_prob = label_counts[label]/float(len(rows))\n",
    "        gini -= label_prob**2\n",
    "    return gini"
   ]
  },
  {
   "cell_type": "code",
   "execution_count": 133,
   "id": "2c7863f0-afc2-447b-8931-5a1da1aa6cfb",
   "metadata": {
    "tags": []
   },
   "outputs": [],
   "source": [
    "def info_gain(left, right, curr_gini):\n",
    "    #Information gain: Gini of the root node subtracted by the impurty of the two children nodes.\n",
    "    prob = float(len(left) / (len(left) + len(right)))\n",
    "    return curr_gini - prob * gini_impurity(left) - (1 - prob) * gini_impurity(right)\n",
    "                 "
   ]
  },
  {
   "cell_type": "code",
   "execution_count": 134,
   "id": "a0f701e0-7ce2-49eb-b193-147a2d75344e",
   "metadata": {
    "tags": []
   },
   "outputs": [],
   "source": [
    "def info_gain_split(rows):\n",
    "    #Find best decision to make based on informaiton gain\n",
    "    highest_gain = 0\n",
    "    optimal_decision = None\n",
    "    curr_gini = gini_impurity(rows)\n",
    "    feature_count = len(rows[0]) -1\n",
    "    \n",
    "    for feature_index in range(0, feature_count):\n",
    "        \n",
    "        unique = set(row[feature_index] for row in rows) #unique column values\n",
    "        \n",
    "        for candidate in unique:\n",
    "            decision = Decision(feature_index, candidate)\n",
    "            \n",
    "            left, right = divide_df(rows, decision)\n",
    "            \n",
    "            #continue if no split\n",
    "            if(len(left) == 0 or len(right) == 0):\n",
    "                continue\n",
    "            \n",
    "            #information gain from this split\n",
    "            gain = info_gain(left, right, curr_gini)\n",
    "            \n",
    "            if gain > highest_gain:\n",
    "                highest_gain, optimal_decision = gain, decision\n",
    "                \n",
    "    return highest_gain, optimal_decision"
   ]
  },
  {
   "cell_type": "markdown",
   "id": "31e97671-bb4e-4938-acb7-26e7ef9fa6cc",
   "metadata": {},
   "source": [
    "## Build Tree and Node Classes"
   ]
  },
  {
   "cell_type": "code",
   "execution_count": 135,
   "id": "27e43030-1837-4a29-9654-ddf88ceed02c",
   "metadata": {
    "tags": []
   },
   "outputs": [],
   "source": [
    "class LeafNode:\n",
    "    # A leaf Node holdes classified data.\n",
    "    # Holds a dictionary with class counts in the leaf.\n",
    "    \n",
    "    def __init__(self,rows):\n",
    "        self.pred = label_count(rows)"
   ]
  },
  {
   "cell_type": "code",
   "execution_count": 136,
   "id": "87efda5b-d2c1-41fa-86bc-94824b7d985f",
   "metadata": {
    "tags": []
   },
   "outputs": [],
   "source": [
    "class DecisionNode:\n",
    "    # A Decision Node asks a Decision to be made.\n",
    "    # Holds reference to a Decision, and two child nodes.\n",
    "    \n",
    "    def __init__(self, decision, left, right):\n",
    "        self.decision = decision\n",
    "        self.left = left\n",
    "        self.right = right"
   ]
  },
  {
   "cell_type": "code",
   "execution_count": 137,
   "id": "ec9b89fa-2962-4318-8737-3da67ef0c922",
   "metadata": {
    "tags": []
   },
   "outputs": [],
   "source": [
    "def build_tree(rows):\n",
    "    # Recursively Builds tree.\n",
    "    \n",
    "    highest_gain, optimal_decision = info_gain_split(rows)\n",
    "    \n",
    "    #Base case no further gain\n",
    "    if highest_gain == 0:\n",
    "        return LeafNode(rows)\n",
    "    \n",
    "    #Found Partition\n",
    "    left, right = divide_df(rows, optimal_decision)\n",
    "    \n",
    "    #Recurse Left Subtree\n",
    "    left_subtree = build_tree(left)\n",
    "    \n",
    "    #Recurse Right Subtree\n",
    "    right_subtree = build_tree(right)\n",
    "    \n",
    "    #Return Decision Node\n",
    "    return DecisionNode(optimal_decision, left_subtree, right_subtree)"
   ]
  },
  {
   "cell_type": "code",
   "execution_count": 139,
   "id": "e38de2a7-05ac-409c-9afa-309ce7c643b2",
   "metadata": {
    "tags": []
   },
   "outputs": [],
   "source": [
    "df_list = data[0:100].values.tolist()\n",
    "my_tree = build_tree(df_list)"
   ]
  },
  {
   "cell_type": "code",
   "execution_count": 140,
   "id": "2f988394-3178-469b-bc9c-853ea393676b",
   "metadata": {
    "tags": []
   },
   "outputs": [],
   "source": [
    "def predict(row, curr_node):\n",
    "    #Base Case: Curr node is a leaf\n",
    "    if isinstance(curr_node, LeafNode):\n",
    "        return curr_node.pred\n",
    "    \n",
    "    #Recurse the left or right subtree\n",
    "    if curr_node.decision.ask(row):\n",
    "        return predict(row, curr_node.left)\n",
    "    else:\n",
    "        return predict(row, curr_node.right)"
   ]
  },
  {
   "cell_type": "code",
   "execution_count": 143,
   "id": "8bdf7afe-cc7d-4dfd-af0b-b2835d1af12b",
   "metadata": {
    "tags": []
   },
   "outputs": [
    {
     "data": {
      "text/plain": [
       "{0: 1}"
      ]
     },
     "execution_count": 143,
     "metadata": {},
     "output_type": "execute_result"
    }
   ],
   "source": [
    "predict(df_list[3], my_tree)"
   ]
  },
  {
   "cell_type": "code",
   "execution_count": null,
   "id": "f318626b-df78-46ef-8fb7-2baa7f903769",
   "metadata": {},
   "outputs": [],
   "source": []
  }
 ],
 "metadata": {
  "kernelspec": {
   "display_name": "Python 3 (ipykernel)",
   "language": "python",
   "name": "python3"
  },
  "language_info": {
   "codemirror_mode": {
    "name": "ipython",
    "version": 3
   },
   "file_extension": ".py",
   "mimetype": "text/x-python",
   "name": "python",
   "nbconvert_exporter": "python",
   "pygments_lexer": "ipython3",
   "version": "3.11.5"
  }
 },
 "nbformat": 4,
 "nbformat_minor": 5
}
